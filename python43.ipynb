{
  "nbformat": 4,
  "nbformat_minor": 0,
  "metadata": {
    "colab": {
      "name": "python43.ipynb",
      "provenance": [],
      "authorship_tag": "ABX9TyMAnIeDWZTWBcvxLFTTsMgP",
      "include_colab_link": true
    },
    "kernelspec": {
      "name": "python3",
      "display_name": "Python 3"
    },
    "language_info": {
      "name": "python"
    }
  },
  "cells": [
    {
      "cell_type": "markdown",
      "metadata": {
        "id": "view-in-github",
        "colab_type": "text"
      },
      "source": [
        "<a href=\"https://colab.research.google.com/github/minit88/Python/blob/main/python43.ipynb\" target=\"_parent\"><img src=\"https://colab.research.google.com/assets/colab-badge.svg\" alt=\"Open In Colab\"/></a>"
      ]
    },
    {
      "cell_type": "code",
      "execution_count": 26,
      "metadata": {
        "colab": {
          "base_uri": "https://localhost:8080/"
        },
        "id": "kCA4w8ff33HJ",
        "outputId": "814c2e4c-2749-4fc2-d74a-7ecf12f9b046"
      },
      "outputs": [
        {
          "output_type": "stream",
          "name": "stdout",
          "text": [
            "567\n",
            "210\n"
          ]
        }
      ],
      "source": [
        "#곱하기 혹은 더하기\n",
        "\n",
        "n=list(map(int,input()))\n",
        "result=0\n",
        "zero =False\n",
        "\n",
        "\n",
        "for i in n:\n",
        "  if i==0 : #0일 시에는 zero를 True\n",
        "    zero = True\n",
        "\n",
        "  elif zero ==True:  #zero 가 True 일 시에는 무조건 덧셈\n",
        "    result+=i\n",
        "    zero =False\n",
        "\n",
        "  elif zero ==False:\n",
        "    if result==0:\n",
        "      result+=i\n",
        "    elif i!= 1:\n",
        "      result *= i\n",
        "    elif i==1:\n",
        "      result+=1\n",
        "  \n",
        "    \n",
        "  \n",
        "  \n",
        "  \n",
        "\n",
        "print(result)\n"
      ]
    },
    {
      "cell_type": "code",
      "source": [
        "data = input()\n",
        "\n",
        "result = int(data[0])\n",
        "for i in range(1,len(data)):\n",
        "  num = int(data[i])\n",
        "  if num<= 1 or result <= 1:\n",
        "    result +=num\n",
        "  else:\n",
        "    result *= num\n",
        "\n",
        "print(result)"
      ],
      "metadata": {
        "colab": {
          "base_uri": "https://localhost:8080/"
        },
        "id": "QadgdvE0_Udt",
        "outputId": "29ef4b87-962b-4623-bbbe-cf86ba77ee4e"
      },
      "execution_count": 28,
      "outputs": [
        {
          "output_type": "stream",
          "name": "stdout",
          "text": [
            "02984\n",
            "0\n",
            "576\n"
          ]
        }
      ]
    }
  ]
}