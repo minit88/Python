{
  "nbformat": 4,
  "nbformat_minor": 0,
  "metadata": {
    "colab": {
      "name": "python77.ipynb",
      "provenance": [],
      "authorship_tag": "ABX9TyOudgErM67J5kw5OC7dn3AY",
      "include_colab_link": true
    },
    "kernelspec": {
      "name": "python3",
      "display_name": "Python 3"
    },
    "language_info": {
      "name": "python"
    }
  },
  "cells": [
    {
      "cell_type": "markdown",
      "metadata": {
        "id": "view-in-github",
        "colab_type": "text"
      },
      "source": [
        "<a href=\"https://colab.research.google.com/github/minit88/Python/blob/main/python77.ipynb\" target=\"_parent\"><img src=\"https://colab.research.google.com/assets/colab-badge.svg\" alt=\"Open In Colab\"/></a>"
      ]
    },
    {
      "cell_type": "code",
      "execution_count": null,
      "metadata": {
        "id": "pHDbQOBoIj4O"
      },
      "outputs": [],
      "source": [
        "#탑승구\n",
        "\n",
        "n=int(input())\n",
        "p=int(input())\n",
        "array = []\n",
        "for i in range(p):\n",
        "  array.append(int(input()))\n",
        "parent = [0]*(n+1)\n",
        "\n",
        "for i in range(1,1+n): #초기 부모는 자기자신으로 설정\n",
        "  parent[i]=i\n",
        "\n",
        "def find_parent(x):\n",
        "  if parent[x]!=x:\n",
        "    return find_parent(parent[x])\n",
        "  else:\n",
        "    return parent[x]\n",
        "\n",
        "def union_parent(x,y):\n",
        "  a= find_parent(x)\n",
        "  b= find_parent(y)\n",
        "  if a>b:\n",
        "    parent[x]=b\n",
        "  else:\n",
        "    parent[y]=a\n",
        "result=0\n",
        "for i in array:\n",
        "  if find_parent[i]==0: #0이 부모일 경우\n",
        "    break # 더이상 연결 할 수 없으니 종료\n",
        "  union_parent(find_parent(i),find_parent(i)-1) #왼쪽과 연결\n",
        "  result+=1\n",
        "print(result)"
      ]
    }
  ]
}