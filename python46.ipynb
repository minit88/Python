{
  "nbformat": 4,
  "nbformat_minor": 0,
  "metadata": {
    "colab": {
      "name": "python46.ipynb",
      "provenance": [],
      "authorship_tag": "ABX9TyNLyNYna6HR2yq/nZWFt0Sd",
      "include_colab_link": true
    },
    "kernelspec": {
      "name": "python3",
      "display_name": "Python 3"
    },
    "language_info": {
      "name": "python"
    }
  },
  "cells": [
    {
      "cell_type": "markdown",
      "metadata": {
        "id": "view-in-github",
        "colab_type": "text"
      },
      "source": [
        "<a href=\"https://colab.research.google.com/github/minit88/Python/blob/main/python46.ipynb\" target=\"_parent\"><img src=\"https://colab.research.google.com/assets/colab-badge.svg\" alt=\"Open In Colab\"/></a>"
      ]
    },
    {
      "cell_type": "code",
      "execution_count": 5,
      "metadata": {
        "colab": {
          "base_uri": "https://localhost:8080/"
        },
        "id": "e_d5FRKiPqsx",
        "outputId": "2c16fb1f-4963-41b2-b336-bea1a52d4bab"
      },
      "outputs": [
        {
          "output_type": "stream",
          "name": "stdout",
          "text": [
            "8 5\n",
            "1 5 4 3 2 4 5 2\n",
            "25\n"
          ]
        }
      ],
      "source": [
        "#볼링공 고르기\n",
        "\n",
        "n,m = map(int,input().split())\n",
        "array = list(map(int,input().split()))\n",
        "count=0\n",
        "for i in range(0,n-1): # 젤 끝을 제외한 범위까지\n",
        "  for j in range(i,n): # i 부터 끝까지\n",
        "    if array[j] == array[i]:\n",
        "      continue\n",
        "    elif array[j] != array[i]:\n",
        "      count+=1\n",
        "\n",
        "print(count)\n"
      ]
    },
    {
      "cell_type": "code",
      "source": [
        "n,m = map(int,input().split())\n",
        "array = list(map(int,input().split()))\n",
        "count=[0]*11\n",
        "result =0\n",
        "for i in array:\n",
        "  count[i] +=1\n",
        "\n",
        "for i in range(1,m+1):\n",
        "  n-=count[i] # n= b가 고르는 갯수\n",
        "  result += count[i]*n # a가 고르는 갯수x b가 고르는 갯수\n",
        "  \n",
        "\n",
        "print(result)\n"
      ],
      "metadata": {
        "colab": {
          "base_uri": "https://localhost:8080/"
        },
        "id": "IPxBX8QhUcoO",
        "outputId": "baf390d3-f9ec-4643-a453-957121c45463"
      },
      "execution_count": 8,
      "outputs": [
        {
          "output_type": "stream",
          "name": "stdout",
          "text": [
            "8 5\n",
            "1 5 4 3 2 4 5 2\n",
            "25\n"
          ]
        }
      ]
    }
  ]
}