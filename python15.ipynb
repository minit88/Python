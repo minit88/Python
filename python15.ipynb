{
  "nbformat": 4,
  "nbformat_minor": 0,
  "metadata": {
    "colab": {
      "name": "python15.ipynb",
      "provenance": [],
      "authorship_tag": "ABX9TyPUgC/b5253y8TNVums9O6k",
      "include_colab_link": true
    },
    "kernelspec": {
      "name": "python3",
      "display_name": "Python 3"
    },
    "language_info": {
      "name": "python"
    }
  },
  "cells": [
    {
      "cell_type": "markdown",
      "metadata": {
        "id": "view-in-github",
        "colab_type": "text"
      },
      "source": [
        "<a href=\"https://colab.research.google.com/github/minit88/Python/blob/main/python15.ipynb\" target=\"_parent\"><img src=\"https://colab.research.google.com/assets/colab-badge.svg\" alt=\"Open In Colab\"/></a>"
      ]
    },
    {
      "cell_type": "code",
      "execution_count": 11,
      "metadata": {
        "colab": {
          "base_uri": "https://localhost:8080/"
        },
        "id": "Jt-ROIvM2qC9",
        "outputId": "6d73407f-448a-47a0-dcd9-ad03c0308db2"
      },
      "outputs": [
        {
          "output_type": "stream",
          "name": "stdout",
          "text": [
            "5 6\n",
            "101010\n",
            "111111\n",
            "000001\n",
            "111111\n",
            "111111\n",
            "10\n"
          ]
        }
      ],
      "source": [
        "from collections import deque\n",
        "n,m = map(int,input().split())\n",
        "\n",
        "array = []\n",
        "for i in range(n):\n",
        "  array.append(list(map(int,input())))\n",
        "\n",
        "\n",
        "\n",
        "dx = [-1,1,0,0]\n",
        "dy = [0,0,-1,1]\n",
        "\n",
        "def bfs(x,y):\n",
        "  #큐 구현을 위해 deque 라이브러리 사용\n",
        "  queue = deque()\n",
        "  queue.append((x,y))\n",
        "  #큐가 빌 때까지 반복\n",
        "  while queue:\n",
        "    x,y = queue.popleft()\n",
        "    #현재 위치에서 네 방향으로의 위치확인\n",
        "    for i in range(4):\n",
        "      nx = x+ dx[i]\n",
        "      ny = y +dy[i] \n",
        "      if nx <0 or nx >=n or ny<0 or ny >=m:\n",
        "        continue\n",
        "      if array[nx][ny]==0:\n",
        "        continue\n",
        "      if array[nx][ny]==1:\n",
        "        array[nx][ny]= array[x][y]+1\n",
        "        queue.append((nx,ny))\n",
        "  return array[n-1][m-1]\n",
        "\n",
        "print(bfs(0,0))    \n",
        "\n",
        "  \n",
        "\n",
        "  "
      ]
    }
  ]
}