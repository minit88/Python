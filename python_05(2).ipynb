{
  "nbformat": 4,
  "nbformat_minor": 0,
  "metadata": {
    "colab": {
      "name": "python_05(2).ipynb",
      "provenance": [],
      "authorship_tag": "ABX9TyO/4F61ABb+7ckq1qIDAbnc",
      "include_colab_link": true
    },
    "kernelspec": {
      "name": "python3",
      "display_name": "Python 3"
    },
    "language_info": {
      "name": "python"
    }
  },
  "cells": [
    {
      "cell_type": "markdown",
      "metadata": {
        "id": "view-in-github",
        "colab_type": "text"
      },
      "source": [
        "<a href=\"https://colab.research.google.com/github/minit88/Python/blob/main/python_05(2).ipynb\" target=\"_parent\"><img src=\"https://colab.research.google.com/assets/colab-badge.svg\" alt=\"Open In Colab\"/></a>"
      ]
    },
    {
      "cell_type": "code",
      "execution_count": 14,
      "metadata": {
        "colab": {
          "base_uri": "https://localhost:8080/"
        },
        "id": "iFth2EoZ2Ici",
        "outputId": "e285bd73-3b33-4808-bf26-387e701b7432"
      },
      "outputs": [
        {
          "output_type": "stream",
          "name": "stdout",
          "text": [
            "5\n",
            "R R R R R R R\n",
            "1 5\n"
          ]
        }
      ],
      "source": [
        "n = int(input())\n",
        "x,y = 1,1\n",
        "plans = input().split()\n",
        "\n",
        "#L,R,U,D 에 따른 이동 방향\n",
        "dx= [0,0,-1,1]\n",
        "dy= [-1,1,0,0]\n",
        "move_types = ['L','R','U','D']\n",
        "\n",
        "#이동 계획을 하나씩 확인\n",
        "for plan in plans:\n",
        "  #이동 후 좌표 구하기\n",
        "  for i in range(len(move_types)):\n",
        "    if plan == move_types[i]:\n",
        "      nx = x + dx[i]\n",
        "      ny = y + dy[i]\n",
        "  #공간을 벗어나는 경우 무시\n",
        "  if nx < 1 or ny<1 or nx > n or ny > n:\n",
        "      continue\n",
        "  #이동 수행\n",
        "  x,y = nx,ny\n",
        "\n",
        "\n",
        "print(x,y)\n"
      ]
    }
  ]
}