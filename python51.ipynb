{
  "nbformat": 4,
  "nbformat_minor": 0,
  "metadata": {
    "colab": {
      "name": "python51.ipynb",
      "provenance": [],
      "authorship_tag": "ABX9TyNde5SpbjZRsRqL2VeDJWv7",
      "include_colab_link": true
    },
    "kernelspec": {
      "name": "python3",
      "display_name": "Python 3"
    },
    "language_info": {
      "name": "python"
    }
  },
  "cells": [
    {
      "cell_type": "markdown",
      "metadata": {
        "id": "view-in-github",
        "colab_type": "text"
      },
      "source": [
        "<a href=\"https://colab.research.google.com/github/minit88/Python/blob/main/python51.ipynb\" target=\"_parent\"><img src=\"https://colab.research.google.com/assets/colab-badge.svg\" alt=\"Open In Colab\"/></a>"
      ]
    },
    {
      "cell_type": "code",
      "execution_count": 16,
      "metadata": {
        "colab": {
          "base_uri": "https://localhost:8080/"
        },
        "id": "5BZsUeb9_0dJ",
        "outputId": "28e8e47c-ffb1-4b96-df71-72af0338025c"
      },
      "outputs": [
        {
          "output_type": "stream",
          "name": "stdout",
          "text": [
            "4 4 2 1\n",
            "1 2\n",
            "1 3\n",
            "2 3\n",
            "2 4\n",
            "4\n"
          ]
        }
      ],
      "source": [
        "from collections import deque\n",
        "\n",
        "n,m,k,x = map(int,input().split())\n",
        "#거리 정보를 담을 리스트\n",
        "distance=[-1]*(n+1)\n",
        "distance[x]=0 # 출발 지점 거리는 0\n",
        "\n",
        "#간선정보를 담을 리스트\n",
        "graph=[[]for _ in range(1+n)]\n",
        "for i in range(m):\n",
        "  a,b = map(int,input().split())\n",
        "  graph[a].append(b)\n",
        "\n",
        "#bfs(너비우선탐색)\n",
        "q= deque([x])\n",
        "while q:\n",
        "  now = q.popleft()\n",
        "  #현재 노드에서 연결된 노드 정보 확인\n",
        "  for next_node in graph[now]:\n",
        "    q.append(next_node)\n",
        "    if distance[next_node] == -1: #방문하지 않았을 때\n",
        "      distance[next_node]=distance[now]+1 # 현재까지 거리에서 1만큼 더한 것\n",
        "\n",
        "\n",
        "\n",
        "result=[]\n",
        "for i in range(1,n+1):\n",
        "  if distance[i]==k:\n",
        "    result.append(i)\n",
        "if len(result)==0:\n",
        "  print(-1)\n",
        "else:\n",
        "  for i in result:\n",
        "    print(i)\n",
        "\n",
        "\n",
        "\n",
        "\n",
        "\n",
        "\n",
        "\n",
        "\n",
        "\n",
        "\n",
        "\n",
        "\n",
        "\n"
      ]
    }
  ]
}