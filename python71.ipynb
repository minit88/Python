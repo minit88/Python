{
  "nbformat": 4,
  "nbformat_minor": 0,
  "metadata": {
    "colab": {
      "name": "python71.ipynb",
      "provenance": [],
      "authorship_tag": "ABX9TyMCtykUngINasM1HiZQUKi0",
      "include_colab_link": true
    },
    "kernelspec": {
      "name": "python3",
      "display_name": "Python 3"
    },
    "language_info": {
      "name": "python"
    }
  },
  "cells": [
    {
      "cell_type": "markdown",
      "metadata": {
        "id": "view-in-github",
        "colab_type": "text"
      },
      "source": [
        "<a href=\"https://colab.research.google.com/github/minit88/Python/blob/main/python71.ipynb\" target=\"_parent\"><img src=\"https://colab.research.google.com/assets/colab-badge.svg\" alt=\"Open In Colab\"/></a>"
      ]
    },
    {
      "cell_type": "code",
      "execution_count": 4,
      "metadata": {
        "colab": {
          "base_uri": "https://localhost:8080/"
        },
        "id": "oMlXrKO6MLHw",
        "outputId": "537fe6de-dbb6-447a-bfef-b076a8a3ca8e"
      },
      "outputs": [
        {
          "output_type": "stream",
          "name": "stdout",
          "text": [
            "10\n",
            "12\n"
          ]
        }
      ],
      "source": [
        "n=int(input())\n",
        "i2=i3=i5 = 0\n",
        "data = [0]*n\n",
        "data[0]=1\n",
        "#각 수열에서 2,3,5의 배수값의 오름차순\n",
        "for i in range(1,n):\n",
        "  next2 = 2*data[i2]\n",
        "  next3 = 3*data[i3]\n",
        "  next5 = 5*data[i5]\n",
        "  data[i] = min(next2,next3,next5)\n",
        "  if data[i] ==next2:\n",
        "    i2+=1\n",
        "  if data[i]==next3:\n",
        "    i3+=1\n",
        "  if data[i]==next5:\n",
        "    i5+=1\n",
        "print(data[n-1]) \n"
      ]
    }
  ]
}