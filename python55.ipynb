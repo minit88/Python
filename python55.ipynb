{
  "nbformat": 4,
  "nbformat_minor": 0,
  "metadata": {
    "colab": {
      "name": "python55.ipynb",
      "provenance": [],
      "authorship_tag": "ABX9TyNN6u4b24aPQxTB7H1vOcRN",
      "include_colab_link": true
    },
    "kernelspec": {
      "name": "python3",
      "display_name": "Python 3"
    },
    "language_info": {
      "name": "python"
    }
  },
  "cells": [
    {
      "cell_type": "markdown",
      "metadata": {
        "id": "view-in-github",
        "colab_type": "text"
      },
      "source": [
        "<a href=\"https://colab.research.google.com/github/minit88/Python/blob/main/python55.ipynb\" target=\"_parent\"><img src=\"https://colab.research.google.com/assets/colab-badge.svg\" alt=\"Open In Colab\"/></a>"
      ]
    },
    {
      "cell_type": "code",
      "execution_count": 32,
      "metadata": {
        "colab": {
          "base_uri": "https://localhost:8080/"
        },
        "id": "yZqRCNHknAqI",
        "outputId": "5610a4af-32e7-4ca3-b84c-4fc1c80a92fa"
      },
      "outputs": [
        {
          "output_type": "stream",
          "name": "stdout",
          "text": [
            "6\n",
            "1 2 3 4 5 6\n",
            "2 1 1 1\n",
            "54\n",
            "-24\n"
          ]
        }
      ],
      "source": [
        "from itertools import permutations\n",
        "\n",
        "#백준준 14888 연산자 끼워넣기기\n",
        "\n",
        "n = int(input())\n",
        "operater = []\n",
        "num_data=list(map(int,input().split()))\n",
        "a,b,c,d = map(int,input().split())\n",
        "count=0\n",
        "\n",
        "#연산자 개수 초기화\n",
        "for i in a,b,c,d:\n",
        "  for j in range(i):\n",
        "    operater.append(count)\n",
        "  count+=1\n",
        "operater=list(set(permutations(operater,n-1)))\n",
        "\n",
        "\n",
        "def solution():\n",
        "  answer=[]\n",
        "  result=int(1e9)\n",
        "  result_max = -int(1e9)\n",
        "  for i in operater:\n",
        "    count=1\n",
        "    now=0\n",
        "    now+=num_data[0]\n",
        "    for j in i:\n",
        "      if j ==0:\n",
        "        now+=num_data[count]\n",
        "        count+=1\n",
        "      if j==1:\n",
        "        now-=num_data[count]\n",
        "        count+=1\n",
        "      if j==2:\n",
        "        now *=num_data[count]\n",
        "        count+=1\n",
        "      if j==3:\n",
        "        if now<0:\n",
        "          now = (-1)*(abs(now)//num_data[count])\n",
        "        else:\n",
        "          now = now//num_data[count]\n",
        "        count+=1\n",
        "    result=min(now,result)\n",
        "    result_max=max(now,result_max)\n",
        "  answer.append(result_max)\n",
        "  answer.append(result)\n",
        "  return answer\n",
        "\n",
        "\n",
        "for i in solution():\n",
        "  print(i)\n",
        "\n"
      ]
    },
    {
      "cell_type": "code",
      "source": [
        "a=[1,2,3,3,3,3,4,5]\n",
        "a=list(set(a))\n",
        "print(a)"
      ],
      "metadata": {
        "colab": {
          "base_uri": "https://localhost:8080/"
        },
        "id": "vzkDbHx83GkE",
        "outputId": "7774b0c7-ecf2-4462-861b-388b87dd80b4"
      },
      "execution_count": 18,
      "outputs": [
        {
          "output_type": "stream",
          "name": "stdout",
          "text": [
            "[1, 2, 3, 4, 5]\n"
          ]
        }
      ]
    }
  ]
}