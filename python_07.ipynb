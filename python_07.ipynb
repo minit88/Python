{
  "nbformat": 4,
  "nbformat_minor": 0,
  "metadata": {
    "colab": {
      "name": "python-07.ipynb",
      "provenance": [],
      "authorship_tag": "ABX9TyOmlusBOqgq5o4/g8kxOtyP",
      "include_colab_link": true
    },
    "kernelspec": {
      "name": "python3",
      "display_name": "Python 3"
    },
    "language_info": {
      "name": "python"
    }
  },
  "cells": [
    {
      "cell_type": "markdown",
      "metadata": {
        "id": "view-in-github",
        "colab_type": "text"
      },
      "source": [
        "<a href=\"https://colab.research.google.com/github/minit88/Python/blob/main/python_07.ipynb\" target=\"_parent\"><img src=\"https://colab.research.google.com/assets/colab-badge.svg\" alt=\"Open In Colab\"/></a>"
      ]
    },
    {
      "cell_type": "code",
      "execution_count": 6,
      "metadata": {
        "colab": {
          "base_uri": "https://localhost:8080/"
        },
        "id": "3SBdE9G8gLdn",
        "outputId": "2616122d-e916-48e7-ba75-4c43a7d47742"
      },
      "outputs": [
        {
          "output_type": "stream",
          "name": "stdout",
          "text": [
            "a1\n",
            "2\n"
          ]
        }
      ],
      "source": [
        "input_data = input()\n",
        "row = int(input_data[1])\n",
        "column = int(ord(input_data[0])-int(ord('a')))+1\n",
        "count =0\n",
        "\n",
        "steps = [(-2,-1),(-1,-2),(1,-2),(2,-1),(2,1),(1,2),(-1,2),(-2,1)]\n",
        "\n",
        "for step in steps:\n",
        "  next_row = step[0] + row\n",
        "  next_column = step[1] + column\n",
        "  if next_row>=1 and next_column>=1 and next_row<=8 and next_column <=8 :\n",
        "    count+=1\n",
        "\n",
        "print(count)\n",
        "\n"
      ]
    }
  ]
}