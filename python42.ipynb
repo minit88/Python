{
  "nbformat": 4,
  "nbformat_minor": 0,
  "metadata": {
    "colab": {
      "name": "python42.ipynb",
      "provenance": [],
      "authorship_tag": "ABX9TyOkuR0mY3NYapob5DYTgFjX",
      "include_colab_link": true
    },
    "kernelspec": {
      "name": "python3",
      "display_name": "Python 3"
    },
    "language_info": {
      "name": "python"
    }
  },
  "cells": [
    {
      "cell_type": "markdown",
      "metadata": {
        "id": "view-in-github",
        "colab_type": "text"
      },
      "source": [
        "<a href=\"https://colab.research.google.com/github/minit88/Python/blob/main/python42.ipynb\" target=\"_parent\"><img src=\"https://colab.research.google.com/assets/colab-badge.svg\" alt=\"Open In Colab\"/></a>"
      ]
    },
    {
      "cell_type": "code",
      "execution_count": 26,
      "metadata": {
        "colab": {
          "base_uri": "https://localhost:8080/"
        },
        "id": "rf-TFPLQvB4u",
        "outputId": "67e5db43-4c17-4d80-aeac-06721ea2b014"
      },
      "outputs": [
        {
          "output_type": "stream",
          "name": "stdout",
          "text": [
            "5\n",
            "2 3 1 2 2 \n",
            "2\n"
          ]
        }
      ],
      "source": [
        "#그리디 모험가 길드\n",
        "n= int(input())\n",
        "\n",
        "array=list(map(int,input().split()))\n",
        "array.sort()\n",
        "count=0\n",
        "result =0\n",
        "\n",
        "for i in array:\n",
        "  count+=1\n",
        "  if count>=i:\n",
        "    result +=1\n",
        "    count=0\n",
        "\n",
        "print(result)\n",
        "\n"
      ]
    },
    {
      "cell_type": "code",
      "source": [
        "array = [2,3,1,2,2]\n",
        "array.sort()\n",
        "\n",
        "for i in range(array[-1]):\n",
        "  print(array.pop())\n",
        "count+=1\n",
        "num = array[len(array)-1]\n",
        "lg=len(array)\n",
        "print(num,lg)"
      ],
      "metadata": {
        "colab": {
          "base_uri": "https://localhost:8080/"
        },
        "id": "bQBsQ7yA0_Ak",
        "outputId": "c9e8aa20-bc87-4425-c8a8-3a1def65f8eb"
      },
      "execution_count": 24,
      "outputs": [
        {
          "output_type": "stream",
          "name": "stdout",
          "text": [
            "3\n",
            "2\n",
            "2\n",
            "2 2\n"
          ]
        }
      ]
    }
  ]
}