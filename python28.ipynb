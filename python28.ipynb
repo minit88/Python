{
  "nbformat": 4,
  "nbformat_minor": 0,
  "metadata": {
    "colab": {
      "name": "python28.ipynb",
      "provenance": [],
      "authorship_tag": "ABX9TyMEFY+5brRzmYAhceo5yhU8",
      "include_colab_link": true
    },
    "kernelspec": {
      "name": "python3",
      "display_name": "Python 3"
    },
    "language_info": {
      "name": "python"
    }
  },
  "cells": [
    {
      "cell_type": "markdown",
      "metadata": {
        "id": "view-in-github",
        "colab_type": "text"
      },
      "source": [
        "<a href=\"https://colab.research.google.com/github/minit88/Python/blob/main/python28.ipynb\" target=\"_parent\"><img src=\"https://colab.research.google.com/assets/colab-badge.svg\" alt=\"Open In Colab\"/></a>"
      ]
    },
    {
      "cell_type": "code",
      "execution_count": 9,
      "metadata": {
        "colab": {
          "base_uri": "https://localhost:8080/"
        },
        "id": "s2aRZlQMjvww",
        "outputId": "14eaa8e3-6d0b-41d0-97a0-feee16289f9c"
      },
      "outputs": [
        {
          "output_type": "stream",
          "name": "stdout",
          "text": [
            "4\n",
            "1 3 1 5\n",
            "8\n"
          ]
        }
      ],
      "source": [
        "#개미전사 dp 문제\n",
        "\n",
        "n = int(input())\n",
        "\n",
        "array = list(map(int,input().split()))\n",
        "dp = [0]*(n) # 인덱스 n까지 생성\n",
        "dp[0]=array[0]\n",
        "dp[1]=array[1]\n",
        "for i in range(2,n): # 2부터 n-1까지 반복\n",
        "  dp[i]=max(dp[i-1],dp[i-2]+array[i])\n",
        "print(dp[n-1]) # n-1 인덱스 즉, 결과 값 출력\n"
      ]
    }
  ]
}