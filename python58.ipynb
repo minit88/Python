{
  "nbformat": 4,
  "nbformat_minor": 0,
  "metadata": {
    "colab": {
      "name": "python58.ipynb",
      "provenance": [],
      "authorship_tag": "ABX9TyO8Tf/ZDtp50OCrVykLwAvt",
      "include_colab_link": true
    },
    "kernelspec": {
      "name": "python3",
      "display_name": "Python 3"
    },
    "language_info": {
      "name": "python"
    }
  },
  "cells": [
    {
      "cell_type": "markdown",
      "metadata": {
        "id": "view-in-github",
        "colab_type": "text"
      },
      "source": [
        "<a href=\"https://colab.research.google.com/github/minit88/Python/blob/main/python58.ipynb\" target=\"_parent\"><img src=\"https://colab.research.google.com/assets/colab-badge.svg\" alt=\"Open In Colab\"/></a>"
      ]
    },
    {
      "cell_type": "code",
      "execution_count": 16,
      "metadata": {
        "colab": {
          "base_uri": "https://localhost:8080/"
        },
        "id": "dqoOPlolXDml",
        "outputId": "809a45e4-44a0-4480-bbfb-834cdcff6f2d"
      },
      "outputs": [
        {
          "output_type": "stream",
          "name": "stdout",
          "text": [
            "{(1, 2), (1, 1)} 0\n",
            "{(2, 1), (2, 2)} 1\n",
            "{(1, 2), (1, 3)} 1\n",
            "{(1, 2), (2, 2)} 1\n",
            "{(1, 1), (2, 1)} 1\n",
            "{(2, 3), (2, 2)} 2\n",
            "{(1, 3), (2, 3)} 2\n",
            "{(3, 1), (2, 1)} 2\n",
            "{(2, 3), (3, 3)} 3\n",
            "{(3, 3), (4, 3)} 4\n",
            "{(4, 3), (5, 3)} 5\n",
            "{(5, 4), (4, 4)} 6\n",
            "{(4, 4), (4, 3)} 6\n",
            "{(5, 4), (5, 3)} 6\n",
            "{(5, 4), (5, 5)} 7\n"
          ]
        },
        {
          "output_type": "execute_result",
          "data": {
            "text/plain": [
              "7"
            ]
          },
          "metadata": {},
          "execution_count": 16
        }
      ],
      "source": [
        "from collections import deque\n",
        "\n",
        "dx = [1, -1, 0, 0]\n",
        "dy = [0, 0, 1, -1]\n",
        "\n",
        "def get_next_pos(pos,new_board):\n",
        "  next_pos = [] #이동가능한 위치들\n",
        "  pos = list(pos)\n",
        "  pos_x1,pos_y1,pos_x2,pos_y2 = pos[0][0],pos[0][1],pos[1][0],pos[1][1]\n",
        "  for i in range(4):\n",
        "    next_x1 , next_x2 , next_y1,next_y2 = pos_x1 + dx[i] , pos_x2 + dx[i] , pos_y1 + dy[i] , pos_y2+dy[i]\n",
        "    #이동하고자 하는 두칸이 비어있으면  \n",
        "    if new_board[next_x1][next_y1]==0 and new_board[next_x2][next_y2]==0:\n",
        "      next_pos.append({(next_x1,next_y1),(next_x2,next_y2)})\n",
        "  #로봇이 가로인 경우\n",
        "  if pos_x1 == pos_x2:\n",
        "    for i in[-1,1]: # 아래쪽으로 회전하거나 위쪽으로 회전\n",
        "      if new_board[pos_x1+i][pos_y1] == 0 and new_board[pos_x2+i][pos_y2]==0:\n",
        "        next_pos.append({(pos_x1,pos_y1),(pos_x1+i,pos_y1)})\n",
        "        next_pos.append({(pos_x2,pos_y2),(pos_x2+i,pos_y2)})\n",
        "  #로봇이 세로인 경우\n",
        "  elif pos_y1==pos_y2:\n",
        "    for i in [-1,1]:\n",
        "      if new_board[pos_x1][pos_y1+i] == 0 and new_board[pos_x2][pos_y2+i]==0:\n",
        "        next_pos.append({(pos_x1,pos_y1),(pos_x1,pos_y1+i)})\n",
        "        next_pos.append({(pos_x2,pos_y2),(pos_x2,pos_y2+i)})\n",
        "\n",
        "  return next_pos\n",
        "\n",
        "def solution(board):\n",
        "  n =len(board)\n",
        "  #board 를 1로 채워진 벽으로 둘러싸기\n",
        "  new_board = [[1]*(n+2) for _ in range(n+2)]\n",
        "  for i in range(n):\n",
        "    for j in range(n):\n",
        "      new_board[i+1][j+1] = board[i][j]\n",
        "  \n",
        "  #BFS 수행\n",
        "  pos = {(1,1),(1,2)} #set자료형으로 중복 허용 x\n",
        "  q=deque()\n",
        "  q.append((pos,0))\n",
        "  visited = [] #방문한 데이터 담기\n",
        "  visited.append(pos)\n",
        "\n",
        "  while q:\n",
        "    pos , cost =q.popleft()\n",
        "    if (n,n) in pos:\n",
        "      return cost\n",
        "    for next_pos in get_next_pos(pos,new_board):\n",
        "      if  next_pos not in visited:\n",
        "        q.append((next_pos,cost+1))\n",
        "        visited.append(next_pos)\n",
        "        \n",
        "\n",
        "  return 0    \n",
        "\n"
      ]
    }
  ]
}