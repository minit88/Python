{
  "nbformat": 4,
  "nbformat_minor": 0,
  "metadata": {
    "colab": {
      "name": "python16.ipynb",
      "provenance": [],
      "authorship_tag": "ABX9TyN1MBYOFjFXJhz0XMrRKoqB",
      "include_colab_link": true
    },
    "kernelspec": {
      "name": "python3",
      "display_name": "Python 3"
    },
    "language_info": {
      "name": "python"
    }
  },
  "cells": [
    {
      "cell_type": "markdown",
      "metadata": {
        "id": "view-in-github",
        "colab_type": "text"
      },
      "source": [
        "<a href=\"https://colab.research.google.com/github/minit88/Python/blob/main/python16.ipynb\" target=\"_parent\"><img src=\"https://colab.research.google.com/assets/colab-badge.svg\" alt=\"Open In Colab\"/></a>"
      ]
    },
    {
      "cell_type": "code",
      "execution_count": 2,
      "metadata": {
        "colab": {
          "base_uri": "https://localhost:8080/"
        },
        "id": "_87EpAj9bmen",
        "outputId": "646af482-d445-4bdd-a3b5-2338aff83409"
      },
      "outputs": [
        {
          "output_type": "stream",
          "name": "stdout",
          "text": [
            "[0, 1, 2, 3, 4, 5, 6, 7, 8, 9]\n"
          ]
        }
      ],
      "source": [
        "#선택정렬알고리즘\n",
        "\n",
        "array = [7,5,9,0,3,1,6,2,4,8]\n",
        "\n",
        "for i in range(len(array)):\n",
        "  min_index= i #가장 작은 원소\n",
        "  for j in range(i+1,len(array)):\n",
        "    if array[min_index]>array[j]:\n",
        "      min_index=j\n",
        "  array[i],array[min_index] = array[min_index],array[i]\n",
        "\n",
        "print(array)\n"
      ]
    },
    {
      "cell_type": "code",
      "source": [
        "#스와프 소스코드\n",
        "array = [3,5]\n",
        "array[0],array[1] = array[1],array[0]\n",
        "\n",
        "print(array)"
      ],
      "metadata": {
        "colab": {
          "base_uri": "https://localhost:8080/"
        },
        "id": "RlztXMEsct9Y",
        "outputId": "569f8801-994b-4603-bc0d-7b216f7ba5d2"
      },
      "execution_count": 3,
      "outputs": [
        {
          "output_type": "stream",
          "name": "stdout",
          "text": [
            "[5, 3]\n"
          ]
        }
      ]
    }
  ]
}