{
  "nbformat": 4,
  "nbformat_minor": 0,
  "metadata": {
    "colab": {
      "name": "Python60.ipynb",
      "provenance": [],
      "authorship_tag": "ABX9TyNWbstoC9bgGeBlsaehi579",
      "include_colab_link": true
    },
    "kernelspec": {
      "name": "python3",
      "display_name": "Python 3"
    },
    "language_info": {
      "name": "python"
    }
  },
  "cells": [
    {
      "cell_type": "markdown",
      "metadata": {
        "id": "view-in-github",
        "colab_type": "text"
      },
      "source": [
        "<a href=\"https://colab.research.google.com/github/minit88/Python/blob/main/Python60.ipynb\" target=\"_parent\"><img src=\"https://colab.research.google.com/assets/colab-badge.svg\" alt=\"Open In Colab\"/></a>"
      ]
    },
    {
      "cell_type": "code",
      "source": [
        "#백준18310\n",
        "\n",
        "n= int(input())\n",
        "array=list(map(int,input().split()))\n",
        "array.sort()\n",
        "if n %2 == 1:\n",
        "  print(array[n//2])\n",
        "else:\n",
        "  print(array[n//2-1])"
      ],
      "metadata": {
        "colab": {
          "base_uri": "https://localhost:8080/"
        },
        "id": "N57hjOp2wGW7",
        "outputId": "434bce3b-0c16-4f10-f6c5-0a42f5263f87"
      },
      "execution_count": 22,
      "outputs": [
        {
          "output_type": "stream",
          "name": "stdout",
          "text": [
            "4\n",
            "1 5 7 9\n",
            "5\n"
          ]
        }
      ]
    }
  ]
}