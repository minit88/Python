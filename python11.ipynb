{
  "nbformat": 4,
  "nbformat_minor": 0,
  "metadata": {
    "colab": {
      "name": "python11.ipynb",
      "provenance": [],
      "authorship_tag": "ABX9TyNcGlXU41vGefnSog2BFxBH",
      "include_colab_link": true
    },
    "kernelspec": {
      "name": "python3",
      "display_name": "Python 3"
    },
    "language_info": {
      "name": "python"
    }
  },
  "cells": [
    {
      "cell_type": "markdown",
      "metadata": {
        "id": "view-in-github",
        "colab_type": "text"
      },
      "source": [
        "<a href=\"https://colab.research.google.com/github/minit88/Python/blob/main/python11.ipynb\" target=\"_parent\"><img src=\"https://colab.research.google.com/assets/colab-badge.svg\" alt=\"Open In Colab\"/></a>"
      ]
    },
    {
      "cell_type": "code",
      "execution_count": 2,
      "metadata": {
        "colab": {
          "base_uri": "https://localhost:8080/"
        },
        "id": "H0RhowVnDnrZ",
        "outputId": "4e4280eb-9c84-4e9a-d5ea-c7ad902af21c"
      },
      "outputs": [
        {
          "output_type": "stream",
          "name": "stdout",
          "text": [
            "반복적으로구현: 120\n",
            "재귀적으로구현: 120\n"
          ]
        }
      ],
      "source": [
        "def factorial_iterative(n):\n",
        "  result =1\n",
        "\n",
        "  for i in range(1,n+1):\n",
        "    result*=i\n",
        "  return result\n",
        "\n",
        "def factorial_recursive(n):\n",
        "  if n<=1:\n",
        "    return 1\n",
        "  return n * factorial_recursive(n-1)\n",
        "\n",
        "print('반복적으로구현:',factorial_iterative(5))\n",
        "print('재귀적으로구현:',factorial_recursive(5))\n"
      ]
    }
  ]
}