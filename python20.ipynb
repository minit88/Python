{
  "nbformat": 4,
  "nbformat_minor": 0,
  "metadata": {
    "colab": {
      "name": "python20.ipynb",
      "provenance": [],
      "authorship_tag": "ABX9TyNMvvcIg8EtBSkJvCJnMxn/",
      "include_colab_link": true
    },
    "kernelspec": {
      "name": "python3",
      "display_name": "Python 3"
    },
    "language_info": {
      "name": "python"
    }
  },
  "cells": [
    {
      "cell_type": "markdown",
      "metadata": {
        "id": "view-in-github",
        "colab_type": "text"
      },
      "source": [
        "<a href=\"https://colab.research.google.com/github/minit88/Python/blob/main/python20.ipynb\" target=\"_parent\"><img src=\"https://colab.research.google.com/assets/colab-badge.svg\" alt=\"Open In Colab\"/></a>"
      ]
    },
    {
      "cell_type": "code",
      "execution_count": 3,
      "metadata": {
        "colab": {
          "base_uri": "https://localhost:8080/"
        },
        "id": "YUIpNauT-UdH",
        "outputId": "87301e23-e74f-46d6-9abf-856a499cd7ba"
      },
      "outputs": [
        {
          "output_type": "stream",
          "name": "stdout",
          "text": [
            "3\n",
            "15\n",
            "27\n",
            "12\n",
            "27 15 12 "
          ]
        }
      ],
      "source": [
        "n= int(input())\n",
        "data=[]\n",
        "for i in range(n):\n",
        "  data.append(int(input()))\n",
        "data.sort()\n",
        "data.reverse()\n",
        "for i in data:\n",
        "  print(i,end=' ')\n"
      ]
    }
  ]
}