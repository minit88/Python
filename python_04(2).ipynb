{
  "nbformat": 4,
  "nbformat_minor": 0,
  "metadata": {
    "colab": {
      "name": "python-04(2).ipynb",
      "provenance": [],
      "authorship_tag": "ABX9TyMCQ+y4mic3RzXiYJn+njDR",
      "include_colab_link": true
    },
    "kernelspec": {
      "name": "python3",
      "display_name": "Python 3"
    },
    "language_info": {
      "name": "python"
    }
  },
  "cells": [
    {
      "cell_type": "markdown",
      "metadata": {
        "id": "view-in-github",
        "colab_type": "text"
      },
      "source": [
        "<a href=\"https://colab.research.google.com/github/minit88/Python/blob/main/python_04(2).ipynb\" target=\"_parent\"><img src=\"https://colab.research.google.com/assets/colab-badge.svg\" alt=\"Open In Colab\"/></a>"
      ]
    },
    {
      "cell_type": "code",
      "source": [
        "n,k = map(int,input().split())\n",
        "result = 0\n",
        "\n",
        "while n>=k: # N이 K이상이라면 kfh 계속 나누기\n",
        "  while n%k!=0:\n",
        "    n-=1\n",
        "    result +=1\n",
        "  n//=k\n",
        "  result+=1\n",
        "\n",
        "while n>1: # 마지막으로 남은 수에 대하여 1씩 빼기\n",
        "  n-=1\n",
        "  result+=1\n",
        "\n",
        "print(result)\n"
      ],
      "metadata": {
        "colab": {
          "base_uri": "https://localhost:8080/"
        },
        "id": "eGMSzkkUhFhN",
        "outputId": "7f66e8cc-fa95-4ca7-aef6-648be2db12b8"
      },
      "execution_count": 6,
      "outputs": [
        {
          "output_type": "stream",
          "name": "stdout",
          "text": [
            "25 5 \n",
            "2\n"
          ]
        }
      ]
    }
  ]
}