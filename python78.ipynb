{
  "nbformat": 4,
  "nbformat_minor": 0,
  "metadata": {
    "colab": {
      "name": "python78.ipynb",
      "provenance": [],
      "authorship_tag": "ABX9TyNYd99/0Eoj2WjZWqMGxKRn",
      "include_colab_link": true
    },
    "kernelspec": {
      "name": "python3",
      "display_name": "Python 3"
    },
    "language_info": {
      "name": "python"
    }
  },
  "cells": [
    {
      "cell_type": "markdown",
      "metadata": {
        "id": "view-in-github",
        "colab_type": "text"
      },
      "source": [
        "<a href=\"https://colab.research.google.com/github/minit88/Python/blob/main/python78.ipynb\" target=\"_parent\"><img src=\"https://colab.research.google.com/assets/colab-badge.svg\" alt=\"Open In Colab\"/></a>"
      ]
    },
    {
      "cell_type": "code",
      "execution_count": null,
      "metadata": {
        "id": "NT0YPpEVw8YI"
      },
      "outputs": [],
      "source": [
        "#어두운 길 (최소 신장트리)\n",
        "\n",
        "n,m = map(int,input().split())\n",
        "array = []\n",
        "\n",
        "for i in range(m):\n",
        "  x,y,z = map(int,input().split())\n",
        "  array.append((z,x,y))\n",
        "\n",
        "parent = [0]*(n+1)\n",
        "for i in range(1,n+1):\n",
        "  parent[i]=i\n",
        "\n",
        "def find_parent(x):\n",
        "  if parent[x]!= x:\n",
        "    return find_parent(parent[x])\n",
        "  else:\n",
        "    return parent[x]\n",
        "\n",
        "def union_parent(x,y):\n",
        "  a= find_parent(x)\n",
        "  b=find_parent(y)\n",
        "  if a>b:\n",
        "    parent[x]=b\n",
        "  else:\n",
        "    parent[y]=a\n",
        "\n",
        "result = 0\n",
        "total = 0\n",
        "\n",
        "for cost,x,y in array:\n",
        "  total+=cost\n",
        "  #사이클이 발생하지 않을 경우에만\n",
        "  if find_parent(x)!=find_parent(y): \n",
        "    union_parent(x,y)\n",
        "    result+=cost\n",
        "print(total-result)\n"
      ]
    }
  ]
}