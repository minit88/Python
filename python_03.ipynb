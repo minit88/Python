{
  "nbformat": 4,
  "nbformat_minor": 0,
  "metadata": {
    "colab": {
      "name": "python-03.ipynb",
      "provenance": [],
      "authorship_tag": "ABX9TyNmT9cLXqj85GZGXjmuCU39",
      "include_colab_link": true
    },
    "kernelspec": {
      "name": "python3",
      "display_name": "Python 3"
    },
    "language_info": {
      "name": "python"
    }
  },
  "cells": [
    {
      "cell_type": "markdown",
      "metadata": {
        "id": "view-in-github",
        "colab_type": "text"
      },
      "source": [
        "<a href=\"https://colab.research.google.com/github/minit88/Python/blob/main/python_03.ipynb\" target=\"_parent\"><img src=\"https://colab.research.google.com/assets/colab-badge.svg\" alt=\"Open In Colab\"/></a>"
      ]
    },
    {
      "cell_type": "code",
      "execution_count": 3,
      "metadata": {
        "colab": {
          "base_uri": "https://localhost:8080/"
        },
        "id": "gBb9JLTAUc2g",
        "outputId": "9dae5945-9193-4899-810a-4adeb3fe865a"
      },
      "outputs": [
        {
          "output_type": "stream",
          "name": "stdout",
          "text": [
            "3 3\n",
            "1 3 5\n",
            "2 3 5\n",
            "1 4 6\n",
            "2\n"
          ]
        }
      ],
      "source": [
        "n,m = map(int,input().split())\n",
        "\n",
        "result = 0 # 출력 값\n",
        "\n",
        "for i in range(m):\n",
        "  data = list(map(int,input().split())) # 데이터 입력을 받음\n",
        "  data.sort() # 오름 차순 정렬\n",
        "  if result < data[0]: # 입력된 값이 기존 값 보다 크면 재정렬\n",
        "    result = data[0]\n",
        "\n",
        "print(result)"
      ]
    }
  ]
}