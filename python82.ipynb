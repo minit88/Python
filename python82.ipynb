{
  "nbformat": 4,
  "nbformat_minor": 0,
  "metadata": {
    "colab": {
      "name": "python82.ipynb",
      "provenance": [],
      "authorship_tag": "ABX9TyMAhFAp5fxSfy3a7+TH+DWw",
      "include_colab_link": true
    },
    "kernelspec": {
      "name": "python3",
      "display_name": "Python 3"
    },
    "language_info": {
      "name": "python"
    }
  },
  "cells": [
    {
      "cell_type": "markdown",
      "metadata": {
        "id": "view-in-github",
        "colab_type": "text"
      },
      "source": [
        "<a href=\"https://colab.research.google.com/github/minit88/Python/blob/main/python82.ipynb\" target=\"_parent\"><img src=\"https://colab.research.google.com/assets/colab-badge.svg\" alt=\"Open In Colab\"/></a>"
      ]
    },
    {
      "cell_type": "code",
      "execution_count": 11,
      "metadata": {
        "colab": {
          "base_uri": "https://localhost:8080/"
        },
        "id": "FOjzYtQEuVQ9",
        "outputId": "d9f55626-6798-4f36-8465-9edb944bed05"
      },
      "outputs": [
        {
          "output_type": "stream",
          "name": "stdout",
          "text": [
            "7 6 2 3 15 6 9 8\n",
            "3 1 1 8 14 7 10 1\n",
            "6 1 13 6 4 3 11 4\n",
            "16 1 8 7 5 2 12 2\n",
            "7\n"
          ]
        }
      ],
      "source": [
        "#청소년 상어\n",
        "#4x4 낮은 데이터 갯수로 완전탐색 (dfs)을 통해서 재귀적으로 계산\n",
        "import copy\n",
        "\n",
        "data = []\n",
        "array=[[None]*(4)for _ in range(4)]\n",
        "\n",
        "\n",
        "for i in range(4):\n",
        "  data=list(map(int,input().split()))\n",
        "  for j in range(4):\n",
        "    # 물고기 번호, 방향\n",
        "    array[i][j]=[data[j*2],data[j*2+1]-1]\n",
        "\n",
        "# 8가지 방향\n",
        "dx=[-1,-1,0,1,1,1,0,-1]\n",
        "dy=[0,-1,-1,-1,0,1,1,1]\n",
        "\n",
        "def turn_left(direction):\n",
        "  return (direction+1)%8\n",
        "\n",
        "result=0\n",
        "# 현재 배열에서 특정한 번호의 물고기 위치 찾기\n",
        "def fish(array,fish_count):\n",
        "  for i in range(4):\n",
        "    for j in range(4):\n",
        "      if array[i][j][0]==fish_count:\n",
        "        return (i,j)\n",
        "  return None\n",
        "\n",
        "# 모든 물고기를 회전 및 이동시키는 함수\n",
        "def move_all_fishes(array,now_x,now_y):\n",
        "  for count in range(1,17):\n",
        "    # 해당 물고기의 위치 찾기\n",
        "    position = fish(array,count)\n",
        "    if position!=None:\n",
        "      x,y = position[0],position[1]\n",
        "      direction = array[x][y][1]\n",
        "      for i in range(8):\n",
        "        nx = x+ dx[direction]\n",
        "        ny = y+ dy[direction]\n",
        "        if 0<=nx<4 and 0<=ny<4:\n",
        "          if not (nx==now_x and  ny==now_y):\n",
        "            array[x][y][1]=direction\n",
        "            array[x][y],array[nx][ny]=array[nx][ny],array[x][y]\n",
        "            break\n",
        "        direction = turn_left(direction)\n",
        "            \n",
        "        \n",
        "\n",
        "# 상어가 현재 위치에서 이동가능한 위치 반환하는 함수\n",
        "def get_possible_positions(array,now_x,now_y):\n",
        "  positions = []\n",
        "  direction=array[now_x][now_y][1]\n",
        "  for i in range(4):\n",
        "    now_x +=dx[direction]\n",
        "    now_y +=dy[direction]\n",
        "    if 0<=now_x<4 and 0<=now_y<4:\n",
        "      if array[now_x][now_y][0]!=-1: # 이동할 위치 중에서 물고기가 있을 경우에만\n",
        "        positions.append((now_x,now_y))\n",
        "  return positions\n",
        "\n",
        "\n",
        "def dfs(array,now_x,now_y,total):\n",
        "  global result\n",
        "  array=copy.deepcopy(array)\n",
        "  total+=array[now_x][now_y][0] # 현재 위치의 물고기 먹기\n",
        "  array[now_x][now_y][0]=-1 # 먹었으므로 번호 값을 -1\n",
        "  \n",
        "\n",
        "  # 물고기가 이동할 차례\n",
        "  move_all_fishes(array,now_x,now_y)\n",
        "\n",
        "  # 상어가 이동할 차례\n",
        "  positions=get_possible_positions(array,now_x,now_y)\n",
        "  if len(positions)==0: # 더이상 상어가 이동이 불가능할 때 결과값 갱신\n",
        "    result = max(result,total)\n",
        "    return \n",
        "  for next_x,next_y in positions:\n",
        "      dfs(array,next_x,next_y,total)\n",
        "\n",
        "dfs(array,0,0,0)\n",
        "print(result)\n",
        "\n"
      ]
    }
  ]
}