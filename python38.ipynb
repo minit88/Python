{
  "nbformat": 4,
  "nbformat_minor": 0,
  "metadata": {
    "colab": {
      "name": "python38.ipynb",
      "provenance": [],
      "authorship_tag": "ABX9TyOq9DzVA91ADMo5GGmHWeNb",
      "include_colab_link": true
    },
    "kernelspec": {
      "name": "python3",
      "display_name": "Python 3"
    },
    "language_info": {
      "name": "python"
    }
  },
  "cells": [
    {
      "cell_type": "markdown",
      "metadata": {
        "id": "view-in-github",
        "colab_type": "text"
      },
      "source": [
        "<a href=\"https://colab.research.google.com/github/minit88/Python/blob/main/python38.ipynb\" target=\"_parent\"><img src=\"https://colab.research.google.com/assets/colab-badge.svg\" alt=\"Open In Colab\"/></a>"
      ]
    },
    {
      "cell_type": "code",
      "execution_count": 6,
      "metadata": {
        "colab": {
          "base_uri": "https://localhost:8080/"
        },
        "id": "828VhvV1_LKu",
        "outputId": "00b26baf-09d2-473f-da74-be48a3afa6fb"
      },
      "outputs": [
        {
          "output_type": "stream",
          "name": "stdout",
          "text": [
            "7 8\n",
            "1 2\n",
            "1 5\n",
            "2 3\n",
            "2 6\n",
            "3 4\n",
            "4 7\n",
            "5 6\n",
            "6 4\n",
            "1 2 5 3 6 4 7 "
          ]
        }
      ],
      "source": [
        "from collections import deque\n",
        "\n",
        "#노드의 개수와 간선의 개수를 입력받기\n",
        "v,e = map(int,input().split())\n",
        "#모든 노드에 대한 진입차수는 0으로 초기화\n",
        "indegree=[0]*(v+1)\n",
        "#각 노드에 연결된 간선 정보를 담기 위한 연결 리스트(그래프) 초기화\n",
        "graph = [[]for i in range(v+1)]\n",
        "\n",
        "#방향 그래프의 모든 간선 정보를 입력받기\n",
        "for _ in range(e):\n",
        "  a,b = map(int,input().split())\n",
        "  #노드 a에서 b로 진출가능\n",
        "  graph[a].append(b)\n",
        "  indegree[b]+=1\n",
        "\n",
        "#위상 정렬 함수\n",
        "def topology_sort():\n",
        "  result =[] #수행 결과를 담을 리스트\n",
        "  q = deque() #큐 기능을 위한 deque 라이브러리 사용\n",
        "\n",
        "  #처음 시작할 때는 진입차수가 0인 노드를 큐에 삽입\n",
        "  for i in range(1,v+1):\n",
        "    if indegree[i]==0:\n",
        "      q.append(i)\n",
        "\n",
        "\n",
        "  #큐가 빌 때까지 반복\n",
        "  while q:\n",
        "    #큐에서 원소 꺼내기\n",
        "    now = q.popleft()\n",
        "    result.append(now)\n",
        "    #해당 원소와 연결된 노드들의 진입차수 1씩 빼기\n",
        "    for i in graph[now]:\n",
        "      indegree[i]-=1\n",
        "      #새롭게 진입차수가 0이 되는 노드를 큐에 삽입\n",
        "      if indegree[i]==0:\n",
        "        q.append(i)\n",
        "  #위상 정렬을 수행한 결과 출력\n",
        "  for i in result:\n",
        "    print(i,end=' ')\n",
        "\n",
        "topology_sort()\n"
      ]
    }
  ]
}