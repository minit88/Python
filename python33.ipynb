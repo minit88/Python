{
  "nbformat": 4,
  "nbformat_minor": 0,
  "metadata": {
    "colab": {
      "name": "python33.ipynb",
      "provenance": [],
      "authorship_tag": "ABX9TyMLccAI42ScBYIitUqgrR+g",
      "include_colab_link": true
    },
    "kernelspec": {
      "name": "python3",
      "display_name": "Python 3"
    },
    "language_info": {
      "name": "python"
    }
  },
  "cells": [
    {
      "cell_type": "markdown",
      "metadata": {
        "id": "view-in-github",
        "colab_type": "text"
      },
      "source": [
        "<a href=\"https://colab.research.google.com/github/minit88/Python/blob/main/python33.ipynb\" target=\"_parent\"><img src=\"https://colab.research.google.com/assets/colab-badge.svg\" alt=\"Open In Colab\"/></a>"
      ]
    },
    {
      "cell_type": "code",
      "execution_count": 1,
      "metadata": {
        "colab": {
          "base_uri": "https://localhost:8080/"
        },
        "id": "32zbQhoyixQm",
        "outputId": "ffe32bc5-b74a-4b7b-e10a-65d721760bc4"
      },
      "outputs": [
        {
          "output_type": "stream",
          "name": "stdout",
          "text": [
            "4\n",
            "7\n",
            "1 2 4\n",
            "1 4 6\n",
            "2 1 3\n",
            "2 3 7\n",
            "3 1 5\n",
            "3 4 4\n",
            "4 3 2\n",
            "0 4 8 6 \n",
            "3 0 7 9 \n",
            "5 9 0 4 \n",
            "7 11 2 0 \n"
          ]
        }
      ],
      "source": [
        "INF = int(1e9)\n",
        "\n",
        "#노드의 개수 및 간선의 개수를 입력받기\n",
        "n= int(input())\n",
        "m= int(input())\n",
        "#2차원 리스트를 만들고, 무한으로 초기화\n",
        "graph = [[INF] *(n+1) for _ in range(n+1)]\n",
        "#자기 자신에서 자기 자신으로 가는 비용은 0으로 초기화\n",
        "for a in range(1,n+1):\n",
        "  for b in range(1,n+1):\n",
        "    if a==b:\n",
        "      graph[a][b]=0\n",
        "  \n",
        "#각 간선에 대한 정보를 입력 받아, 그 값으로 초기화\n",
        "for i in range(m):\n",
        "  #a에서 b로 가는 비용은 c로 저장\n",
        "  a,b,c = map(int,input().split())\n",
        "  graph[a][b]=c\n",
        "\n",
        "#점화식에 따라 플로이드 워셜 알고리즘 수행\n",
        "for k in range(1,n+1):\n",
        "  for a in range(1,n+1):\n",
        "    for b in range(1,n+1):\n",
        "      graph[a][b]=min(graph[a][b],graph[a][k]+graph[k][b])\n",
        "\n",
        "#수행된 결과를 출력\n",
        "for a in range(1,n+1):\n",
        "  for b in range(1,n+1):\n",
        "    if graph[a][b]==INF:\n",
        "      print(\"INFINITY\")\n",
        "    else:\n",
        "      print(graph[a][b],end=' ')\n",
        "  print()\n"
      ]
    }
  ]
}