{
  "nbformat": 4,
  "nbformat_minor": 0,
  "metadata": {
    "colab": {
      "name": "python79.ipynb",
      "provenance": [],
      "authorship_tag": "ABX9TyN0voa6a0Qa8BucSQLV0Y4A",
      "include_colab_link": true
    },
    "kernelspec": {
      "name": "python3",
      "display_name": "Python 3"
    },
    "language_info": {
      "name": "python"
    }
  },
  "cells": [
    {
      "cell_type": "markdown",
      "metadata": {
        "id": "view-in-github",
        "colab_type": "text"
      },
      "source": [
        "<a href=\"https://colab.research.google.com/github/minit88/Python/blob/main/python79.ipynb\" target=\"_parent\"><img src=\"https://colab.research.google.com/assets/colab-badge.svg\" alt=\"Open In Colab\"/></a>"
      ]
    },
    {
      "cell_type": "code",
      "execution_count": null,
      "metadata": {
        "id": "wlJC0NXA4hDs"
      },
      "outputs": [],
      "source": [
        "#행성터널문제\n",
        "\n",
        "n=int(input())\n",
        "x=[]\n",
        "y=[]\n",
        "z=[]\n",
        "for i in range(1,n+1):\n",
        "  a,b,c=map(int,input().split())\n",
        "  x.append((a,i))\n",
        "  y.append((b,i))\n",
        "  z.append((c,i))\n",
        "x.sort()\n",
        "y.sort()\n",
        "z.sort()\n",
        "\n",
        "#간선정보를 만들어주기\n",
        "edges = []\n",
        "for i in range(n-1):\n",
        "  edges.append((abs(x[i][0]-x[i+1][0]),x[i][1],x[i+1][1]))\n",
        "  edges.append((abs(y[i][0]-y[i+1][0]),y[i][1],y[i+1][1]))\n",
        "  edges.append((abs(z[i][0]-z[i+1][0]),z[i][1],z[i+1][1]))\n",
        "edges.sort()\n",
        "\n",
        "#부모테이블 생성\n",
        "parent = [0]*(n+1)\n",
        "for i in range(1,n+1):\n",
        "  parent[i]=i\n",
        "\n",
        "def find_parent(x):\n",
        "  if parent[x]!=x:\n",
        "    return find_parent(parent[x])\n",
        "  else:\n",
        "    return parent[x]\n",
        "\n",
        "def union_parent(x,y):\n",
        "  a = find_parent(x)\n",
        "  b = find_parent(y)\n",
        "  if a>b:\n",
        "    parent[x]=b\n",
        "  else:\n",
        "    parent[y]=a\n",
        "\n",
        "\n",
        "result =0\n",
        "for cost,x,y in edges :\n",
        "  #사이클이 발생하지 않는 경우(처리 된 적이 없을 경우)\n",
        "  if find_parent(x)!=find_parent(y):\n",
        "    union_parent(x,y)\n",
        "    result+=cost\n",
        "print(result)\n"
      ]
    }
  ]
}