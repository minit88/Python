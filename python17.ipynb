{
  "nbformat": 4,
  "nbformat_minor": 0,
  "metadata": {
    "colab": {
      "name": "python17.ipynb",
      "provenance": [],
      "authorship_tag": "ABX9TyPTh+HCDobsWIgnRZ3z1qQV",
      "include_colab_link": true
    },
    "kernelspec": {
      "name": "python3",
      "display_name": "Python 3"
    },
    "language_info": {
      "name": "python"
    }
  },
  "cells": [
    {
      "cell_type": "markdown",
      "metadata": {
        "id": "view-in-github",
        "colab_type": "text"
      },
      "source": [
        "<a href=\"https://colab.research.google.com/github/minit88/Python/blob/main/python17.ipynb\" target=\"_parent\"><img src=\"https://colab.research.google.com/assets/colab-badge.svg\" alt=\"Open In Colab\"/></a>"
      ]
    },
    {
      "cell_type": "code",
      "execution_count": 6,
      "metadata": {
        "colab": {
          "base_uri": "https://localhost:8080/"
        },
        "id": "eY9jf3AIkmHu",
        "outputId": "61ed78ce-15c6-4159-cf74-c35a9f007402"
      },
      "outputs": [
        {
          "output_type": "stream",
          "name": "stdout",
          "text": [
            "[5, 4, 9, 0, 3, 1, 6, 2, 7, 8]\n",
            "[5, 4, 2, 0, 3, 1, 6, 9, 7, 8]\n",
            "[1, 4, 2, 0, 3, 5, 6, 9, 7, 8]\n",
            "[1, 0, 2, 4, 3, 5, 6, 9, 7, 8]\n",
            "[0, 1, 2, 4, 3, 5, 6, 9, 7, 8]\n",
            "[0, 1, 2, 4, 3, 5, 6, 9, 7, 8]\n",
            "[0, 1, 2, 3, 4, 5, 6, 9, 7, 8]\n",
            "[0, 1, 2, 3, 4, 5, 6, 9, 7, 8]\n",
            "[0, 1, 2, 3, 4, 5, 6, 8, 7, 9]\n",
            "[0, 1, 2, 3, 4, 5, 6, 7, 8, 9]\n"
          ]
        }
      ],
      "source": [
        "#퀵정렬 소스코드\n",
        "\n",
        "array = [5,7,9,0,3,1,6,2,4,8]\n",
        "\n",
        "def quick_sort(array,start_index,end_index):\n",
        "  if start_index>=end_index: # 원소가 1개인 경우 종료\n",
        "    return\n",
        "  pivot = start_index # 피벗은 첫번째 원소\n",
        "  left = start_index +1\n",
        "  right = end_index\n",
        "  while left <= right:\n",
        "    #피벗보다 큰 데이터를 찾을 때까지 반복\n",
        "    while left <= end_index and array[left]<=array[pivot]:\n",
        "      left+=1\n",
        "    #피벗보다 작은 데이터를 찾을 때까지 반복\n",
        "    while right>start_index and array[right]>=array[pivot]:\n",
        "      right-=1\n",
        "    if left > right :\n",
        "      array[right],array[pivot]=array[pivot],array[right]\n",
        "    else:\n",
        "      array[left],array[right]=array[right],array[left]\n",
        "    print(array)\n",
        "    #분할 이후 왼쪽 부분과 오른쪽 부분에서 각각 정렬 수행\n",
        "  quick_sort(array,start_index,right-1)\n",
        "  quick_sort(array,right+1,end_index)\n",
        "\n",
        "quick_sort(array,0,len(array)-1)\n"
      ]
    }
  ]
}