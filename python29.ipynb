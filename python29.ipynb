{
  "nbformat": 4,
  "nbformat_minor": 0,
  "metadata": {
    "colab": {
      "name": "python29.ipynb",
      "provenance": [],
      "authorship_tag": "ABX9TyP2h6iLbCkbgthNKAV2w4rF",
      "include_colab_link": true
    },
    "kernelspec": {
      "name": "python3",
      "display_name": "Python 3"
    },
    "language_info": {
      "name": "python"
    }
  },
  "cells": [
    {
      "cell_type": "markdown",
      "metadata": {
        "id": "view-in-github",
        "colab_type": "text"
      },
      "source": [
        "<a href=\"https://colab.research.google.com/github/minit88/Python/blob/main/python29.ipynb\" target=\"_parent\"><img src=\"https://colab.research.google.com/assets/colab-badge.svg\" alt=\"Open In Colab\"/></a>"
      ]
    },
    {
      "cell_type": "code",
      "execution_count": 25,
      "metadata": {
        "colab": {
          "base_uri": "https://localhost:8080/"
        },
        "id": "cMwnFR9Cj_E8",
        "outputId": "0c2f23b5-ec6f-472f-df93-1e7b3cd6c073"
      },
      "outputs": [
        {
          "output_type": "stream",
          "name": "stdout",
          "text": [
            "3\n",
            "5\n"
          ]
        }
      ],
      "source": [
        "#바닥공사 dp문제\n",
        "#점화식을 찾기 위해 n-1일 때를 생각해보면, n-1와 2x1이 있고\n",
        "#n-2일 때는 n-2와 2x2,1x2 이 있다. 2x1은 n-1와 중복되기 때문에 이 경우를 포함하지 않는다. 그리고 n-3일 때는 최대 사각형이 2x2이므로 n-1와 중복되게 된다.\n",
        "\n",
        "\n",
        "n=int(input())\n",
        "dp=[0]*(n+1)\n",
        "\n",
        "d[1]=1\n",
        "d[2]=3\n",
        "\n",
        "for i in range(3,n+1):\n",
        "  d[i]=(d[i-1]+2*d[i-2])%796796\n",
        "\n",
        "print(d[n])"
      ]
    }
  ]
}