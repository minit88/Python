{
  "nbformat": 4,
  "nbformat_minor": 0,
  "metadata": {
    "colab": {
      "name": "python-08.ipynb",
      "provenance": [],
      "authorship_tag": "ABX9TyOASV3k0fQDf00Ey1FJhUod",
      "include_colab_link": true
    },
    "kernelspec": {
      "name": "python3",
      "display_name": "Python 3"
    },
    "language_info": {
      "name": "python"
    }
  },
  "cells": [
    {
      "cell_type": "markdown",
      "metadata": {
        "id": "view-in-github",
        "colab_type": "text"
      },
      "source": [
        "<a href=\"https://colab.research.google.com/github/minit88/Python/blob/main/python_08.ipynb\" target=\"_parent\"><img src=\"https://colab.research.google.com/assets/colab-badge.svg\" alt=\"Open In Colab\"/></a>"
      ]
    },
    {
      "cell_type": "code",
      "execution_count": 4,
      "metadata": {
        "colab": {
          "base_uri": "https://localhost:8080/"
        },
        "id": "09wSXvy-ooKy",
        "outputId": "12b25398-15e6-4ea1-d62e-b61d695ae050"
      },
      "outputs": [
        {
          "output_type": "stream",
          "name": "stdout",
          "text": [
            "4 4\n",
            "1 1 0\n",
            "1 1 1 1\n",
            "1 0 0 1\n",
            "1 1 0 1\n",
            "1 1 1 1\n",
            "3\n"
          ]
        }
      ],
      "source": [
        "n,m = map(int,input().split())\n",
        "#방문한 위치를 저장하기 위한 맵을 생성하여 0으로 초기화\n",
        "d = [[0]*m for _ in range(n)]\n",
        "\n",
        "x,y,direction = map(int,input().split())\n",
        "d[x][y]=1\n",
        "\n",
        "array=[]\n",
        "for i in range(n):\n",
        "  array.append(list(map(int,input().split())))\n",
        "\n",
        "#북,동,남,서서\n",
        "dx = [-1,0,1,0]\n",
        "dy=[0,1,0,-1]\n",
        "\n",
        "count=1\n",
        "turn_time=0\n",
        "\n",
        "def turn_left():\n",
        "  global direction\n",
        "  direction -=1\n",
        "  if direction ==-1:\n",
        "    direction =3\n",
        "\n",
        "count =1\n",
        "trun_time =0\n",
        "while True:\n",
        "  turn_left()\n",
        "  nx = x + dx[direction]\n",
        "  ny = y + dy[direction]\n",
        "  if d[nx][ny] ==0 and array[nx][ny] == 0:\n",
        "    d[nx][ny]=1\n",
        "    x=nx\n",
        "    y=ny\n",
        "    count+=1\n",
        "    turn_time = 0\n",
        "    continue\n",
        "  else:\n",
        "    turn_time+=1\n",
        "\n",
        "  if turn_time==4:\n",
        "    nx = x -dx[direction]\n",
        "    ny = y- dy[direction]\n",
        "    if array[nx][ny] ==0:\n",
        "      x = nx\n",
        "      y = ny\n",
        "    else:\n",
        "      break\n",
        "    turn_time=0\n",
        "print(count)"
      ]
    }
  ]
}