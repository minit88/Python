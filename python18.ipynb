{
  "nbformat": 4,
  "nbformat_minor": 0,
  "metadata": {
    "colab": {
      "name": "python18.ipynb",
      "provenance": [],
      "authorship_tag": "ABX9TyN6baS7msiupbUtLtffQi76",
      "include_colab_link": true
    },
    "kernelspec": {
      "name": "python3",
      "display_name": "Python 3"
    },
    "language_info": {
      "name": "python"
    }
  },
  "cells": [
    {
      "cell_type": "markdown",
      "metadata": {
        "id": "view-in-github",
        "colab_type": "text"
      },
      "source": [
        "<a href=\"https://colab.research.google.com/github/minit88/Python/blob/main/python18.ipynb\" target=\"_parent\"><img src=\"https://colab.research.google.com/assets/colab-badge.svg\" alt=\"Open In Colab\"/></a>"
      ]
    },
    {
      "cell_type": "code",
      "execution_count": 3,
      "metadata": {
        "colab": {
          "base_uri": "https://localhost:8080/"
        },
        "id": "0PQ0RP_Uss8I",
        "outputId": "7475ccf3-bc3c-42e4-d726-ac7d8a3761c3"
      },
      "outputs": [
        {
          "output_type": "stream",
          "name": "stdout",
          "text": [
            "[0, 1, 2, 3, 4, 5, 6, 7, 8, 9]\n"
          ]
        }
      ],
      "source": [
        "array =[5,7,9,0,3,1,6,2,4,8]\n",
        "\n",
        "def quick_sort(array):\n",
        "  #라스트가 하나 이하의 원소만을 담고 있다면 종료\n",
        "  if len(array)<=1:\n",
        "    return array\n",
        "\n",
        "  pivot = array [0]\n",
        "  tail = array[1:]\n",
        "\n",
        "  left_side = [x for x in tail if x <= pivot]\n",
        "  right_side = [x for x in tail if x>pivot]\n",
        "\n",
        "  return quick_sort(left_side)+[pivot]+quick_sort(right_side)\n",
        "\n",
        "print(quick_sort(array))"
      ]
    }
  ]
}