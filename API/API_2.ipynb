{
  "nbformat": 4,
  "nbformat_minor": 0,
  "metadata": {
    "colab": {
      "name": "API_2.ipynb",
      "provenance": [],
      "authorship_tag": "ABX9TyOVmmasBKFQKQmsNvn962g+",
      "include_colab_link": true
    },
    "kernelspec": {
      "name": "python3",
      "display_name": "Python 3"
    },
    "language_info": {
      "name": "python"
    }
  },
  "cells": [
    {
      "cell_type": "markdown",
      "metadata": {
        "id": "view-in-github",
        "colab_type": "text"
      },
      "source": [
        "<a href=\"https://colab.research.google.com/github/minit88/Python/blob/main/API/API_2.ipynb\" target=\"_parent\"><img src=\"https://colab.research.google.com/assets/colab-badge.svg\" alt=\"Open In Colab\"/></a>"
      ]
    },
    {
      "cell_type": "code",
      "execution_count": 1,
      "metadata": {
        "colab": {
          "base_uri": "https://localhost:8080/"
        },
        "id": "o_kU7AzPVSNP",
        "outputId": "225c5709-789a-49ed-833e-286937aad7a4"
      },
      "outputs": [
        {
          "output_type": "stream",
          "name": "stdout",
          "text": [
            "{\n",
            "    \"id\": \"gildong\",\n",
            "    \"password\": \"192837\",\n",
            "    \"age\": 30,\n",
            "    \"hobby\": [\n",
            "        \"football\",\n",
            "        \"programming\"\n",
            "    ]\n",
            "}\n"
          ]
        }
      ],
      "source": [
        "# json 인코딩 예시\n",
        "\n",
        "import json\n",
        "\n",
        "# 사전 자료형(dict) 데이터 선언\n",
        "user = {\n",
        "    \"id\":\"gildong\",\n",
        "    \"password\":\"192837\",\n",
        "    \"age\":30,\n",
        "    \"hobby\": [\"football\", \"programming\"]\n",
        "}\n",
        "# 파이썬 변수를 JSON 객체로 변환\n",
        "json_data = json.dumps(user, indent=4)\n",
        "print(json_data)\n"
      ]
    },
    {
      "cell_type": "code",
      "source": [
        "# json 디코딩 에시\n",
        "import json\n",
        "\n",
        "# 사전 자료형(dict) 데이터 선언\n",
        "user = {\n",
        "    \"id\": \"gildong\",\n",
        "    \"password\": \"1!2@3#4$\",\n",
        "    \"age\": 30,\n",
        "    \"hobby\": [\"football\", \"programming\"]\n",
        "}\n",
        "\n",
        "# JSON 데이터로 변환하여 파일로 저장\n",
        "with open(\"user.json\", \"w\", encoding=\"utf-8\") as file:\n",
        "    json_data = json.dump(user, file, indent=4)"
      ],
      "metadata": {
        "id": "OKf1P8e_V8tB"
      },
      "execution_count": null,
      "outputs": []
    }
  ]
}