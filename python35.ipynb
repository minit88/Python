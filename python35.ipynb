{
  "nbformat": 4,
  "nbformat_minor": 0,
  "metadata": {
    "colab": {
      "name": "python35.ipynb",
      "provenance": [],
      "authorship_tag": "ABX9TyPaV6Ie31GOontghcIF6DEI",
      "include_colab_link": true
    },
    "kernelspec": {
      "name": "python3",
      "display_name": "Python 3"
    },
    "language_info": {
      "name": "python"
    }
  },
  "cells": [
    {
      "cell_type": "markdown",
      "metadata": {
        "id": "view-in-github",
        "colab_type": "text"
      },
      "source": [
        "<a href=\"https://colab.research.google.com/github/minit88/Python/blob/main/python35.ipynb\" target=\"_parent\"><img src=\"https://colab.research.google.com/assets/colab-badge.svg\" alt=\"Open In Colab\"/></a>"
      ]
    },
    {
      "cell_type": "code",
      "execution_count": 12,
      "metadata": {
        "colab": {
          "base_uri": "https://localhost:8080/"
        },
        "id": "vQrDhPxlmmHG",
        "outputId": "51637cd6-9e89-4b14-9797-e6392ada15b7"
      },
      "outputs": [
        {
          "output_type": "stream",
          "name": "stdout",
          "text": [
            "5 6 1\n",
            "1 3 2\n",
            "1 2 4\n",
            "2 4 3\n",
            "4 5 3\n",
            "5 2 5\n",
            "2 5 5\n",
            "5 9\n"
          ]
        }
      ],
      "source": [
        "import heapq\n",
        "#무한대 선언\n",
        "INF = int(1e9)\n",
        "\n",
        "\n",
        "n,m,c = map(int,input().split())\n",
        "#연결정보를 입력받기\n",
        "graph=[[] for _ in range(n+1)]\n",
        "#거리정보 리스트\n",
        "distance = [INF]*(n+1) \n",
        "\n",
        "#x에서 y로의 z시간소요의 정보를 입력받기\n",
        "for i in range(m):\n",
        "  x,y,z = map(int,input().split())\n",
        "  graph[x].append((y,z))\n",
        "\n",
        "\n",
        "#힙큐를 이용해서 다익스트라 구현\n",
        "\n",
        "def dijkstra (c):\n",
        "  q=[]\n",
        "  count=0\n",
        "  heapq.heappush(q,(0,c))\n",
        "  distance[c]=0\n",
        "  #큐가 차있을 동안만 실행\n",
        "  while q:\n",
        "    time , now = heapq.heappop(q)\n",
        "    #큐에서 꺼낸 간선이 갱신된 거리 값보다 클 경우 고려하지 않아도 된다. 즉, 큐에 담지 않음\n",
        "    #방문한 적이 있는 걸로 해석 가능\n",
        "    if distance[now]<time:\n",
        "      continue\n",
        "    \n",
        "    #현재 연결된 노드를 확인\n",
        "    for i in graph[now]:\n",
        "      cost = time + i[1] #현재 노드에서 연결된 노드까지 걸리는 시간\n",
        "      if distance[i[0]] > cost:# 연결된 노드의 distance 값과 cost비교\n",
        "        heapq.heappush(q,(cost,i[0]))\n",
        "        distance[i[0]]=cost\n",
        "\n",
        "final_time=0\n",
        "count=0\n",
        "dijkstra(c)\n",
        "1\n",
        "#메세지를 받는 회사 수를 세고 , 각 노드별로 걸리는 시간중 최대 값 갱신\n",
        "for i in range(1,n+1):#1부터 n개의 회사\n",
        "  if final_time<= distance[i]:\n",
        "    final_time = distance[i]\n",
        "  #연결되지 않을 경우 메세지를 못받는다.\n",
        "  if distance[i]!=INF:\n",
        "    count+=1\n",
        "\n",
        "\n",
        "print(count,final_time)\n",
        "\n",
        "\n",
        "\n",
        "      \n",
        "\n",
        "    \n",
        "\n"
      ]
    }
  ]
}