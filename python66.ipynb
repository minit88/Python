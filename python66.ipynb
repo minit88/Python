{
  "nbformat": 4,
  "nbformat_minor": 0,
  "metadata": {
    "colab": {
      "name": "python66.ipynb",
      "provenance": [],
      "authorship_tag": "ABX9TyOPBmwjkuIQR7G+6QiK9i3t",
      "include_colab_link": true
    },
    "kernelspec": {
      "name": "python3",
      "display_name": "Python 3"
    },
    "language_info": {
      "name": "python"
    }
  },
  "cells": [
    {
      "cell_type": "markdown",
      "metadata": {
        "id": "view-in-github",
        "colab_type": "text"
      },
      "source": [
        "<a href=\"https://colab.research.google.com/github/minit88/Python/blob/main/python66.ipynb\" target=\"_parent\"><img src=\"https://colab.research.google.com/assets/colab-badge.svg\" alt=\"Open In Colab\"/></a>"
      ]
    },
    {
      "cell_type": "code",
      "execution_count": 9,
      "metadata": {
        "colab": {
          "base_uri": "https://localhost:8080/"
        },
        "id": "m9531PWKVNiY",
        "outputId": "caffe2c5-dc24-42ee-a1ba-0a46c1e11df0"
      },
      "outputs": [
        {
          "output_type": "stream",
          "name": "stdout",
          "text": [
            "5 3\n",
            "1\n",
            "2\n",
            "4\n",
            "8\n",
            "9\n",
            "3\n"
          ]
        }
      ],
      "source": [
        "#공유기 설치 예제\n",
        "n,c = map(int,input().split())\n",
        "array=[]\n",
        "for i in range(n):\n",
        "  array.append(int(input()))\n",
        "\n",
        "array.sort() #오름차순 정리\n",
        "start = 1 #최소의 거리\n",
        "end = array[-1]-array[0] #최대의 거리\n",
        "\n",
        "result = 0\n",
        "\n",
        "while start<=end:\n",
        "  mid = (start+end)//2\n",
        "  value = array[0]\n",
        "  count=1\n",
        "  for i in range(1,n):\n",
        "    if array[i]>= value+mid:\n",
        "      value = array[i]\n",
        "      count+=1\n",
        "  if count>=c: #설치가능한 공유기 수가 c값 보다 클 경우 최소 거리를 높인다\n",
        "    start = mid+1\n",
        "    result = mid #최적의 거리 저장\n",
        "  else: #앞 경우의 반대에는 최대 거리를 낮춘다.\n",
        "    end = mid-1\n",
        "\n",
        "\n",
        "print(result)\n",
        "\n"
      ]
    }
  ]
}