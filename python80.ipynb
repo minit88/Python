{
  "nbformat": 4,
  "nbformat_minor": 0,
  "metadata": {
    "colab": {
      "name": "python80.ipynb",
      "provenance": [],
      "authorship_tag": "ABX9TyP61E+10LLGcw341xKdatrj",
      "include_colab_link": true
    },
    "kernelspec": {
      "name": "python3",
      "display_name": "Python 3"
    },
    "language_info": {
      "name": "python"
    }
  },
  "cells": [
    {
      "cell_type": "markdown",
      "metadata": {
        "id": "view-in-github",
        "colab_type": "text"
      },
      "source": [
        "<a href=\"https://colab.research.google.com/github/minit88/Python/blob/main/python80.ipynb\" target=\"_parent\"><img src=\"https://colab.research.google.com/assets/colab-badge.svg\" alt=\"Open In Colab\"/></a>"
      ]
    },
    {
      "cell_type": "code",
      "execution_count": 3,
      "metadata": {
        "colab": {
          "base_uri": "https://localhost:8080/"
        },
        "id": "z6dfwx1oTiuK",
        "outputId": "196d7a92-2729-4371-c472-9ee3edc37438"
      },
      "outputs": [
        {
          "output_type": "stream",
          "name": "stdout",
          "text": [
            "1\n",
            "5\n",
            "5 4 3 2 1\n",
            "2\n",
            "2 4\n",
            "3 4\n",
            "5 3 2 4 1 \n"
          ]
        }
      ],
      "source": [
        "#최종순위\n",
        "#위상정렬문제\n",
        "#이미 정해진 순서대로 그래프를 만들고, 바뀐 순위대로 다시 그래프를 갱신하는 방법을 사용\n",
        "#일관성이 없다 : 사이클이 발생했다(순위를 매길 수 없음)\n",
        "#확실한 순위를 찾을 수 없다 : 하나의 순위에 두개 이상의 데이터가 나올 경우 순위 못매김\n",
        "\n",
        "from collections import deque\n",
        "for tc in range(int(input())):\n",
        "  n=int(input())\n",
        "  array = [[False]*(n+1)for _ in range(n+1)]\n",
        "  indegree = [0]*(n+1)\n",
        "  #작년 순위 정보 입력\n",
        "  data = list(map(int,input().split()))\n",
        "  #방향 배열 간선 정보 초기화\n",
        "  for i in range(n):\n",
        "    for j in range(i+1,n):\n",
        "      array[data[i]][data[j]]=True\n",
        "      indegree[data[j]]+=1\n",
        "  #올해 변경된 순위 정보 입력\n",
        "  m=int(input())\n",
        "  for i in range(m):\n",
        "    x,y = map(int,input().split())\n",
        "    #간선 방향 뒤집기\n",
        "    if array[x][y]: # 큰 거를 작은 거로 바꾸는 경우\n",
        "      array[y][x]=True\n",
        "      array[x][y]=False\n",
        "      indegree[x]-=1\n",
        "      indegree[y]+=1\n",
        "    else: # 작던 거를 큰걸로 바꾸는 경우\n",
        "      array[x][y]=True\n",
        "      array[y][x]=False\n",
        "      indegree[x]-=1\n",
        "      indegree[y]+=1\n",
        "  #위상정렬 시작\n",
        "  result = [] \n",
        "  q=deque()\n",
        "\n",
        "  #처음 시작할 때는 진입차수가 0인 노드를 큐에 삽입\n",
        "  for i in range(1,n+1):\n",
        "    if indegree[i]==0:\n",
        "      q.append(i)\n",
        "  \n",
        "  certain = True # 위상 정렬 결과가 오직 하나인지의 여부\n",
        "  cycle = False #그래프 내 사이클이 존재하는지 여부\n",
        "\n",
        "  #정확히 노드의 개수만큼 반복\n",
        "  for i in range(n):\n",
        "    #큐가 비어 있다면 사이클이 발생했다는 의미\n",
        "    if len(q) == 0:\n",
        "      cycle = True\n",
        "      break\n",
        "    #큐의 원소가 2개 이상이면 가능한 정렬 결과가 여러 개라는 의미\n",
        "    if len(q)>=2:\n",
        "      certain = False\n",
        "      break\n",
        "    #큐에서 원소 꺼내기\n",
        "    now = q.popleft()\n",
        "    result.append(now)\n",
        "    #해당 원소와 연결된 노드들의 진입차수에서 1뺴기\n",
        "    for j in range(1,n+1):\n",
        "      if array[now][j]:\n",
        "        indegree[j]-=1\n",
        "        #새롭게 진입차수가 0이 되는 노드를 큐에 삽입\n",
        "        if indegree[j]==0:\n",
        "          q.append(j)\n",
        "  #사이클이 발생하는 경우(일관성이 없는 경우)      \n",
        "  if cycle:\n",
        "      print(\"IMPOSSIBLE\")\n",
        "  #위상 정렬 결과가 여러 개인 경우\n",
        "  elif not certain:\n",
        "      print(\"?\")\n",
        "  else:\n",
        "    for i in result:\n",
        "      print(i,end=' ')\n",
        "    print()"
      ]
    }
  ]
}