{
  "nbformat": 4,
  "nbformat_minor": 0,
  "metadata": {
    "colab": {
      "name": "python41.ipynb",
      "provenance": [],
      "authorship_tag": "ABX9TyOgLeH4R25cJNVW3se1U6q+",
      "include_colab_link": true
    },
    "kernelspec": {
      "name": "python3",
      "display_name": "Python 3"
    },
    "language_info": {
      "name": "python"
    }
  },
  "cells": [
    {
      "cell_type": "markdown",
      "metadata": {
        "id": "view-in-github",
        "colab_type": "text"
      },
      "source": [
        "<a href=\"https://colab.research.google.com/github/minit88/Python/blob/main/python41.ipynb\" target=\"_parent\"><img src=\"https://colab.research.google.com/assets/colab-badge.svg\" alt=\"Open In Colab\"/></a>"
      ]
    },
    {
      "cell_type": "code",
      "execution_count": 6,
      "metadata": {
        "colab": {
          "base_uri": "https://localhost:8080/"
        },
        "id": "K4J1pqgFI500",
        "outputId": "f30e4167-4e31-45e4-b4f7-893ef7167eae"
      },
      "outputs": [
        {
          "output_type": "stream",
          "name": "stdout",
          "text": [
            "5\n",
            "10 -1\n",
            "10 1 -1\n",
            "4 1 -1\n",
            "4 3 1 -1\n",
            "3 3 -1\n",
            "10\n",
            "20\n",
            "14\n",
            "18\n",
            "17\n"
          ]
        }
      ],
      "source": [
        "from collections import deque\n",
        "import copy\n",
        "\n",
        "#노드의 개수 입력받기\n",
        "v=int(input())\n",
        "#모든 노드에 대한 진입차수는 0으로 초기화\n",
        "indegree =[0]*(v+1)\n",
        "#각 노드에 연결된 간선 정보를 담기 위한 연결 리스트 초기화\n",
        "graph =[[]for i in range(v+1)]\n",
        "#각 강의 시간을 0으로 초기화\n",
        "time =[0]*(v+1)\n",
        "#알고리즘 수행결과\n",
        "\n",
        "#방향 그래프의 모든 간선 정보를 입력받기\n",
        "for i in range(1,v+1):\n",
        "  data = list(map(int,input().split()))\n",
        "  time[i]=data[0]#첫 번째 수는 시간 정보를 담고 있음\n",
        "  for x in data[1:-1]: # 인덱스 1부터 마지막을 제외한 인덱스까지\n",
        "    indegree[i]+=1\n",
        "    graph[x].append(i)#연결된 간선을 저장\n",
        "\n",
        "#위상 정렬 함수\n",
        "def topology_sort():\n",
        "  q=deque()\n",
        "  result = copy.deepcopy(time)\n",
        "  #처음 시작할 때는 진입차수가 0인 노드를 큐에 삽입\n",
        "  for i in range(1,v+1):\n",
        "    if indegree[i]==0:\n",
        "      q.append(i)\n",
        "\n",
        "  #큐가 빌 때까지 반복\n",
        "  while q:\n",
        "    #큐에서 원소 꺼내기\n",
        "    now = q.popleft()\n",
        "    #해당 원소와 연결된 노드들의 진입차수에서 1빼기\n",
        "    for i in graph[now]:\n",
        "      result[i]=max(result[i],result[now]+time[i])\n",
        "      indegree[i]-=1\n",
        "      #새롭게 진입차수가 0이 되는 노드를 큐에 삽입\n",
        "      if indegree[i] ==0:\n",
        "        q.append(i)\n",
        "\n",
        "  for i in range(1,v+1):\n",
        "    print(result[i])\n",
        "\n",
        "topology_sort()"
      ]
    }
  ]
}