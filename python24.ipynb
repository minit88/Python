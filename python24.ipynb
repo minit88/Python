{
  "nbformat": 4,
  "nbformat_minor": 0,
  "metadata": {
    "colab": {
      "name": "python24.ipynb",
      "provenance": [],
      "authorship_tag": "ABX9TyPVJ+aid1fJP2z7g7VrEnvi",
      "include_colab_link": true
    },
    "kernelspec": {
      "name": "python3",
      "display_name": "Python 3"
    },
    "language_info": {
      "name": "python"
    }
  },
  "cells": [
    {
      "cell_type": "markdown",
      "metadata": {
        "id": "view-in-github",
        "colab_type": "text"
      },
      "source": [
        "<a href=\"https://colab.research.google.com/github/minit88/Python/blob/main/python24.ipynb\" target=\"_parent\"><img src=\"https://colab.research.google.com/assets/colab-badge.svg\" alt=\"Open In Colab\"/></a>"
      ]
    },
    {
      "cell_type": "code",
      "source": [
        "#부품찾기 \n",
        "n = int(input())\n",
        "products = list(map(int,input().split()))\n",
        "m = int(input())\n",
        "order = list(map(int,input().split()))\n",
        "result =[]\n",
        "count=0\n",
        "for i in order:\n",
        "  for j in product:\n",
        "    if i==j:\n",
        "      result.append('yes')\n",
        "      count=0\n",
        "      break\n",
        "    if i!=j:\n",
        "      count+=1\n",
        "    if count==n:\n",
        "      result.append('no')\n",
        "      count=0\n",
        "\n",
        "print(result)\n",
        "\n"
      ],
      "metadata": {
        "colab": {
          "base_uri": "https://localhost:8080/"
        },
        "id": "51qynXSuv2GD",
        "outputId": "210310df-abf6-4e7d-e2af-0287c1e35488"
      },
      "execution_count": 8,
      "outputs": [
        {
          "output_type": "stream",
          "name": "stdout",
          "text": [
            "5\n",
            "8 3 7 9 2\n",
            "3\n",
            "5 7 9\n",
            "8 3 7 9 2 8 3 7 8 3 7 9 ['no', 'yes', 'yes']\n"
          ]
        }
      ]
    },
    {
      "cell_type": "code",
      "source": [
        "#이진 탐색 소스코드 구현 (반복문)\n",
        "def binary_search(array,target,start,end):\n",
        "  while start<=end:\n",
        "    mid= (start+end)//2\n",
        "    if array[mid]==target:\n",
        "      return mid\n",
        "    #중간값이 큰 경우 왼쪽으로 이동\n",
        "    elif array[mid]>target:\n",
        "      end=mid-1\n",
        "    else:\n",
        "    #중간값이 작은 경우 오른쪽으로 이동\n",
        "      start=mid+1\n",
        "  return None\n",
        "\n",
        "\n",
        "n = int(input())\n",
        "products=list(map(int,input().split()))\n",
        "m=int(input())\n",
        "x=list(map(int,input().split()))\n",
        "\n",
        "for i in x:\n",
        "  result=binary_search(products,i,0,n-1)\n",
        "  if result!=None:\n",
        "    print('yes',end=' ')\n",
        "  else:\n",
        "    print('no',end=' ')\n",
        "\n",
        "  "
      ],
      "metadata": {
        "colab": {
          "base_uri": "https://localhost:8080/"
        },
        "id": "cJvCQV2s0Olw",
        "outputId": "e64e454d-281a-414c-b8f8-c084b342b500"
      },
      "execution_count": 13,
      "outputs": [
        {
          "output_type": "stream",
          "name": "stdout",
          "text": [
            "5\n",
            "8 3 7 9 2\n",
            "3\n",
            "5 7 9\n",
            "no yes yes "
          ]
        }
      ]
    },
    {
      "cell_type": "code",
      "source": [
        "#계수정렬을 이용\n",
        "\n",
        "n=int(input())\n",
        "array= [0]*1000001\n",
        "\n",
        "#가게에 있는 전체 부품 번호를 입력받아서 기록\n",
        "for i in input().split():\n",
        "  array[int(i)]=1\n",
        "\n",
        "#M(손님이 확인 요청한 부품 개수)을 입력받기\n",
        "m=int(input())\n",
        "#손님이 확인 요청한 전체 부품 번호를 공백으로 구분하여 입력\n",
        "x=list(map(int,input().split()))\n",
        "#손님이 확인 요청한 부품 번호를 하나씩 확인\n",
        "for i in x:\n",
        "  #해당 부품이 존재하는지 확인\n",
        "  if array[i]==1:\n",
        "    print('yes',end=' ')\n",
        "  else:\n",
        "    print('no',end=' ')\n"
      ],
      "metadata": {
        "colab": {
          "base_uri": "https://localhost:8080/"
        },
        "id": "M3NS5HCO5HBO",
        "outputId": "a35a394a-6350-4cf4-b26e-6f47ea2637a8"
      },
      "execution_count": 16,
      "outputs": [
        {
          "output_type": "stream",
          "name": "stdout",
          "text": [
            "5\n",
            "8 3 7 9 2\n",
            "3\n",
            "5 7 9\n",
            "no yes yes "
          ]
        }
      ]
    },
    {
      "cell_type": "code",
      "source": [
        "#집합 자료형 이용\n",
        "n= int(input())\n",
        "#가게에 있는 전체 부품 번호를 입력받아서 집합(set) 자료형에 기록\n",
        "array= set(map(int,input().split()))\n",
        "\n",
        "#M(손님이 확인 요청한 부품 개수)을 입력받기\n",
        "m=int(input())\n",
        "#손님이 확인 요청한 전체 부품 번호를 공백으로 구분하여 입력\n",
        "x=list(map(int,input().split()))\n",
        "\n",
        "#손님이 확인 요청한 부품 번호를 하나씩 확인\n",
        "for i in x:\n",
        "  #해당 부품이 존재하는지 확인\n",
        "  if i in array:\n",
        "    print('yes',end=' ')\n",
        "  else:\n",
        "    print('no',end=' ')"
      ],
      "metadata": {
        "id": "Im-SJEME_fTR"
      },
      "execution_count": null,
      "outputs": []
    }
  ]
}