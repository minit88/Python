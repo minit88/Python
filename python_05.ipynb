{
  "nbformat": 4,
  "nbformat_minor": 0,
  "metadata": {
    "colab": {
      "name": "python-05.ipynb",
      "provenance": [],
      "authorship_tag": "ABX9TyOl4MStWhACx0xea7h9l2ee",
      "include_colab_link": true
    },
    "kernelspec": {
      "name": "python3",
      "display_name": "Python 3"
    },
    "language_info": {
      "name": "python"
    }
  },
  "cells": [
    {
      "cell_type": "markdown",
      "metadata": {
        "id": "view-in-github",
        "colab_type": "text"
      },
      "source": [
        "<a href=\"https://colab.research.google.com/github/minit88/Python/blob/main/python_05.ipynb\" target=\"_parent\"><img src=\"https://colab.research.google.com/assets/colab-badge.svg\" alt=\"Open In Colab\"/></a>"
      ]
    },
    {
      "cell_type": "code",
      "execution_count": 8,
      "metadata": {
        "colab": {
          "base_uri": "https://localhost:8080/"
        },
        "id": "fulIgXZgx2lD",
        "outputId": "0a71f146-0f80-455b-cbf9-df0e3895f13d"
      },
      "outputs": [
        {
          "output_type": "stream",
          "name": "stdout",
          "text": [
            "5\n",
            "R R R U D D\n",
            "3 4\n"
          ]
        }
      ],
      "source": [
        "n= map(int,input().split())\n",
        "plans = list(map(str,input().split()))\n",
        "x=1\n",
        "y=1\n",
        "\n",
        "for plan in plans:\n",
        "  if plan == 'L' and x >=1:\n",
        "    x-=1\n",
        "  elif plan == 'R' and x<=4:\n",
        "    x+=1\n",
        "  elif plan == 'U' and y>1:\n",
        "    y-=1\n",
        "  elif plan =='D' and y<=4:\n",
        "    y+=1\n",
        "\n",
        "print(y,x)\n",
        "    \n",
        "\n",
        "\n"
      ]
    }
  ]
}