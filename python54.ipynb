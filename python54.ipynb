{
  "nbformat": 4,
  "nbformat_minor": 0,
  "metadata": {
    "colab": {
      "name": "python54.ipynb",
      "provenance": [],
      "authorship_tag": "ABX9TyOHMo1+dQs+jnqax5ZlKWfM",
      "include_colab_link": true
    },
    "kernelspec": {
      "name": "python3",
      "display_name": "Python 3"
    },
    "language_info": {
      "name": "python"
    }
  },
  "cells": [
    {
      "cell_type": "markdown",
      "metadata": {
        "id": "view-in-github",
        "colab_type": "text"
      },
      "source": [
        "<a href=\"https://colab.research.google.com/github/minit88/Python/blob/main/python54.ipynb\" target=\"_parent\"><img src=\"https://colab.research.google.com/assets/colab-badge.svg\" alt=\"Open In Colab\"/></a>"
      ]
    },
    {
      "cell_type": "code",
      "execution_count": 31,
      "metadata": {
        "colab": {
          "base_uri": "https://localhost:8080/",
          "height": 37
        },
        "id": "ugU40pTUyc_V",
        "outputId": "f915ff65-01e8-4a9e-8c61-162882f09621"
      },
      "outputs": [
        {
          "output_type": "execute_result",
          "data": {
            "text/plain": [
              "'()(())()'"
            ],
            "application/vnd.google.colaboratory.intrinsic+json": {
              "type": "string"
            }
          },
          "metadata": {},
          "execution_count": 31
        }
      ],
      "source": [
        "p=\"()))((()\"\n",
        "\n",
        "def balanced(p):#\"균형잡힌 문자열\"인지 판단\n",
        "  count=0\n",
        "  for i in range(len(p)):\n",
        "    if p[i] == '(':\n",
        "      count+=1\n",
        "    else:\n",
        "      count-=1\n",
        "    if count==0:\n",
        "      return i\n",
        "      \n",
        "  \n",
        "\n",
        "def check(u): #올바른 괄호 문자열인지 판단\n",
        "  count = 0\n",
        "  for i in u:\n",
        "    if i=='(':\n",
        "      count+=1\n",
        "    else:\n",
        "      if count==0: #)가 먼저 올 경우\n",
        "        return False\n",
        "      count-=1\n",
        "  return True\n",
        "\n",
        "\n",
        "def solution(p):\n",
        "  answer=''\n",
        "  if p=='':\n",
        "    return answer\n",
        "  index = balanced(p)\n",
        "  u=p[:index+1]\n",
        "  v=p[index+1:]\n",
        "  if check(u)==True: #u가 올바른 괄호 문자열\n",
        "    answer= u+solution(v)\n",
        "  if check(u)==False: #u가 올바른 괄호 문자열x\n",
        "    answer+='('\n",
        "    answer+=solution(v)\n",
        "    answer+=')'\n",
        "    u= list(u[1:-1])\n",
        "    for i in range(len(u)):\n",
        "      if u[i] == '(':\n",
        "        u[i]=')'\n",
        "      elif u[i==')']:\n",
        "        u[i]='('\n",
        "    answer+=\"\".join(u)\n",
        "\n",
        "  return answer \n",
        "solution(p)\n",
        "\n",
        "\n",
        "      \n"
      ]
    },
    {
      "cell_type": "code",
      "source": [
        "p='12345'\n",
        "p[3]"
      ],
      "metadata": {
        "colab": {
          "base_uri": "https://localhost:8080/",
          "height": 37
        },
        "id": "FAIx2AAYakGV",
        "outputId": "6932aa8d-02d7-431f-e724-156720da3a35"
      },
      "execution_count": 13,
      "outputs": [
        {
          "output_type": "execute_result",
          "data": {
            "text/plain": [
              "'4'"
            ],
            "application/vnd.google.colaboratory.intrinsic+json": {
              "type": "string"
            }
          },
          "metadata": {},
          "execution_count": 13
        }
      ]
    }
  ]
}