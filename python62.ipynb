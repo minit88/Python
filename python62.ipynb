{
  "nbformat": 4,
  "nbformat_minor": 0,
  "metadata": {
    "colab": {
      "name": "python62.ipynb",
      "provenance": [],
      "authorship_tag": "ABX9TyMPmm9YEaPHvLHxRAZpFsx0",
      "include_colab_link": true
    },
    "kernelspec": {
      "name": "python3",
      "display_name": "Python 3"
    },
    "language_info": {
      "name": "python"
    }
  },
  "cells": [
    {
      "cell_type": "markdown",
      "metadata": {
        "id": "view-in-github",
        "colab_type": "text"
      },
      "source": [
        "<a href=\"https://colab.research.google.com/github/minit88/Python/blob/main/python62.ipynb\" target=\"_parent\"><img src=\"https://colab.research.google.com/assets/colab-badge.svg\" alt=\"Open In Colab\"/></a>"
      ]
    },
    {
      "cell_type": "markdown",
      "source": [
        "백준 카드정렬하기 풀이\n"
      ],
      "metadata": {
        "id": "ZHQBw4gy593Q"
      }
    },
    {
      "cell_type": "code",
      "execution_count": 15,
      "metadata": {
        "colab": {
          "base_uri": "https://localhost:8080/"
        },
        "id": "wAXtDVjisH0Y",
        "outputId": "bf00767d-0509-4602-ca26-0f25803ee6d3"
      },
      "outputs": [
        {
          "output_type": "stream",
          "name": "stdout",
          "text": [
            "1\n",
            "10\n",
            "0\n"
          ]
        }
      ],
      "source": [
        "#반복문을 이용한 풀이\n",
        "n= int(input())\n",
        "array=[]\n",
        "data=[]\n",
        "for i in range(n):\n",
        "  array.append(int(input()))\n",
        "array.sort()\n",
        "sum =0\n",
        "result=0\n",
        "sum+=array[0]\n",
        "for i in range(1,n):\n",
        "  sum+=array[i]\n",
        "  result+=sum\n",
        "print(result)\n",
        "\n"
      ]
    },
    {
      "cell_type": "code",
      "source": [
        "#힙큐를 이용\n",
        "from heapq import heappush,heappop\n",
        "n= int(input())\n",
        "array=[]\n",
        "result =0\n",
        "for i in range(n):\n",
        "  heappush(array,int(input()))\n",
        "while len(array)!=1:\n",
        "  num1 = heappop(array)\n",
        "  num2= heappop(array)\n",
        "  num3 = num1+num2\n",
        "  result+=num3\n",
        "  heappush(array,num3)\n",
        "print(result)\n"
      ],
      "metadata": {
        "colab": {
          "base_uri": "https://localhost:8080/"
        },
        "id": "nQoyEz8y0fdT",
        "outputId": "3e1f13e1-9bf0-460f-a4af-a842ed0a3ab9"
      },
      "execution_count": 16,
      "outputs": [
        {
          "output_type": "stream",
          "name": "stdout",
          "text": [
            "1\n",
            "10\n",
            "0\n"
          ]
        }
      ]
    }
  ]
}