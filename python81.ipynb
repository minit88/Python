{
  "nbformat": 4,
  "nbformat_minor": 0,
  "metadata": {
    "colab": {
      "name": "python81.ipynb",
      "provenance": [],
      "authorship_tag": "ABX9TyOrjKQBALIUCIRV9+HYe16+",
      "include_colab_link": true
    },
    "kernelspec": {
      "name": "python3",
      "display_name": "Python 3"
    },
    "language_info": {
      "name": "python"
    }
  },
  "cells": [
    {
      "cell_type": "markdown",
      "metadata": {
        "id": "view-in-github",
        "colab_type": "text"
      },
      "source": [
        "<a href=\"https://colab.research.google.com/github/minit88/Python/blob/main/python81.ipynb\" target=\"_parent\"><img src=\"https://colab.research.google.com/assets/colab-badge.svg\" alt=\"Open In Colab\"/></a>"
      ]
    },
    {
      "cell_type": "code",
      "execution_count": null,
      "metadata": {
        "id": "HjsK5mNA96ci"
      },
      "outputs": [],
      "source": [
        "#아기상어\n",
        "#최단 거리 리스트를 생성한 후에 그 리스트를 기반으로 가장 가깝고 먹을 수 있는 물고기 위치로 이동\n",
        "#먹은 수가 자신의 크기 이상일 경우에만 자신의 크기를 1씩 늘림\n",
        "#False일 때까지 반복 후에 경과 시간을 출력함\n",
        "\n",
        "\n",
        "from collections import deque\n",
        "n= int(input())\n",
        "#먹이 위치 선언\n",
        "array = []\n",
        "for i in range(n):\n",
        "  array.append(list(map(int,input().split())))\n",
        "\n",
        "#상하좌우\n",
        "dx = [-1,0,1,0]\n",
        "dy = [0,1,0,-1]\n",
        "\n",
        "#'9' 위치일 때 = 현재 위치 갱신\n",
        "now_size=2\n",
        "now_x = 0\n",
        "now_y=0\n",
        "for i in range(n):\n",
        "  for j in range(n):\n",
        "    if array[i][j] == 9:\n",
        "      now_x,now_y = i,j\n",
        "      array[now_x][now_y]=0\n",
        "\n",
        "#이동할 수 있는 최단 거리 리스트 생성 함수\n",
        "def bfs():\n",
        "  q=deque([(now_x,now_y)])\n",
        "  dist = [[-1]*(n) for _ in range(n)]\n",
        "  dist[now_x][now_y]=0\n",
        "  while q:\n",
        "    x,y=q.popleft()\n",
        "    for i in range(4):\n",
        "      nx = x+dx[i]\n",
        "      ny = y+dy[i]\n",
        "      if 0<=nx<n and 0<=ny<n:\n",
        "        #자신의 크기보다 작거나 같은 경우에 지나갈 수 있음\n",
        "        if dist[nx][ny]==-1 and array[nx][ny]<=now_size:\n",
        "          q.append((nx,ny))\n",
        "          dist[nx][ny]=dist[x][y]+1\n",
        "  return dist\n",
        "\n",
        "#최단 거리 리스트를 이용하여 먹을 수 있는 물고기를 찾는 함수\n",
        "def find(dist):\n",
        "  x,y = 0,0\n",
        "  min_dist = int(1e9)\n",
        "  for i in range(n):\n",
        "    for j in range(n):\n",
        "      if dist[i][j]!=-1 and 1<=array[i][j]<now_size:\n",
        "        #가장 가까운 물고기 1개만 선택\n",
        "          if dist[i][j]<min_dist:\n",
        "            min_dist = dist[i][j]\n",
        "            x,y = i,j\n",
        "  #지나갈 수 있는 곳이 없을 때\n",
        "  if min_dist == int(1e9):\n",
        "    return None\n",
        "  else:\n",
        "    return x,y,min_dist # 먹을 물고기와 최단 거리\n",
        "\n",
        "result=0 # 최종답안\n",
        "ate=0 # 현재 크기에서 먹은 양\n",
        "while True:\n",
        "  #먹을 수 있는 물고기의 위치 찾기\n",
        "  value = find(bfs())\n",
        "  #먹을 수 있는 물고기가 없을 경우에, 현재까지 움직인 거리 출력\n",
        "  if value == None:\n",
        "    print(result)\n",
        "    break\n",
        "  else:\n",
        "    now_x,now_y = value[0],value[1]\n",
        "    result+=value[2]\n",
        "    #현재 먹은 위치는 이제 아무것도 없도록 처리\n",
        "    array[now_x][now_y]=0\n",
        "    ate+=1\n",
        "    if ate>=now_size: #먹은 수가 현재크기 이상일 경우에 현재크기가 1증가\n",
        "      now_size+=1\n",
        "      ate=0\n",
        "\n",
        "\n"
      ]
    }
  ]
}