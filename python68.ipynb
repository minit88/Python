{
  "nbformat": 4,
  "nbformat_minor": 0,
  "metadata": {
    "colab": {
      "name": "python68.ipynb",
      "provenance": [],
      "authorship_tag": "ABX9TyNcWRwQcz58FNql4+p5BxCK",
      "include_colab_link": true
    },
    "kernelspec": {
      "name": "python3",
      "display_name": "Python 3"
    },
    "language_info": {
      "name": "python"
    }
  },
  "cells": [
    {
      "cell_type": "markdown",
      "metadata": {
        "id": "view-in-github",
        "colab_type": "text"
      },
      "source": [
        "<a href=\"https://colab.research.google.com/github/minit88/Python/blob/main/python68.ipynb\" target=\"_parent\"><img src=\"https://colab.research.google.com/assets/colab-badge.svg\" alt=\"Open In Colab\"/></a>"
      ]
    },
    {
      "cell_type": "code",
      "execution_count": 3,
      "metadata": {
        "colab": {
          "base_uri": "https://localhost:8080/"
        },
        "id": "8NvldyE8crmN",
        "outputId": "911df706-757b-4611-d41e-1cfb8255365f"
      },
      "outputs": [
        {
          "output_type": "stream",
          "name": "stdout",
          "text": [
            "5\n",
            "7\n",
            "3 8\n",
            "8 1 0\n",
            "2 7 4 4\n",
            "4 5 2 6 5\n",
            "30\n"
          ]
        }
      ],
      "source": [
        "n =int(input())\n",
        "array = []\n",
        "for i in range(n):\n",
        "  array.append(list(map(int,input().split())))\n",
        "\n",
        "#내려올 때는 위,왼쪽위\n",
        "for i in range(1,n):\n",
        "  for j in range(1+i):\n",
        "    if j ==i :\n",
        "          array[i][j]=array[i-1][j-1]+array[i][j]\n",
        "    elif j==0:\n",
        "          array[i][j]=array[i][j]+array[i-1][j]\n",
        "    else:\n",
        "          array[i][j]=max(array[i-1][j-1],array[i-1][j])+array[i][j]\n",
        "\n",
        "print(max(array[n-1]))\n",
        "\n",
        "  "
      ]
    }
  ]
}