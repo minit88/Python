{
  "nbformat": 4,
  "nbformat_minor": 0,
  "metadata": {
    "colab": {
      "name": "python37.ipynb",
      "provenance": [],
      "authorship_tag": "ABX9TyOJUVk7msieFmxOE0lky2wC",
      "include_colab_link": true
    },
    "kernelspec": {
      "name": "python3",
      "display_name": "Python 3"
    },
    "language_info": {
      "name": "python"
    }
  },
  "cells": [
    {
      "cell_type": "markdown",
      "metadata": {
        "id": "view-in-github",
        "colab_type": "text"
      },
      "source": [
        "<a href=\"https://colab.research.google.com/github/minit88/Python/blob/main/python37.ipynb\" target=\"_parent\"><img src=\"https://colab.research.google.com/assets/colab-badge.svg\" alt=\"Open In Colab\"/></a>"
      ]
    },
    {
      "cell_type": "code",
      "execution_count": 10,
      "metadata": {
        "colab": {
          "base_uri": "https://localhost:8080/"
        },
        "id": "Ot3F0vflwQnY",
        "outputId": "c66ef280-65e5-4e1b-f8d5-9645bd9f585c"
      },
      "outputs": [
        {
          "output_type": "stream",
          "name": "stdout",
          "text": [
            "7 9\n",
            "1 2 29\n",
            "1 5 75\n",
            "2 3 35\n",
            "2 6 34\n",
            "3 4 7\n",
            "4 6 23\n",
            "4 7 13\n",
            "5 6 53\n",
            "6 7 25\n",
            "159\n",
            "[(7, 3, 4), (13, 4, 7), (23, 4, 6), (25, 6, 7), (29, 1, 2), (34, 2, 6), (35, 2, 3), (53, 5, 6), (75, 1, 5)]\n"
          ]
        }
      ],
      "source": [
        "#크루스칼 알고리즘 소스코드\n",
        "\n",
        "\n",
        "\n",
        "def find_parent(parent,x):\n",
        "  if parent[x]!= x:\n",
        "    parent[x] = find_parent(parent,parent[x])\n",
        "  return parent[x]\n",
        "\n",
        "def union(parent,a,b):\n",
        "  a= find_parent(parent,a)\n",
        "  b= find_parent(parent,b)\n",
        "  #a 부모노드가 b의 부모노드 보다 클때 b의 부모노드로 a부모노드를 수정\n",
        "  if a>b:\n",
        "    parent[a]=b\n",
        "  else:\n",
        "    parent[b]=a\n",
        "\n",
        "\n",
        "v,e = map(int,input().split())\n",
        "\n",
        "#비용 정보를 담을 result 변수 초기화\n",
        "result=0\n",
        "\n",
        "parent=[0]*(v+1)\n",
        "#간선정보를 담을 테이블을 초기화하기\n",
        "edges=[]\n",
        "for i in range(1,v+1):\n",
        "  parent[i]=i\n",
        "\n",
        "\n",
        "#간선정보를 입력받고 edges 테이블에 비용 및 노드연결 정리\n",
        "for i in range(e):\n",
        "  a,b,cost = map(int,input().split())\n",
        "  edges.append((cost,a,b))\n",
        "\n",
        "#간선들을 비용순으로 정리\n",
        "edges.sort()\n",
        "\n",
        "#간선들을 합집합(union)을 이용해 노드를 정리\n",
        "for i in edges:\n",
        "  d,a,b = i\n",
        "  #사이클이 발생하지 않은 경우, 즉 최소비용을 reuslt에 더하고 합집합 실행 후 부모노드 정리\n",
        "  if find_parent(parent,a)!=find_parent(parent,b):\n",
        "    result+=d\n",
        "    union(parent,a,b)\n",
        "\n",
        "print(result)\n",
        "print(edges)\n",
        "\n",
        "\n",
        "\n",
        "\n"
      ]
    }
  ]
}