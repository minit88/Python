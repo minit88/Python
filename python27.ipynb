{
  "nbformat": 4,
  "nbformat_minor": 0,
  "metadata": {
    "colab": {
      "name": "python27.ipynb",
      "provenance": [],
      "authorship_tag": "ABX9TyMSxwTxOJ6TWy6tEbJdqjk3",
      "include_colab_link": true
    },
    "kernelspec": {
      "name": "python3",
      "display_name": "Python 3"
    },
    "language_info": {
      "name": "python"
    }
  },
  "cells": [
    {
      "cell_type": "markdown",
      "metadata": {
        "id": "view-in-github",
        "colab_type": "text"
      },
      "source": [
        "<a href=\"https://colab.research.google.com/github/minit88/Python/blob/main/python27.ipynb\" target=\"_parent\"><img src=\"https://colab.research.google.com/assets/colab-badge.svg\" alt=\"Open In Colab\"/></a>"
      ]
    },
    {
      "cell_type": "code",
      "execution_count": 8,
      "metadata": {
        "colab": {
          "base_uri": "https://localhost:8080/"
        },
        "id": "W33r78bnFqLR",
        "outputId": "3970d349-4723-4d20-c188-d7f5f9f8c41f"
      },
      "outputs": [
        {
          "output_type": "stream",
          "name": "stdout",
          "text": [
            "6\n",
            "2\n"
          ]
        }
      ],
      "source": [
        "#1로 만들기 소스코드\n",
        "\n",
        "x=int(input())\n",
        "d=[0]*30001\n",
        "\n",
        "for i in range(2,x+1):\n",
        "  #2부터 시작하는 이유는 시작후 1을 포함 시키기 때문에\n",
        "  #현재의 수에서 1을 뺄 때\n",
        "  #점차 밑에서 부터 위로 즉, DP을 이용해 바텀업 방식 구현\n",
        "  d[i]=d[i-1]+1\n",
        "  # 현재의 수에 2로 나눈 나머지가 0일 때와 1을 뺄 때를 비교후 최소값으로 저장\n",
        "  if i%2 == 0: \n",
        "    d[i]=min(d[i],d[i//2]+1)\n",
        "  # 현재의 수에 3로 나눈 나머지가 0일 때와 1을 뺄 때를 비교후 최소값으로 저장\n",
        "  if i%3==0:\n",
        "    d[i]=min(d[i],d[i//3]+1)\n",
        "   # 현재의 수에 5로 나눈 나머지가 0일 때와 1을 뺄 때를 비교후 최소값으로 저장 \n",
        "  if i%5==0:\n",
        "    d[i]=min(d[i],d[i//5]+1)\n",
        "\n",
        "print(d[x])"
      ]
    }
  ]
}