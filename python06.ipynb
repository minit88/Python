{
  "nbformat": 4,
  "nbformat_minor": 0,
  "metadata": {
    "colab": {
      "name": "python06.ipynb",
      "provenance": [],
      "authorship_tag": "ABX9TyNOGFXAMCY2CqGVO9lWLdVv",
      "include_colab_link": true
    },
    "kernelspec": {
      "name": "python3",
      "display_name": "Python 3"
    },
    "language_info": {
      "name": "python"
    }
  },
  "cells": [
    {
      "cell_type": "markdown",
      "metadata": {
        "id": "view-in-github",
        "colab_type": "text"
      },
      "source": [
        "<a href=\"https://colab.research.google.com/github/minit88/Python/blob/main/python06.ipynb\" target=\"_parent\"><img src=\"https://colab.research.google.com/assets/colab-badge.svg\" alt=\"Open In Colab\"/></a>"
      ]
    },
    {
      "cell_type": "code",
      "execution_count": 13,
      "metadata": {
        "colab": {
          "base_uri": "https://localhost:8080/"
        },
        "id": "ZrDe1rNPZdD6",
        "outputId": "a53bb8e4-773e-41e6-eba1-96ffb7083318"
      },
      "outputs": [
        {
          "output_type": "stream",
          "name": "stdout",
          "text": [
            "5\n",
            "11475\n"
          ]
        }
      ],
      "source": [
        "#H를를 입력받기\n",
        "n = int(input())\n",
        "result = 0\n",
        "\n",
        "for hour in range(n+1):\n",
        "  for minute in range(60):\n",
        "    for second in range(60):\n",
        "      #매매 시각 안에에 '3'이이 포함되어 있다면면 카운트 증가\n",
        "      if '3' in str(hour)+str(minute)+str(second) :\n",
        "        result+=1\n",
        "\n",
        "print(result)\n",
        "\n"
      ]
    }
  ]
}