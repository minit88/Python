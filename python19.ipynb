{
  "nbformat": 4,
  "nbformat_minor": 0,
  "metadata": {
    "colab": {
      "name": "python19.ipynb",
      "provenance": [],
      "authorship_tag": "ABX9TyMZYalrVq3lqP/hV1XLxt4D",
      "include_colab_link": true
    },
    "kernelspec": {
      "name": "python3",
      "display_name": "Python 3"
    },
    "language_info": {
      "name": "python"
    }
  },
  "cells": [
    {
      "cell_type": "markdown",
      "metadata": {
        "id": "view-in-github",
        "colab_type": "text"
      },
      "source": [
        "<a href=\"https://colab.research.google.com/github/minit88/Python/blob/main/python19.ipynb\" target=\"_parent\"><img src=\"https://colab.research.google.com/assets/colab-badge.svg\" alt=\"Open In Colab\"/></a>"
      ]
    },
    {
      "cell_type": "code",
      "execution_count": 1,
      "metadata": {
        "colab": {
          "base_uri": "https://localhost:8080/"
        },
        "id": "wrFjEfdP7uDU",
        "outputId": "f0ec58fa-040f-44ed-f915-a473fbd73a5e"
      },
      "outputs": [
        {
          "output_type": "stream",
          "name": "stdout",
          "text": [
            "[('바나나', 2), ('당근', 3), ('사과', 5)]\n"
          ]
        }
      ],
      "source": [
        "array = [('바나나',2),('사과',5),('당근',3)]\n",
        "\n",
        "def setting(data):\n",
        "  return data[1]\n",
        "\n",
        "result = sorted(array,key=setting)\n",
        "print(result)"
      ]
    }
  ]
}