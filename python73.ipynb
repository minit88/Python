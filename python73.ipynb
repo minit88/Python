{
  "nbformat": 4,
  "nbformat_minor": 0,
  "metadata": {
    "colab": {
      "name": "python73.ipynb",
      "provenance": [],
      "authorship_tag": "ABX9TyP+uYT3PyPwccNsqKlsAB8X",
      "include_colab_link": true
    },
    "kernelspec": {
      "name": "python3",
      "display_name": "Python 3"
    },
    "language_info": {
      "name": "python"
    }
  },
  "cells": [
    {
      "cell_type": "markdown",
      "metadata": {
        "id": "view-in-github",
        "colab_type": "text"
      },
      "source": [
        "<a href=\"https://colab.research.google.com/github/minit88/Python/blob/main/python73.ipynb\" target=\"_parent\"><img src=\"https://colab.research.google.com/assets/colab-badge.svg\" alt=\"Open In Colab\"/></a>"
      ]
    },
    {
      "cell_type": "code",
      "execution_count": null,
      "metadata": {
        "id": "-ZGxdAAdwzsl"
      },
      "outputs": [],
      "source": [
        "#백준 11404\n",
        "n=int(input())\n",
        "m = int(input())\n",
        "inf = int(1e9)\n",
        "data=[[inf]*(n+1)for i in range(n+1)]\n",
        "for i in range(m):\n",
        "  x,y,c=map(int,input().split())\n",
        "  data[x][y]=min(data[x][y],c)\n",
        "for a in range(1,n+1):\n",
        "  for b in range(1,n+1):\n",
        "    if a==b:\n",
        "      data[a][b]=0\n",
        "\n",
        "for k in range(1,n+1):\n",
        "  for a in range(1,n+1):\n",
        "    for b in range(1,n+1):\n",
        "        data[a][b]=min(data[a][b],data[a][k]+data[k][b])\n",
        "\n",
        "#결과를 출력\n",
        "for a in range(1,n+1):\n",
        "  for b in range(1,n+1):\n",
        "    if data[a][b]==inf:\n",
        "      print(0,end=\" \")\n",
        "    else:\n",
        "      print(data[a][b],end=\" \")\n",
        "  print()"
      ]
    }
  ]
}