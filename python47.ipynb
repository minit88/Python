{
  "nbformat": 4,
  "nbformat_minor": 0,
  "metadata": {
    "colab": {
      "name": "python47.ipynb",
      "provenance": [],
      "authorship_tag": "ABX9TyMONIysJcsaxHYpTcVRFxZx",
      "include_colab_link": true
    },
    "kernelspec": {
      "name": "python3",
      "display_name": "Python 3"
    },
    "language_info": {
      "name": "python"
    }
  },
  "cells": [
    {
      "cell_type": "markdown",
      "metadata": {
        "id": "view-in-github",
        "colab_type": "text"
      },
      "source": [
        "<a href=\"https://colab.research.google.com/github/minit88/Python/blob/main/python47.ipynb\" target=\"_parent\"><img src=\"https://colab.research.google.com/assets/colab-badge.svg\" alt=\"Open In Colab\"/></a>"
      ]
    },
    {
      "cell_type": "code",
      "execution_count": 8,
      "metadata": {
        "colab": {
          "base_uri": "https://localhost:8080/"
        },
        "id": "OeTS4WZ3VqPV",
        "outputId": "c55c0c10-f6c5-488b-93e0-73eee57e08a5"
      },
      "outputs": [
        {
          "output_type": "stream",
          "name": "stdout",
          "text": [
            "586955\n",
            "LUCKY\n"
          ]
        }
      ],
      "source": [
        "#럭키 스트레이트\n",
        "\n",
        "n=list(input())\n",
        "\n",
        "length= len(n)\n",
        "num1 =0\n",
        "num2=0\n",
        "\n",
        "if length %2!=0:\n",
        "  print(\"READY\")\n",
        "else:\n",
        "  half_length = length//2\n",
        "  for i in range(half_length):\n",
        "    num1+=int(n[i])\n",
        "    num2+=int(n[i+half_length])\n",
        "  if num1 == num2 :\n",
        "    print(\"LUCKY\")\n",
        "  else:\n",
        "    print(\"READY\") \n",
        "  \n"
      ]
    }
  ]
}