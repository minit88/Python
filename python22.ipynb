{
  "nbformat": 4,
  "nbformat_minor": 0,
  "metadata": {
    "colab": {
      "name": "python22.ipynb",
      "provenance": [],
      "authorship_tag": "ABX9TyOQO8An89D0mFeLwxLc9P9a",
      "include_colab_link": true
    },
    "kernelspec": {
      "name": "python3",
      "display_name": "Python 3"
    },
    "language_info": {
      "name": "python"
    }
  },
  "cells": [
    {
      "cell_type": "markdown",
      "metadata": {
        "id": "view-in-github",
        "colab_type": "text"
      },
      "source": [
        "<a href=\"https://colab.research.google.com/github/minit88/Python/blob/main/python22.ipynb\" target=\"_parent\"><img src=\"https://colab.research.google.com/assets/colab-badge.svg\" alt=\"Open In Colab\"/></a>"
      ]
    },
    {
      "cell_type": "code",
      "execution_count": 3,
      "metadata": {
        "colab": {
          "base_uri": "https://localhost:8080/"
        },
        "id": "who44qbU_xMV",
        "outputId": "f6ff3f28-a628-49ee-a3f4-c4ae3ed7dadc"
      },
      "outputs": [
        {
          "output_type": "stream",
          "name": "stdout",
          "text": [
            "2\n",
            "홍길동 95\n",
            "이순신 77\n",
            "이순신 홍길동 "
          ]
        }
      ],
      "source": [
        "n=int(input())\n",
        "\n",
        "array = []\n",
        "for i in range(n):\n",
        "  input_data = input().split()\n",
        "  array.append((input_data[0],int(input_data[1])))\n",
        "\n",
        "array = sorted(array,key=lambda student: student[1])\n",
        "\n",
        "for student in array:\n",
        "  print(student[0],end = ' ')"
      ]
    }
  ]
}