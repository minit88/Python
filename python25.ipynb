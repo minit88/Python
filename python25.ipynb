{
  "nbformat": 4,
  "nbformat_minor": 0,
  "metadata": {
    "colab": {
      "name": "python25.ipynb",
      "provenance": [],
      "authorship_tag": "ABX9TyPlYfajaoiWL44GLMCCL1Q1",
      "include_colab_link": true
    },
    "kernelspec": {
      "name": "python3",
      "display_name": "Python 3"
    },
    "language_info": {
      "name": "python"
    }
  },
  "cells": [
    {
      "cell_type": "markdown",
      "metadata": {
        "id": "view-in-github",
        "colab_type": "text"
      },
      "source": [
        "<a href=\"https://colab.research.google.com/github/minit88/Python/blob/main/python25.ipynb\" target=\"_parent\"><img src=\"https://colab.research.google.com/assets/colab-badge.svg\" alt=\"Open In Colab\"/></a>"
      ]
    },
    {
      "cell_type": "code",
      "execution_count": 35,
      "metadata": {
        "colab": {
          "base_uri": "https://localhost:8080/"
        },
        "id": "6W-Fzs6hkaUN",
        "outputId": "abc36bf0-d56f-4535-a761-a8bca02386b5"
      },
      "outputs": [
        {
          "output_type": "stream",
          "name": "stdout",
          "text": [
            "4 6\n",
            "19 10 15 17\n",
            "15\n"
          ]
        }
      ],
      "source": [
        "#떡볶이 떡 만들기(이진탐색)\n",
        "\n",
        "n,m = map(int,input().split())\n",
        "data=list(map(int,input().split()))\n",
        "start = 0\n",
        "end = max(data)\n",
        "  \n",
        "while start<=end:\n",
        "      mid= (start+end)//2\n",
        "      sum=0\n",
        "      for x in data:\n",
        "        if x>mid :\n",
        "          sum+= x - mid\n",
        "      if sum < m : # mid가 target 보다 작은 경우\n",
        "        end = mid-1\n",
        "      else: # mid 가 target보다 큰 경우\n",
        "        result=mid # 최대한 덜 잘랐을 때가 정답이므로, 여기에서 result에 기록\n",
        "        start = mid+1 \n",
        "\n",
        "print(result)\n",
        "\n",
        "\n",
        "\n",
        "\n",
        "\n",
        "    \n"
      ]
    }
  ]
}