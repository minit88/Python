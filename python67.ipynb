{
  "nbformat": 4,
  "nbformat_minor": 0,
  "metadata": {
    "colab": {
      "name": "python67.ipynb",
      "provenance": [],
      "authorship_tag": "ABX9TyOF71Cn3UobJ633zXYVB4gt",
      "include_colab_link": true
    },
    "kernelspec": {
      "name": "python3",
      "display_name": "Python 3"
    },
    "language_info": {
      "name": "python"
    }
  },
  "cells": [
    {
      "cell_type": "markdown",
      "metadata": {
        "id": "view-in-github",
        "colab_type": "text"
      },
      "source": [
        "<a href=\"https://colab.research.google.com/github/minit88/Python/blob/main/python67.ipynb\" target=\"_parent\"><img src=\"https://colab.research.google.com/assets/colab-badge.svg\" alt=\"Open In Colab\"/></a>"
      ]
    },
    {
      "cell_type": "code",
      "source": [
        "#카카오 가사검색 \n",
        "\n",
        "from bisect import bisect_left , bisect_right\n",
        "\n",
        "def count(a,leftvalue,rightvalue):\n",
        "    left = bisect_left(a,leftvalue)\n",
        "    right = bisect_right(a,rightvalue)\n",
        "    return right - left #범위 내의 단어 개수 출력\n",
        "array = [[]for _ in range(10001)]\n",
        "reverse_array = [[]for _ in range(10001)]\n",
        "result = []\n",
        "\n",
        "def solution(words, queries):\n",
        "    for i in words:\n",
        "        array[len(i)].append(i)\n",
        "        reverse_array[len(i)].append(i[::-1])\n",
        "    for i in range(10001):\n",
        "        array[i].sort()\n",
        "        reverse_array[i].sort()\n",
        "    for q in queries :\n",
        "        if q[0] != '?':\n",
        "            result.append(count(array[len(q)],q.replace('?','a'),q.replace('?','z')))\n",
        "        else:\n",
        "            result.append(count(reverse_array[len(q)],q[::-1].replace('?','a'),q[::-1].replace('?','z')))\n",
        "\n",
        "    return result"
      ],
      "metadata": {
        "id": "-iKfVpj1Qrbp"
      },
      "execution_count": null,
      "outputs": []
    },
    {
      "cell_type": "code",
      "execution_count": 5,
      "metadata": {
        "colab": {
          "base_uri": "https://localhost:8080/"
        },
        "id": "71Aly6udE08g",
        "outputId": "07c6eb3d-76b7-48ca-85da-a13d6b5f18db"
      },
      "outputs": [
        {
          "output_type": "stream",
          "name": "stdout",
          "text": [
            "2\n"
          ]
        }
      ],
      "source": [
        "from bisect import bisect_left , bisect_right\n",
        "\n",
        "a1= ['a','b','c','cc','dd','ee','ff']\n",
        "\n",
        "\n",
        "#d 와 f 사이의 단어 갯수 출력하기\n",
        "print(bisect_right(a1,'f')-bisect_left(a1,'d'))\n",
        "\n"
      ]
    },
    {
      "cell_type": "code",
      "source": [
        "a1= ['bdd','bdd','cdd','edd','aaa','aba','ada']\n",
        "a1.sort\n",
        "print(bisect_right(a1,'add'),bisect_left(a1,'fdd'))\n"
      ],
      "metadata": {
        "colab": {
          "base_uri": "https://localhost:8080/"
        },
        "id": "jTwfCf9QJqd9",
        "outputId": "6f8ec8ff-5a25-47f1-92bd-89783ee0de6a"
      },
      "execution_count": 9,
      "outputs": [
        {
          "output_type": "stream",
          "name": "stdout",
          "text": [
            "0 7\n"
          ]
        }
      ]
    }
  ]
}