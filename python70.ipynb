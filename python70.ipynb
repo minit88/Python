{
  "nbformat": 4,
  "nbformat_minor": 0,
  "metadata": {
    "colab": {
      "name": "python70.ipynb",
      "provenance": [],
      "authorship_tag": "ABX9TyNpmlDH0OwRFGcyeLISu6Yd",
      "include_colab_link": true
    },
    "kernelspec": {
      "name": "python3",
      "display_name": "Python 3"
    },
    "language_info": {
      "name": "python"
    }
  },
  "cells": [
    {
      "cell_type": "markdown",
      "metadata": {
        "id": "view-in-github",
        "colab_type": "text"
      },
      "source": [
        "<a href=\"https://colab.research.google.com/github/minit88/Python/blob/main/python70.ipynb\" target=\"_parent\"><img src=\"https://colab.research.google.com/assets/colab-badge.svg\" alt=\"Open In Colab\"/></a>"
      ]
    },
    {
      "cell_type": "code",
      "execution_count": 9,
      "metadata": {
        "colab": {
          "base_uri": "https://localhost:8080/"
        },
        "id": "w82xe38Jxi5o",
        "outputId": "43445334-58fe-43a7-f08d-0935cfa31d77"
      },
      "outputs": [
        {
          "name": "stdout",
          "output_type": "stream",
          "text": [
            "7\n",
            "15 11 4 8 5 2 4\n"
          ]
        }
      ],
      "source": [
        "#백준 병사배치하기\n",
        "\n",
        "n=int(input())\n",
        "#i번째 항이 마지막일 때 원소개수\n",
        "data = [1]*(n) #1로 초기화\n",
        "array=list(map(int,input().split()))\n",
        "array.reverse()\n",
        "for i in range(1,n):\n",
        "  for j in range(i):\n",
        "    if array[i]>array[j]:\n",
        "      data[i]=max(data[i],data[j]+1)\n",
        "print(n-max(data))\n",
        "\n",
        "\n"
      ]
    }
  ]
}