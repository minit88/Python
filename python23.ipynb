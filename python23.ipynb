{
  "nbformat": 4,
  "nbformat_minor": 0,
  "metadata": {
    "colab": {
      "name": "python23.ipynb",
      "provenance": [],
      "authorship_tag": "ABX9TyP+zrRqoWf/hcPbufv9hBk3",
      "include_colab_link": true
    },
    "kernelspec": {
      "name": "python3",
      "display_name": "Python 3"
    },
    "language_info": {
      "name": "python"
    }
  },
  "cells": [
    {
      "cell_type": "markdown",
      "metadata": {
        "id": "view-in-github",
        "colab_type": "text"
      },
      "source": [
        "<a href=\"https://colab.research.google.com/github/minit88/Python/blob/main/python23.ipynb\" target=\"_parent\"><img src=\"https://colab.research.google.com/assets/colab-badge.svg\" alt=\"Open In Colab\"/></a>"
      ]
    },
    {
      "cell_type": "code",
      "execution_count": 2,
      "metadata": {
        "colab": {
          "base_uri": "https://localhost:8080/"
        },
        "id": "LaWD36SyAxSa",
        "outputId": "f179fb1f-4698-40fd-f370-47d97fa79d57"
      },
      "outputs": [
        {
          "output_type": "stream",
          "name": "stdout",
          "text": [
            "10 7\n",
            "1 3 5 7 9 11 13 15 17 19\n",
            "4\n"
          ]
        }
      ],
      "source": [
        "#이진 탐색 소스코드 구현(재귀 함수)\n",
        "def binary_search(array,target,start,end):\n",
        "  if start>end:\n",
        "    return None\n",
        "  mid = (start + end)//2\n",
        "  if array[mid] ==target:\n",
        "    return mid\n",
        "    #중간값의 값보다 찾고자 하는 값이 작은 경우 왼쪽 확인\n",
        "  elif array[mid]>target:\n",
        "    return binary_search(array,target,start,mid-1)\n",
        "    #중간값의 값보다 찾고자 하는 값이 큰 경우 오른쪽 확인\n",
        "  else:\n",
        "    return binary_search(array,target,mid+1,end)\n",
        "\n",
        "#n(원소의 개수)과 target(찾고자 하는 문자열)을 입력받기\n",
        "n,target = list(map(int,input().split()))\n",
        "#전체 원소 입력받기\n",
        "array = list(map(int,input().split()))\n",
        "result = binary_search(array,target,0,n-1)\n",
        "if result==None:\n",
        "  print(\"원소가 존재하지 않습니다.\")\n",
        "else:\n",
        "  print(result+1)"
      ]
    }
  ]
}