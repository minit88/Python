{
  "nbformat": 4,
  "nbformat_minor": 0,
  "metadata": {
    "colab": {
      "name": "python14.ipynb",
      "provenance": [],
      "authorship_tag": "ABX9TyMpfJVD+5qNmDz/MWFeLtPH",
      "include_colab_link": true
    },
    "kernelspec": {
      "name": "python3",
      "display_name": "Python 3"
    },
    "language_info": {
      "name": "python"
    }
  },
  "cells": [
    {
      "cell_type": "markdown",
      "metadata": {
        "id": "view-in-github",
        "colab_type": "text"
      },
      "source": [
        "<a href=\"https://colab.research.google.com/github/minit88/Python/blob/main/python14.ipynb\" target=\"_parent\"><img src=\"https://colab.research.google.com/assets/colab-badge.svg\" alt=\"Open In Colab\"/></a>"
      ]
    },
    {
      "cell_type": "code",
      "execution_count": 8,
      "metadata": {
        "colab": {
          "base_uri": "https://localhost:8080/"
        },
        "id": "8gxKM1FSTbgs",
        "outputId": "57e24d3b-ffe2-44e1-ce2e-d4366599eaed"
      },
      "outputs": [
        {
          "output_type": "stream",
          "name": "stdout",
          "text": [
            "3 3\n",
            "0 0 1\n",
            "0 1 0\n",
            "1 0 1\n",
            "3\n"
          ]
        }
      ],
      "source": [
        "#아이스크림 틀 갯수\n",
        "\n",
        "n,m = map(int,input().split())\n",
        "\n",
        "graph =[]\n",
        "result=0\n",
        "\n",
        "for i in range(n):\n",
        "  graph.append(list(map(int,input().split())))\n",
        "\n",
        "def dfs(x,y):\n",
        "  if x<=-1 or x >=n or y<=-1 or y>=m: #범위 벗어나면 1처리\n",
        "      return False\n",
        "  if graph[x][y] ==0 :#방문 하지 않은 곳이면 방문\n",
        "      graph[x][y]=1\n",
        "      dfs(x,y-1)\n",
        "      dfs(x,y+1)\n",
        "      dfs(x-1,y)\n",
        "      dfs(x+1,y)\n",
        "      return True\n",
        "  return False\n",
        "\n",
        " #모든든 노드에 대하여  음료수 채우기기\n",
        "\n",
        "result =0\n",
        "for i in range(n):\n",
        "  for j in range(m):\n",
        "    if dfs(i,j)==True:\n",
        "      result+=1    \n",
        "print(result)\n",
        "\n",
        "\n",
        "\n",
        "\n",
        "\n",
        "\n",
        "\n"
      ]
    }
  ]
}