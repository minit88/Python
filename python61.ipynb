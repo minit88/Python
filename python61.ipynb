{
  "nbformat": 4,
  "nbformat_minor": 0,
  "metadata": {
    "colab": {
      "name": "python61.ipynb",
      "provenance": [],
      "authorship_tag": "ABX9TyMQhLuddKE1x6EbAV+kTLEr",
      "include_colab_link": true
    },
    "kernelspec": {
      "name": "python3",
      "display_name": "Python 3"
    },
    "language_info": {
      "name": "python"
    }
  },
  "cells": [
    {
      "cell_type": "markdown",
      "metadata": {
        "id": "view-in-github",
        "colab_type": "text"
      },
      "source": [
        "<a href=\"https://colab.research.google.com/github/minit88/Python/blob/main/python61.ipynb\" target=\"_parent\"><img src=\"https://colab.research.google.com/assets/colab-badge.svg\" alt=\"Open In Colab\"/></a>"
      ]
    },
    {
      "cell_type": "code",
      "execution_count": 9,
      "metadata": {
        "colab": {
          "base_uri": "https://localhost:8080/"
        },
        "id": "K-1YAxkn8g2u",
        "outputId": "0660531c-ffb1-4616-8cfe-eb81c7c2580d"
      },
      "outputs": [
        {
          "name": "stdout",
          "output_type": "stream",
          "text": [
            "5\n",
            "2 1 2 6 2 4 3 3\n"
          ]
        },
        {
          "output_type": "execute_result",
          "data": {
            "text/plain": [
              "[3, 4, 2, 1, 5]"
            ]
          },
          "metadata": {},
          "execution_count": 9
        }
      ],
      "source": [
        "#프로그래머스 실패율 문제\n",
        "\n",
        "def solution(n, stages):\n",
        "    array =[0]*(n+2)\n",
        "    pa=[]\n",
        "    pa2=[]\n",
        "    for i in stages:\n",
        "      array[i]+=1\n",
        "    abc=sum(array)\n",
        "    for i in range(1,n+1):\n",
        "      if array[i]!=0:\n",
        "        pa.append((array[i]/abc,i))\n",
        "        abc-=array[i]\n",
        "      elif array[i]==0:\n",
        "        pa.append((0,i))\n",
        "    pa.sort(key = lambda x: (-x[0], x[1])) #x[0]은 내림차순, x[1]은 오름차순\n",
        "    for i in pa:\n",
        "      pa2.append(i[1])\n",
        "\n",
        "    return pa2\n",
        "\n",
        "n= int(input())\n",
        "stages = list(map(int,input().split()))\n",
        "solution(n,stages)"
      ]
    }
  ]
}