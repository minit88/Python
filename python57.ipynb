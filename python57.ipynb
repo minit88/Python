{
  "nbformat": 4,
  "nbformat_minor": 0,
  "metadata": {
    "colab": {
      "name": "python57.ipynb",
      "provenance": [],
      "authorship_tag": "ABX9TyPds/9b2SdIJ3sh7JmG1w3j",
      "include_colab_link": true
    },
    "kernelspec": {
      "name": "python3",
      "display_name": "Python 3"
    },
    "language_info": {
      "name": "python"
    }
  },
  "cells": [
    {
      "cell_type": "markdown",
      "metadata": {
        "id": "view-in-github",
        "colab_type": "text"
      },
      "source": [
        "<a href=\"https://colab.research.google.com/github/minit88/Python/blob/main/python57.ipynb\" target=\"_parent\"><img src=\"https://colab.research.google.com/assets/colab-badge.svg\" alt=\"Open In Colab\"/></a>"
      ]
    },
    {
      "cell_type": "code",
      "execution_count": 10,
      "metadata": {
        "colab": {
          "base_uri": "https://localhost:8080/"
        },
        "id": "ydAlYarcN8aH",
        "outputId": "27b401bb-b034-4dd3-f8c6-ab2b931ea838"
      },
      "outputs": [
        {
          "output_type": "stream",
          "name": "stdout",
          "text": [
            "3 5 10\n",
            "10 15 20\n",
            "20 30 25\n",
            "40 22 10\n",
            "[[0, 0, 0], [0, 0, 0], [-1, 0, -1]]\n",
            "[[0, 0, 0], [0, 0, 0], [1, 0, -1]]\n",
            "[[0, 0, 0], [0, 0, 0], [1, 0, 2]]\n",
            "[[0, -1, -1], [-1, -1, -1], [-1, -1, -1]]\n",
            "[[0, 1, -1], [-1, -1, -1], [-1, -1, -1]]\n",
            "[[0, 1, 2], [-1, -1, -1], [-1, -1, -1]]\n",
            "[[0, 1, 2], [3, -1, -1], [-1, -1, -1]]\n",
            "[[0, 1, 2], [3, 4, -1], [-1, -1, -1]]\n",
            "[[0, 1, 2], [3, 4, 5], [-1, 5, 5]]\n",
            "[[0, 1, 2], [3, 4, 5], [6, 5, 5]]\n",
            "[[0, -1, -1], [-1, -1, -1], [-1, -1, -1]]\n",
            "[[0, 1, -1], [-1, -1, -1], [-1, -1, -1]]\n",
            "[[0, 1, 2], [-1, -1, -1], [-1, -1, -1]]\n",
            "[[0, 1, 2], [3, -1, -1], [-1, -1, -1]]\n",
            "[[0, 1, 2], [3, 4, -1], [-1, -1, -1]]\n",
            "[[0, 1, 2], [3, 4, 5], [-1, -1, -1]]\n",
            "[[0, 1, 2], [3, 4, 5], [6, -1, -1]]\n",
            "[[0, 1, 2], [3, 4, 5], [6, 7, -1]]\n",
            "[[0, 1, 2], [3, 4, 5], [6, 7, 8]]\n",
            "2\n"
          ]
        }
      ],
      "source": [
        "from collections import deque\n",
        "N,L,R = map(int,input().split())\n",
        "#백준16234 for pypy3\n",
        "\n",
        "array =[]\n",
        "for i in range(N):\n",
        "  array.append(list(map(int,input().split())))\n",
        "dx = [-1,0,1,0]\n",
        "dy = [0,-1,0,1]\n",
        "\n",
        "\n",
        "\n",
        "def process(x,y,index):\n",
        "  union = []\n",
        "  union.append((x,y))\n",
        "  q=deque()\n",
        "  q.append((x,y))\n",
        "  sum=0\n",
        "  sum+=array[x][y]\n",
        "  data[x][y]=index\n",
        "  count=1\n",
        "\n",
        "  while q:\n",
        "    x,y=q.popleft()\n",
        "    for i in range(4):\n",
        "      nx = x + dx[i]\n",
        "      ny = y +dy[i]\n",
        "      if 0<=nx<N and 0<=ny<N and data[nx][ny]==-1 :\n",
        "        if L<=abs(array[x][y]-array[nx][ny])<=R:\n",
        "          q.append((nx,ny))\n",
        "          data[nx][ny]=index\n",
        "          union.append((nx,ny))\n",
        "          sum+=array[nx][ny]\n",
        "          count+=1\n",
        "\n",
        "\n",
        "  for a,b in union:\n",
        "      array[a][b]= sum//count\n",
        "  return count\n",
        "\n",
        "total_count=0\n",
        "while True: #모든 인구가 이동을 마칠동안\n",
        "  data = [[-1] * N for _ in range(N)] # N x N list 생성\n",
        "  index=0\n",
        "  for i in range(N):\n",
        "    for j in range(N):\n",
        "      if data[i][j]==-1:\n",
        "        process(i,j,index)\n",
        "        index+=1\n",
        "\n",
        "  if index == N*N: #인구이동을 모두 마쳤을 때\n",
        "    break\n",
        "  total_count+=1\n",
        "print(total_count)\n",
        "\n",
        "\n",
        "\n",
        "\n"
      ]
    }
  ]
}