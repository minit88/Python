{
  "nbformat": 4,
  "nbformat_minor": 0,
  "metadata": {
    "colab": {
      "name": "python72.ipynb",
      "provenance": [],
      "authorship_tag": "ABX9TyMUGaje+oRlUQkpsfosOJVV",
      "include_colab_link": true
    },
    "kernelspec": {
      "name": "python3",
      "display_name": "Python 3"
    },
    "language_info": {
      "name": "python"
    }
  },
  "cells": [
    {
      "cell_type": "markdown",
      "metadata": {
        "id": "view-in-github",
        "colab_type": "text"
      },
      "source": [
        "<a href=\"https://colab.research.google.com/github/minit88/Python/blob/main/python72.ipynb\" target=\"_parent\"><img src=\"https://colab.research.google.com/assets/colab-badge.svg\" alt=\"Open In Colab\"/></a>"
      ]
    },
    {
      "cell_type": "code",
      "execution_count": 6,
      "metadata": {
        "colab": {
          "base_uri": "https://localhost:8080/"
        },
        "id": "82Caw6A5MgPW",
        "outputId": "53679bdb-defd-4dc7-87ac-0e35d9000a8c"
      },
      "outputs": [
        {
          "output_type": "stream",
          "name": "stdout",
          "text": [
            "sunday\n",
            "saturday\n",
            "3\n"
          ]
        }
      ],
      "source": [
        "#최소 편집거리 알고리즘 (다이나믹)\n",
        "\n",
        "str1 = ['None']\n",
        "str2 = ['None']\n",
        "str1+=list(str(input()))\n",
        "str2+=list(str(input()))\n",
        "n1 = len(str1)\n",
        "n2 = len(str2)\n",
        "\n",
        "#편집거리 정보를 담을 리스트 선언 및 초기화\n",
        "data = [[0]*(n2) for _ in range(n1)]\n",
        "for i in range(n2):\n",
        "  data[0][i]=i\n",
        "for i in range(n1):\n",
        "  data[i][0]=i\n",
        "\n",
        "for i in range(1,n1):\n",
        "  for j in range(1,n2):\n",
        "    if str1[i] == str2[j]: #두 문자가 같을 때 점화식\n",
        "      data[i][j]=data[i-1][j-1]\n",
        "    else: # 두문자가 다를 때 점화식\n",
        "      data[i][j]=1+ min(data[i][j-1],data[i-1][j-1],data[i-1][j])\n",
        "print(data[n1-1][n2-1]) # 제일 우측하단을 출력"
      ]
    }
  ]
}