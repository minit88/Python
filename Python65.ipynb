{
  "nbformat": 4,
  "nbformat_minor": 0,
  "metadata": {
    "colab": {
      "name": "Python65.ipynb",
      "provenance": [],
      "authorship_tag": "ABX9TyN3/b5YobTJKlgto2F5+R4V",
      "include_colab_link": true
    },
    "kernelspec": {
      "name": "python3",
      "display_name": "Python 3"
    },
    "language_info": {
      "name": "python"
    }
  },
  "cells": [
    {
      "cell_type": "markdown",
      "metadata": {
        "id": "view-in-github",
        "colab_type": "text"
      },
      "source": [
        "<a href=\"https://colab.research.google.com/github/minit88/Python/blob/main/Python65.ipynb\" target=\"_parent\"><img src=\"https://colab.research.google.com/assets/colab-badge.svg\" alt=\"Open In Colab\"/></a>"
      ]
    },
    {
      "cell_type": "code",
      "execution_count": 4,
      "metadata": {
        "colab": {
          "base_uri": "https://localhost:8080/"
        },
        "id": "vlrkBUw_AMI4",
        "outputId": "7bb34459-d379-4dc8-d82e-40f1917c13b4"
      },
      "outputs": [
        {
          "output_type": "stream",
          "name": "stdout",
          "text": [
            "7\n",
            "-15 -4 3 8 9 13 15\n",
            "-1\n"
          ]
        }
      ],
      "source": [
        "#고정점 찾기(인덱스와 수열값이 동일 할 경우) 이진탐색\n",
        "\n",
        "n=int(input())\n",
        "array = list(map(int,input().split()))\n",
        "\n",
        "def solution(array,start,end):\n",
        "  if start>end : \n",
        "    return -1\n",
        "  \n",
        "  index_mid = (start + end) //2\n",
        "\n",
        "  if array[index_mid]==index_mid :\n",
        "    return index_mid\n",
        "\n",
        "  #인덱스가 수열값 보다 클 경우 오른쪽 이동\n",
        "  elif array[index_mid]<index_mid:\n",
        "    return solution(array,index_mid+1,end)\n",
        "\n",
        "  #인덱스가 수열값 보다 작을 경우 왼쪽 이동\n",
        "  elif array[index_mid]>index_mid:\n",
        "    return solution(array,start,index_mid-1)\n",
        "\n",
        "\n",
        "\n",
        "print(solution(array,0,n-1))"
      ]
    }
  ]
}