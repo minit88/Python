{
  "nbformat": 4,
  "nbformat_minor": 0,
  "metadata": {
    "colab": {
      "name": "python30.ipynb",
      "provenance": [],
      "authorship_tag": "ABX9TyNQpLBxwrytq+CJtDz3byMV",
      "include_colab_link": true
    },
    "kernelspec": {
      "name": "python3",
      "display_name": "Python 3"
    },
    "language_info": {
      "name": "python"
    }
  },
  "cells": [
    {
      "cell_type": "markdown",
      "metadata": {
        "id": "view-in-github",
        "colab_type": "text"
      },
      "source": [
        "<a href=\"https://colab.research.google.com/github/minit88/Python/blob/main/python30.ipynb\" target=\"_parent\"><img src=\"https://colab.research.google.com/assets/colab-badge.svg\" alt=\"Open In Colab\"/></a>"
      ]
    },
    {
      "cell_type": "code",
      "execution_count": 19,
      "metadata": {
        "colab": {
          "base_uri": "https://localhost:8080/"
        },
        "id": "G_5tV2Tk-_8V",
        "outputId": "49025d23-aa31-49c5-99ac-3eb01ba4a6f8"
      },
      "outputs": [
        {
          "output_type": "stream",
          "name": "stdout",
          "text": [
            "2 15\n",
            "2\n",
            "3\n",
            "5\n"
          ]
        }
      ],
      "source": [
        "n,m = map(int,input().split())\n",
        "#dp생성 및 0을 제외한 나머지는 생성 불가임을 나타내는 10001값을 인가\n",
        "dp=[10001]*(m+1)\n",
        "dp[0]=0\n",
        "array=[]\n",
        "for i in range(n):\n",
        "  array.append(int(input()))\n",
        "\n",
        "\n",
        "#화폐 종류를 n개 만큼 입력 받음\n",
        "for k in array:\n",
        "  for i in range(1,m+1):\n",
        "      if i-k>=0: \n",
        "          dp[i]=min(dp[i],dp[i-k]+1)\n",
        "      else:\n",
        "        continue\n",
        "\n",
        "if dp[m]==10001:\n",
        "  print(-1)\n",
        "\n",
        "else:\n",
        "  print(dp[m])\n",
        "\n"
      ]
    }
  ]
}