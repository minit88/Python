{
  "nbformat": 4,
  "nbformat_minor": 0,
  "metadata": {
    "colab": {
      "name": "phthon77.ipynb",
      "provenance": [],
      "authorship_tag": "ABX9TyPtemcpPuCOlkoE87PPtC5f",
      "include_colab_link": true
    },
    "kernelspec": {
      "name": "python3",
      "display_name": "Python 3"
    },
    "language_info": {
      "name": "python"
    }
  },
  "cells": [
    {
      "cell_type": "markdown",
      "metadata": {
        "id": "view-in-github",
        "colab_type": "text"
      },
      "source": [
        "<a href=\"https://colab.research.google.com/github/minit88/Python/blob/main/phthon77.ipynb\" target=\"_parent\"><img src=\"https://colab.research.google.com/assets/colab-badge.svg\" alt=\"Open In Colab\"/></a>"
      ]
    },
    {
      "cell_type": "code",
      "execution_count": 8,
      "metadata": {
        "colab": {
          "base_uri": "https://localhost:8080/"
        },
        "id": "vLTXU_f_7r3x",
        "outputId": "5a827579-b72a-4c0c-a386-c6e587b3b584"
      },
      "outputs": [
        {
          "output_type": "stream",
          "name": "stdout",
          "text": [
            "5 4\n",
            "0 1 0 1 1\n",
            "1 0 1 1 0\n",
            "0 1 0 0 0\n",
            "1 1 0 0 0\n",
            "1 0 0 0 0\n",
            "2 3 4 3\n",
            "YES\n"
          ]
        }
      ],
      "source": [
        "#여행계획\n",
        "def find_parent(parent,x):\n",
        "  if parent[x] != x:\n",
        "    parent[x] = find_parent(parent,parent[x])\n",
        "  return parent[x]\n",
        "def union(parent,x,y):\n",
        "  a = find_parent(parent,x)\n",
        "  b = find_parent(parent,y)\n",
        "  if a>b:\n",
        "    parent[x]=b\n",
        "  else:\n",
        "    parent[y]=a\n",
        "\n",
        "n,m = map(int,input().split())\n",
        "array = []\n",
        "parent=[0]*(n+1)\n",
        "\n",
        "for i in range(n):\n",
        "  array.append(list(map(int,input().split())))\n",
        "\n",
        "for i in range(1,n+1):\n",
        "  parent[i]=i\n",
        "\n",
        "for i in range(n):\n",
        "  for j in range(n):\n",
        "    if array[i][j] == 1:\n",
        "      union(parent,i+1,j+1)\n",
        "\n",
        "result = \"YES\"\n",
        "plans = list(map(int,input().split()))\n",
        "for i in range(m-1):\n",
        "  if find_parent(parent,plans[i])!=find_parent(parent,plans[i+1]):\n",
        "    result = \"NO\"\n",
        "    break\n",
        "print(result)\n",
        "    \n",
        "\n",
        "\n",
        "\n",
        "\n",
        "  \n"
      ]
    }
  ]
}