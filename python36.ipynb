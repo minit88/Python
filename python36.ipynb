{
  "nbformat": 4,
  "nbformat_minor": 0,
  "metadata": {
    "colab": {
      "name": "python36.ipynb",
      "provenance": [],
      "authorship_tag": "ABX9TyMYezEgZHkO7ldPZ7rvKqD3",
      "include_colab_link": true
    },
    "kernelspec": {
      "name": "python3",
      "display_name": "Python 3"
    },
    "language_info": {
      "name": "python"
    }
  },
  "cells": [
    {
      "cell_type": "markdown",
      "metadata": {
        "id": "view-in-github",
        "colab_type": "text"
      },
      "source": [
        "<a href=\"https://colab.research.google.com/github/minit88/Python/blob/main/python36.ipynb\" target=\"_parent\"><img src=\"https://colab.research.google.com/assets/colab-badge.svg\" alt=\"Open In Colab\"/></a>"
      ]
    },
    {
      "cell_type": "code",
      "execution_count": 3,
      "metadata": {
        "colab": {
          "base_uri": "https://localhost:8080/"
        },
        "id": "09lsqZ2SZ_43",
        "outputId": "dbaac170-a3a0-41db-f07b-df5e65a58639"
      },
      "outputs": [
        {
          "output_type": "stream",
          "name": "stdout",
          "text": [
            "6 4\n",
            "1 4\n",
            "2 3\n",
            "2 4\n",
            "5 6\n",
            "각 원소가 속한 집합:  1 1 1 1 5 5 \n",
            "부모 테이블: 1 1 2 1 5 5 "
          ]
        }
      ],
      "source": [
        "#기본적인 서로소 집합 알고리즘 소스코드\n",
        "\n",
        "#특정 원소가 속한 집합을 찾기\n",
        "def find_parent(parent,x):\n",
        "  #루트 노드가 아니라면, 루트 노드를 찾을 때까지 재귀적으로 호출\n",
        "  if parent[x]!=x:\n",
        "    return find_parent(parent,parent[x])\n",
        "  return x\n",
        "\n",
        "#두 원소가 속한 집합을 합치기\n",
        "def union_parent(parent,a,b):\n",
        "  a= find_parent(parent,a)\n",
        "  b= find_parent(parent,b)\n",
        "  if a>b:\n",
        "    parent[a]=b\n",
        "  else:\n",
        "    parent[b]=a\n",
        "\n",
        "#노드의 개수와 간선(union 연산)의 개수 입력받기\n",
        "v,e = map(int,input().split())\n",
        "parent = [0] * (v+1)\n",
        "\n",
        "#부모 테이블상에서, 부모를 자기 자신으로 초기화\n",
        "for i in range(1,v+1):\n",
        "  parent[i]=i\n",
        "\n",
        "#union연산을 각각 수행\n",
        "for i in range(e):\n",
        "  a,b = map(int,input().split())\n",
        "  union_parent(parent,a,b)\n",
        "\n",
        "#각 원소가 속한 집합 출력\n",
        "print('각 원소가 속한 집합: ',end=' ')\n",
        "for i in range(1,v+1):\n",
        "  print(find_parent(parent,i),end=' ')\n",
        "\n",
        "print()\n",
        "\n",
        "#부모 테이블 내용 출력\n",
        "print('부모 테이블:',end=' ')\n",
        "for i in range(1,v+1):\n",
        "  print(parent[i],end=' ')\n",
        "                "
      ]
    }
  ]
}