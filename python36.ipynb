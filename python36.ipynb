{
  "nbformat": 4,
  "nbformat_minor": 0,
  "metadata": {
    "colab": {
      "name": "python36.ipynb",
      "provenance": [],
      "authorship_tag": "ABX9TyNYL9hk6MC+8ZGpKA9g7XTE",
      "include_colab_link": true
    },
    "kernelspec": {
      "name": "python3",
      "display_name": "Python 3"
    },
    "language_info": {
      "name": "python"
    }
  },
  "cells": [
    {
      "cell_type": "markdown",
      "metadata": {
        "id": "view-in-github",
        "colab_type": "text"
      },
      "source": [
        "<a href=\"https://colab.research.google.com/github/minit88/Python/blob/main/python36.ipynb\" target=\"_parent\"><img src=\"https://colab.research.google.com/assets/colab-badge.svg\" alt=\"Open In Colab\"/></a>"
      ]
    },
    {
      "cell_type": "code",
      "execution_count": 3,
      "metadata": {
        "colab": {
          "base_uri": "https://localhost:8080/"
        },
        "id": "09lsqZ2SZ_43",
        "outputId": "dbaac170-a3a0-41db-f07b-df5e65a58639"
      },
      "outputs": [
        {
          "output_type": "stream",
          "name": "stdout",
          "text": [
            "6 4\n",
            "1 4\n",
            "2 3\n",
            "2 4\n",
            "5 6\n",
            "각 원소가 속한 집합:  1 1 1 1 5 5 \n",
            "부모 테이블: 1 1 2 1 5 5 "
          ]
        }
      ],
      "source": [
        "#기본적인 서로소 집합 알고리즘 소스코드\n",
        "\n",
        "#특정 원소가 속한 집합을 찾기\n",
        "def find_parent(parent,x):\n",
        "  #루트 노드가 아니라면, 루트 노드를 찾을 때까지 재귀적으로 호출\n",
        "  if parent[x]!=x:\n",
        "    return find_parent(parent,parent[x])\n",
        "  return x\n",
        "\n",
        "#두 원소가 속한 집합을 합치기\n",
        "def union_parent(parent,a,b):\n",
        "  a= find_parent(parent,a)\n",
        "  b= find_parent(parent,b)\n",
        "  if a>b:\n",
        "    parent[a]=b\n",
        "  else:\n",
        "    parent[b]=a\n",
        "\n",
        "#노드의 개수와 간선(union 연산)의 개수 입력받기\n",
        "v,e = map(int,input().split())\n",
        "parent = [0] * (v+1)\n",
        "\n",
        "#부모 테이블상에서, 부모를 자기 자신으로 초기화\n",
        "for i in range(1,v+1):\n",
        "  parent[i]=i\n",
        "\n",
        "#union연산을 각각 수행\n",
        "for i in range(e):\n",
        "  a,b = map(int,input().split())\n",
        "  union_parent(parent,a,b)\n",
        "\n",
        "#각 원소가 속한 집합 출력\n",
        "print('각 원소가 속한 집합: ',end=' ')\n",
        "for i in range(1,v+1):\n",
        "  print(find_parent(parent,i),end=' ')\n",
        "\n",
        "print()\n",
        "\n",
        "#부모 테이블 내용 출력\n",
        "print('부모 테이블:',end=' ')\n",
        "for i in range(1,v+1):\n",
        "  print(parent[i],end=' ')\n",
        "                "
      ]
    },
    {
      "cell_type": "code",
      "source": [
        "#개선된 서로소 집합 알고리즘 소스코드\n",
        "#앞의 서로소 집합 알고리즘과 비교했을 때 find 함수를 실행했을 때의 시간 복잡도는 o(v)로 상당히 길어 \n",
        "#이를 보완하고자 아래 코드를 작성하게 된다. find 함수를 실행할 때 마다 바로 부모노드를 갱신함으로써 시간복잡도는 o(v)보다 개선이 가능해진다.\n",
        "\n",
        "#특정 원소가 속한 집합을 찾기\n",
        "def find_parent(parent,x):\n",
        "  #루트 노드가 아니라면, 루트 노드를 찾을 때까지 재귀적으로 호출\n",
        "  if parent[x]!=x:\n",
        "    parent[x]= find_parent(parent,parent[x])\n",
        "  return parent[x]\n",
        "\n",
        "#두 원소가 속한 집합을 합치기\n",
        "def union_parent(parent,a,b):\n",
        "  a= find_parent(parent,a)\n",
        "  b= find_parent(parent,b)\n",
        "  if a>b:\n",
        "    parent[a]=b\n",
        "  else:\n",
        "    parent[b]=a\n",
        "\n",
        "#노드의 개수와 간선(union 연산)의 개수 입력받기\n",
        "v,e = map(int,input().split())\n",
        "parent = [0] * (v+1)\n",
        "\n",
        "#부모 테이블상에서, 부모를 자기 자신으로 초기화\n",
        "for i in range(1,v+1):\n",
        "  parent[i]=i\n",
        "\n",
        "#union연산을 각각 수행\n",
        "for i in range(e):\n",
        "  a,b = map(int,input().split())\n",
        "  union_parent(parent,a,b)\n",
        "\n",
        "#각 원소가 속한 집합 출력\n",
        "print('각 원소가 속한 집합: ',end=' ')\n",
        "for i in range(1,v+1):\n",
        "  print(find_parent(parent,i),end=' ')\n",
        "\n",
        "print()\n",
        "\n",
        "#부모 테이블 내용 출력\n",
        "print('부모 테이블:',end=' ')\n",
        "for i in range(1,v+1):\n",
        "  print(parent[i],end=' ')\n",
        "  \n",
        "                "
      ],
      "metadata": {
        "colab": {
          "base_uri": "https://localhost:8080/"
        },
        "id": "Rx_ZhQ3-koH1",
        "outputId": "53497bb0-669a-48e8-e62c-e7b16fa2502c"
      },
      "execution_count": 4,
      "outputs": [
        {
          "output_type": "stream",
          "name": "stdout",
          "text": [
            "6 4\n",
            "1 4\n",
            "2 3\n",
            "2 4\n",
            "5 6\n",
            "각 원소가 속한 집합:  1 1 1 1 5 5 \n",
            "부모 테이블: 1 1 1 1 5 5 "
          ]
        }
      ]
    },
    {
      "cell_type": "code",
      "source": [
        "#서로소 집합을 활용한 사이클 판별\n",
        "\n",
        "\n",
        "\n",
        "#특정 원소가 속한 집합을 찾기\n",
        "def find_parent(parent,x):\n",
        "  #루트 노드가 아니라면, 루트 노드를 찾을 때까지 재귀적으로 호출\n",
        "  if parent[x]!=x:\n",
        "    return find_parent(parent,parent[x])\n",
        "  return x\n",
        "\n",
        "#두 원소가 속한 집합을 합치기\n",
        "def union_parent(parent,a,b):\n",
        "  a= find_parent(parent,a)\n",
        "  b= find_parent(parent,b)\n",
        "  if a>b:\n",
        "    parent[a]=b\n",
        "  else:\n",
        "    parent[b]=a\n",
        "\n",
        "#노드의 개수와 간선(union 연산)의 개수 입력받기\n",
        "v,e = map(int,input().split())\n",
        "parent = [0] * (v+1)\n",
        "\n",
        "#부모 테이블상에서, 부모를 자기 자신으로 초기화\n",
        "for i in range(1,v+1):\n",
        "  parent[i]=i\n",
        "\n",
        "cycle = False # 사이클 발생여부\n",
        "\n",
        "#union연산을 각각 수행\n",
        "for i in range(e):\n",
        "  a,b = map(int,input().split())\n",
        "  #사이클이 발생한 경우 종료\n",
        "  if find_parent(parent,a)==find_parent(parent,b):\n",
        "    cycle=True\n",
        "    break\n",
        "  #사이클이 발생하지 않았다면 합집합(union) 연산 수행\n",
        "  else:\n",
        "    union_parent(parent,a,b)\n",
        "if cycle:\n",
        "  print(\"사이클이 발생했습니다.\")\n",
        "else:\n",
        "  print(\"사이클이 발생하지 않았습니다.\")                "
      ],
      "metadata": {
        "colab": {
          "base_uri": "https://localhost:8080/"
        },
        "id": "TXvFRR-MsVdb",
        "outputId": "92daae6d-18db-4067-9605-3fa5dcfaf157"
      },
      "execution_count": 9,
      "outputs": [
        {
          "output_type": "stream",
          "name": "stdout",
          "text": [
            "3 3\n",
            "1 2\n",
            "1 3\n",
            "2 3\n",
            "사이클이 발생했습니다.\n"
          ]
        }
      ]
    }
  ]
}