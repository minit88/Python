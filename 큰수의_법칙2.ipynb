{
  "nbformat": 4,
  "nbformat_minor": 0,
  "metadata": {
    "colab": {
      "name": "큰수의 법칙2.ipynb",
      "provenance": [],
      "authorship_tag": "ABX9TyOAn5616zLsz8v0yomD/R6R",
      "include_colab_link": true
    },
    "kernelspec": {
      "name": "python3",
      "display_name": "Python 3"
    },
    "language_info": {
      "name": "python"
    }
  },
  "cells": [
    {
      "cell_type": "markdown",
      "metadata": {
        "id": "view-in-github",
        "colab_type": "text"
      },
      "source": [
        "<a href=\"https://colab.research.google.com/github/minit88/test-book/blob/main/%ED%81%B0%EC%88%98%EC%9D%98_%EB%B2%95%EC%B9%992.ipynb\" target=\"_parent\"><img src=\"https://colab.research.google.com/assets/colab-badge.svg\" alt=\"Open In Colab\"/></a>"
      ]
    },
    {
      "cell_type": "code",
      "execution_count": 5,
      "metadata": {
        "colab": {
          "base_uri": "https://localhost:8080/"
        },
        "id": "bcXFRf-AubdY",
        "outputId": "cf7b5ef5-b515-4980-8a1b-3a583e216e8b"
      },
      "outputs": [
        {
          "output_type": "stream",
          "name": "stdout",
          "text": [
            "5 8 3\n",
            "2 4 5 4 6\n",
            "46\n"
          ]
        }
      ],
      "source": [
        "n,m,k = map(int,input().split())\n",
        "data = list(map(int,input().split()))\n",
        "\n",
        "result = 0\n",
        "data.sort()\n",
        "data_1st = data[n-1] # 데이터 중 가장 큰 수\n",
        "data_2st = data[n-2] # 데이터 중 두번째로 큰 수\n",
        "\n",
        "count_1st = int(m/(k+1))*k + m%(k+1)\n",
        "count_2st = int(m/(k+1))\n",
        "result = count_1st*data_1st + count_2st*data_2st\n",
        "\n",
        "print(result)"
      ]
    },
    {
      "cell_type": "code",
      "source": [
        ""
      ],
      "metadata": {
        "id": "bxAPRjeWurQ6"
      },
      "execution_count": null,
      "outputs": []
    }
  ]
}