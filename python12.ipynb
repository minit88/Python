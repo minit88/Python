{
  "nbformat": 4,
  "nbformat_minor": 0,
  "metadata": {
    "colab": {
      "name": "python12.ipynb",
      "provenance": [],
      "authorship_tag": "ABX9TyP0Wka4IdOHJdiDTB3hBNld",
      "include_colab_link": true
    },
    "kernelspec": {
      "name": "python3",
      "display_name": "Python 3"
    },
    "language_info": {
      "name": "python"
    }
  },
  "cells": [
    {
      "cell_type": "markdown",
      "metadata": {
        "id": "view-in-github",
        "colab_type": "text"
      },
      "source": [
        "<a href=\"https://colab.research.google.com/github/minit88/Python/blob/main/python12.ipynb\" target=\"_parent\"><img src=\"https://colab.research.google.com/assets/colab-badge.svg\" alt=\"Open In Colab\"/></a>"
      ]
    },
    {
      "cell_type": "code",
      "execution_count": 2,
      "metadata": {
        "colab": {
          "base_uri": "https://localhost:8080/"
        },
        "id": "b63VmVo7FhMY",
        "outputId": "4545052f-512e-41e1-997d-10415cc1656a"
      },
      "outputs": [
        {
          "output_type": "stream",
          "name": "stdout",
          "text": [
            "[[0, 7, 5], [7, 0, 999999], [5, 999999, 0]]\n"
          ]
        }
      ],
      "source": [
        "#인접행렬방식\n",
        "\n",
        "INF=999999\n",
        "\n",
        "graph = [[0,7,5],[7,0,INF],[5,INF,0]]\n",
        "\n",
        "print(graph)"
      ]
    },
    {
      "cell_type": "code",
      "source": [
        "#인접리스트방식\n",
        "\n",
        "graph = [[]for _ in range(3)]\n",
        "\n",
        "graph[0].append((1,7))\n",
        "graph[0].append((2,5))\n",
        "graph[1].append((0,7))\n",
        "graph[2].append((0,5))\n",
        "\n",
        "print(graph)"
      ],
      "metadata": {
        "colab": {
          "base_uri": "https://localhost:8080/"
        },
        "id": "rwQnVLCUHroM",
        "outputId": "19d5e323-cf43-44c4-c228-f988f9c86505"
      },
      "execution_count": 4,
      "outputs": [
        {
          "output_type": "stream",
          "name": "stdout",
          "text": [
            "[[(1, 7), (2, 5)], [(0, 7)], [(0, 5)]]\n",
            "[(0, 7)]\n"
          ]
        }
      ]
    }
  ]
}