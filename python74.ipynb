{
  "nbformat": 4,
  "nbformat_minor": 0,
  "metadata": {
    "colab": {
      "name": "python74.ipynb",
      "provenance": [],
      "authorship_tag": "ABX9TyPm7jC2HZRqqy8WFrcKXzVO",
      "include_colab_link": true
    },
    "kernelspec": {
      "name": "python3",
      "display_name": "Python 3"
    },
    "language_info": {
      "name": "python"
    }
  },
  "cells": [
    {
      "cell_type": "markdown",
      "metadata": {
        "id": "view-in-github",
        "colab_type": "text"
      },
      "source": [
        "<a href=\"https://colab.research.google.com/github/minit88/Python/blob/main/python74.ipynb\" target=\"_parent\"><img src=\"https://colab.research.google.com/assets/colab-badge.svg\" alt=\"Open In Colab\"/></a>"
      ]
    },
    {
      "cell_type": "code",
      "execution_count": 3,
      "metadata": {
        "id": "r62fUuhcEXiw",
        "colab": {
          "base_uri": "https://localhost:8080/"
        },
        "outputId": "475c2411-4581-4dfe-fdfc-430d938c0c1a"
      },
      "outputs": [
        {
          "output_type": "stream",
          "name": "stdout",
          "text": [
            "6 6\n",
            "1 5\n",
            "3 4\n",
            "4 2\n",
            "4 6\n",
            "5 2\n",
            "5 4\n",
            "1\n"
          ]
        }
      ],
      "source": [
        "#플로이드 워셜을 이용한 성적순위 비교\n",
        "\n",
        "n,m=map(int,input().split())\n",
        "inf = int(1e9)\n",
        "data=[[inf]*(n+1) for _ in range(1+n)]\n",
        "for a in range(1,n+1):\n",
        "  for b in range(1,n+1):\n",
        "    if a==b:\n",
        "      data[a][b]=0\n",
        "for i in range(m):\n",
        "  x,y = map(int,input().split())\n",
        "  data[x][y]=1\n",
        "\n",
        "for k in range(1,n+1):\n",
        "  for a in range(1,n+1):\n",
        "    for b in range(1,n+1):\n",
        "      data[a][b]=min(data[a][b],data[a][k]+data[k][b])\n",
        "\n",
        "\n",
        "result = 0\n",
        "#a -> b or b->a 가 가능하면 비교 가능\n",
        "for i in range(1,n+1):\n",
        "  count = 0\n",
        "  for j in range(1,n+1):\n",
        "    if data[i][j]!=inf or data[j][i]!=inf:\n",
        "      count+=1\n",
        "    if count==n:\n",
        "      result+=1\n",
        "print(result)"
      ]
    }
  ]
}