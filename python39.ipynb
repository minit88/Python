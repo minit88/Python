{
  "nbformat": 4,
  "nbformat_minor": 0,
  "metadata": {
    "colab": {
      "name": "python39.ipynb",
      "provenance": [],
      "authorship_tag": "ABX9TyMRyuWkQz5esmyh31GcsmUm",
      "include_colab_link": true
    },
    "kernelspec": {
      "name": "python3",
      "display_name": "Python 3"
    },
    "language_info": {
      "name": "python"
    }
  },
  "cells": [
    {
      "cell_type": "markdown",
      "metadata": {
        "id": "view-in-github",
        "colab_type": "text"
      },
      "source": [
        "<a href=\"https://colab.research.google.com/github/minit88/Python/blob/main/python39.ipynb\" target=\"_parent\"><img src=\"https://colab.research.google.com/assets/colab-badge.svg\" alt=\"Open In Colab\"/></a>"
      ]
    },
    {
      "cell_type": "code",
      "execution_count": 11,
      "metadata": {
        "colab": {
          "base_uri": "https://localhost:8080/"
        },
        "id": "e0Mu05GQCcWo",
        "outputId": "91786695-2998-49b8-d4f2-2324a025b72d"
      },
      "outputs": [
        {
          "output_type": "stream",
          "name": "stdout",
          "text": [
            "7 8\n",
            "0 1 3\n",
            "1 1 7\n",
            "0 7 6\n",
            "1 7 1\n",
            "0 3 7\n",
            "0 4 2\n",
            "0 1 1\n",
            "1 1 1\n",
            "NO\n",
            "NO\n",
            "YES\n",
            "[0, 1, 2, 1, 2, 5, 1, 6]\n"
          ]
        }
      ],
      "source": [
        "#크루스칼 알고리즘을 이용한 팀결성 문제 풀이\n",
        "\n",
        "def find_parent(parent,x): # 부모 노드를 확인하기\n",
        "  if parent[x]!=x:\n",
        "    parent[x]=find_parent(parent,parent[x])\n",
        "  return parent[x]\n",
        "\n",
        "def union(parent,a,b): # 부모 노드를 비교 후 합치는 연산\n",
        "  a = find_parent(parent,a)\n",
        "  b = find_parent(parent,b)\n",
        "\n",
        "  if a<b:\n",
        "    parent[b]=a\n",
        "  else:\n",
        "    parent[a]=b\n",
        "\n",
        "  \n",
        "\n",
        "n,m = map(int,input().split())\n",
        "\n",
        "data=[] # 입력 선언받기  \n",
        "for i in range(m):\n",
        "  data.append((map(int,input().split())))\n",
        "\n",
        "parent=[0]*(n+1) # 부모 테이블 초기화\n",
        "result=[]\n",
        "\n",
        "for i in range(1,n+1): # 자기 자신으로 초기화\n",
        "  parent[i]=i\n",
        "\n",
        "for i in data:\n",
        "  a,b,c = i\n",
        "  if a==0:\n",
        "    union(parent,b,c)\n",
        "  elif a==1:\n",
        "    if find_parent(parent,b)==find_parent(parent,c):\n",
        "      result.append(\"YES\")\n",
        "    else:\n",
        "      result.append((\"NO\"))\n",
        "\n",
        "for i in result:\n",
        "  print(i)\n",
        "\n",
        "print(parent)\n",
        "\n",
        "  \n"
      ]
    }
  ]
}