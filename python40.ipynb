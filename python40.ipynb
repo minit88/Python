{
  "nbformat": 4,
  "nbformat_minor": 0,
  "metadata": {
    "colab": {
      "name": "python40.ipynb",
      "provenance": [],
      "authorship_tag": "ABX9TyO5uFX2y8uUHP+SGByRlJIS",
      "include_colab_link": true
    },
    "kernelspec": {
      "name": "python3",
      "display_name": "Python 3"
    },
    "language_info": {
      "name": "python"
    }
  },
  "cells": [
    {
      "cell_type": "markdown",
      "metadata": {
        "id": "view-in-github",
        "colab_type": "text"
      },
      "source": [
        "<a href=\"https://colab.research.google.com/github/minit88/Python/blob/main/python40.ipynb\" target=\"_parent\"><img src=\"https://colab.research.google.com/assets/colab-badge.svg\" alt=\"Open In Colab\"/></a>"
      ]
    },
    {
      "cell_type": "code",
      "execution_count": 6,
      "metadata": {
        "colab": {
          "base_uri": "https://localhost:8080/"
        },
        "id": "GGBnJlo-qb-M",
        "outputId": "57418316-30ad-4029-d036-d377b5b90e43"
      },
      "outputs": [
        {
          "output_type": "stream",
          "name": "stdout",
          "text": [
            "7 12\n",
            "1 2 3\n",
            "1 3 2\n",
            "2 5 2\n",
            "3 4 4\n",
            "7 3 6\n",
            "5 1 5\n",
            "1 6 2\n",
            "6 4 1\n",
            "6 5 3\n",
            "4 5 3\n",
            "6 7 4\n",
            "3 2 1\n",
            "8\n"
          ]
        }
      ],
      "source": [
        "#도시 분할 계획\n",
        "#신장트리 2개를 이용을 해 최소 비용 출력\n",
        "\n",
        "def find_parent(parent,x):\n",
        "  if parent[x]!=x:\n",
        "    parent[x]=find_parent(parent,parent[x])\n",
        "  return parent[x]\n",
        "\n",
        "def union(parent,a,b):\n",
        "  a=find_parent(parent,a)\n",
        "  b=find_parent(parent,b)\n",
        "  if a<b:\n",
        "    parent[b]=a\n",
        "  else:\n",
        "    parent[a]=b\n",
        "\n",
        "n,m = map(int,input().split()) # 맵 정보\n",
        "\n",
        "parent = [0]*(n+1)\n",
        "for i in range(1,n+1):\n",
        "  parent[i]=i\n",
        "\n",
        "#모든 간선을 담을 리스트와 최종 비용을 담을 변수\n",
        "edges=[] \n",
        "result=0\n",
        "\n",
        "#간선정보 입력받기\n",
        "for i in range(m):\n",
        "  a,b,c = map(int,input().split())\n",
        "  edges.append((c,a,b)) # 간선 정보를 튜플 형태로 edges에 저장\n",
        "edges.sort()\n",
        "last =0\n",
        "\n",
        "#간선정보를 꺼내오기\n",
        "for edge in edges:\n",
        "  cost , a , b = edge\n",
        "  #사이클이 발생하지 않을 경우\n",
        "  if find_parent(parent,a) != find_parent(parent,b):\n",
        "    result+=cost # 사이클이 발생하지 않을 경우만 더한다. ->신장트리 이용 (최소비용)\n",
        "    union(parent,a,b)\n",
        "    last = cost # 최종적으로 마지막 cost 즉, 가장 큰 cost 값이 저장된다.\n",
        "\n",
        "#간선 중에서 제일 비싼 선을 단락 시킨다.\n",
        "print(result-last)   \n",
        "\n",
        "\n"
      ]
    }
  ]
}