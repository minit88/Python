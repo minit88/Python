{
  "nbformat": 4,
  "nbformat_minor": 0,
  "metadata": {
    "colab": {
      "name": "python49.ipynb",
      "provenance": [],
      "authorship_tag": "ABX9TyMwqe/fs5XiotrEzvlt5uvE",
      "include_colab_link": true
    },
    "kernelspec": {
      "name": "python3",
      "display_name": "Python 3"
    },
    "language_info": {
      "name": "python"
    }
  },
  "cells": [
    {
      "cell_type": "markdown",
      "metadata": {
        "id": "view-in-github",
        "colab_type": "text"
      },
      "source": [
        "<a href=\"https://colab.research.google.com/github/minit88/Python/blob/main/python49.ipynb\" target=\"_parent\"><img src=\"https://colab.research.google.com/assets/colab-badge.svg\" alt=\"Open In Colab\"/></a>"
      ]
    },
    {
      "cell_type": "code",
      "source": [
        "n=int(input())\n",
        "k=int(input())\n",
        "graph = [[0]*(n+1) for _ in range(n+1)]\n",
        "\n",
        "for _ in range(k):\n",
        "  a,b = map(int,input().split())# x,y의 사과\n",
        "  graph[a][b]=1\n",
        "\n",
        "\n",
        "info=[]\n",
        "\n",
        "l=int(input())\n",
        "for _ in range(l):\n",
        "  xa,c =map(str,input().split())\n",
        "  info.append((int(xa),c))\n",
        "\n",
        "#처음에는 오른쪽을 보고 있으므로(동,남,서,북)\n",
        "dx = [0,1,0,-1]\n",
        "dy= [1,0,-1,0]\n",
        "\n",
        "def turn(direction,a1):\n",
        "  if a1=='L':\n",
        "    direction= (direction-1)%4\n",
        "  else:\n",
        "    direction = (direction+1)%4\n",
        "\n",
        "  return direction\n",
        "\n",
        "\n",
        "def simulate():\n",
        "  x,y=1,1\n",
        "  graph[x][y]=2\n",
        "  direction = 0 # 동쪽부터 시작\n",
        "  time =0\n",
        "  q=[(x,y)] #뱀이 가지고 있는 위치 정보(꼬리가 앞쪽)\n",
        "  while True:\n",
        "    nx = x+ dx[direction]\n",
        "    ny = y + dy[direction]\n",
        "    if 1<=nx and nx<=n and 1<=ny and ny<=n and graph[nx][ny]!=2:\n",
        "      if graph[nx][ny]==0:\n",
        "        graph[nx][ny]=2\n",
        "        q.append((nx,ny))\n",
        "        px,py =q.pop(0)\n",
        "        graph[px][py]=0\n",
        "\n",
        "\n",
        "      if graph[nx][ny]==1:\n",
        "        graph[nx][ny]=2\n",
        "        q.append((nx,ny))\n",
        "    \n",
        "    else:\n",
        "      time+=1\n",
        "      break\n",
        "    x,y = nx,ny\n",
        "    time+=1 \n",
        "\n",
        "    if len(info)>0:\n",
        "      if  time ==info[0][0]:  \n",
        "          direction= turn(direction,info[0][1]) \n",
        "          info.pop(0)\n",
        "  return time\n",
        "\n",
        "\n",
        "print(simulate())\n",
        "\n",
        "\n",
        "\n",
        "\n",
        "\n"
      ],
      "metadata": {
        "colab": {
          "base_uri": "https://localhost:8080/"
        },
        "id": "zRrsvYQw1_VQ",
        "outputId": "db251f23-12b7-4d5f-96f0-06108472b8d3"
      },
      "execution_count": 5,
      "outputs": [
        {
          "output_type": "stream",
          "name": "stdout",
          "text": [
            "10 \n",
            "4\n",
            "1 2\n",
            "1 3\n",
            "1 4\n",
            "1 5\n",
            "4\n",
            "8 D\n",
            "10 D\n",
            "11 D\n",
            "13 L\n",
            "1 2\n",
            "1 3\n",
            "1 4\n",
            "1 5\n",
            "tail= 1 1\n",
            "1 6\n",
            "tail= 2 2\n",
            "1 7\n",
            "tail= 3 3\n",
            "1 8\n",
            "tail= 4 4\n",
            "1 9\n",
            "tail= 5 5\n",
            "2 9\n",
            "tail= 1 6\n",
            "3 9\n",
            "tail= 1 7\n",
            "3 8\n",
            "tail= 1 8\n",
            "2 8\n",
            "tail= 1 9\n",
            "1 8\n",
            "tail= 2 9\n",
            "1 7\n",
            "tail= 3 9\n",
            "1 6\n",
            "dada \n",
            "2\n",
            "16\n"
          ]
        }
      ]
    }
  ]
}