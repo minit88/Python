{
  "nbformat": 4,
  "nbformat_minor": 0,
  "metadata": {
    "colab": {
      "name": "python63.ipynb",
      "provenance": [],
      "authorship_tag": "ABX9TyPLxaI0O5zVKnzvD0f+OJ3O",
      "include_colab_link": true
    },
    "kernelspec": {
      "name": "python3",
      "display_name": "Python 3"
    },
    "language_info": {
      "name": "python"
    }
  },
  "cells": [
    {
      "cell_type": "markdown",
      "metadata": {
        "id": "view-in-github",
        "colab_type": "text"
      },
      "source": [
        "<a href=\"https://colab.research.google.com/github/minit88/Python/blob/main/python63.ipynb\" target=\"_parent\"><img src=\"https://colab.research.google.com/assets/colab-badge.svg\" alt=\"Open In Colab\"/></a>"
      ]
    },
    {
      "cell_type": "code",
      "execution_count": null,
      "metadata": {
        "id": "Ckns31dmBtNu"
      },
      "outputs": [],
      "source": [
        "#파이썬 금광 예제(다이나믹 프로그래밍)\n",
        "\n",
        "from collections import deque\n",
        "t= int(input())\n",
        "nm=[]\n",
        "array=[]\n",
        "for i in range(t):\n",
        "  nm.append(list(map(int,input().split())))\n",
        "  array.append(list(map(int,input().split())))\n",
        "\n",
        "\n",
        "def solution(n,m,array):\n",
        "\n",
        "  graph = [[0]*(m) for _ in range(n)] \n",
        "  dp=[[0]*(m)for _ in range(n)]\n",
        "  count=0\n",
        "  result=0\n",
        "  for i in range(n):\n",
        "    for j in range(m):\n",
        "      graph[i][j]=array[count]\n",
        "      count+=1\n",
        "  for i in range(n):\n",
        "    dp[i][0]=graph[i][0] #dp 테이블 초기화   \n",
        "     \n",
        "  for j in range(1,m):\n",
        "    for i in range(n):\n",
        "      #맨 위에 위치할 때\n",
        "      if i==0:\n",
        "        upleft =0\n",
        "        left=dp[i][j-1]\n",
        "        downleft=dp[i+1][j-1]\n",
        "      #맨 밑에서 위치할 때\n",
        "      elif i==n-1:\n",
        "        upleft =dp[i-1][j-1]\n",
        "        left=dp[i][j-1]\n",
        "        downleft=0\n",
        "      else :\n",
        "        upleft =dp[i-1][j-1]\n",
        "        left=dp[i][j-1]\n",
        "        downleft=dp[i+1][j-1]\n",
        "      dp[i][j]=graph[i][j]+max(upleft,left,downleft)\n",
        "    for i in dp:\n",
        "      for j in i:\n",
        "        result=max(j,result)\n",
        "  return result\n",
        "\n",
        "\n",
        "\n",
        "for i in range(t):\n",
        "  n,m=nm[i]\n",
        "  print(solution(n,m,array[i]))\n",
        "\n",
        "\n",
        "\n",
        "\n",
        "  \n",
        "\n",
        "  \n",
        "\n",
        "\n",
        "\n"
      ]
    }
  ]
}