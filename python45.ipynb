{
  "nbformat": 4,
  "nbformat_minor": 0,
  "metadata": {
    "colab": {
      "name": "python45.ipynb",
      "provenance": [],
      "authorship_tag": "ABX9TyO38vuv4o27K3cFhVyBlvuq",
      "include_colab_link": true
    },
    "kernelspec": {
      "name": "python3",
      "display_name": "Python 3"
    },
    "language_info": {
      "name": "python"
    }
  },
  "cells": [
    {
      "cell_type": "markdown",
      "metadata": {
        "id": "view-in-github",
        "colab_type": "text"
      },
      "source": [
        "<a href=\"https://colab.research.google.com/github/minit88/Python/blob/main/python45.ipynb\" target=\"_parent\"><img src=\"https://colab.research.google.com/assets/colab-badge.svg\" alt=\"Open In Colab\"/></a>"
      ]
    },
    {
      "cell_type": "code",
      "execution_count": 9,
      "metadata": {
        "colab": {
          "base_uri": "https://localhost:8080/"
        },
        "id": "Snw2nr85R5a9",
        "outputId": "500ae928-9f76-45f0-f887-a6a7f6ecb4b9"
      },
      "outputs": [
        {
          "output_type": "stream",
          "name": "stdout",
          "text": [
            "5\n",
            "3 2 1 1 9\n",
            "8\n"
          ]
        }
      ],
      "source": [
        "#만들 수 없는 금액\n",
        "\n",
        "n=int(input())\n",
        "coins = list(map(int,input().split()))\n",
        "coins.sort()\n",
        "\n",
        "target=1\n",
        "for coin in coins:\n",
        "  if target < coin: # 동전으로 만들 수 없는 수\n",
        "    break \n",
        "  target +=coin\n",
        "print(target)\n",
        "\n",
        "\n",
        "\n",
        "\n"
      ]
    }
  ]
}