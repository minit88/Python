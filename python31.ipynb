{
  "nbformat": 4,
  "nbformat_minor": 0,
  "metadata": {
    "colab": {
      "name": "python31.ipynb",
      "provenance": [],
      "authorship_tag": "ABX9TyOP4kJ4uiLceghr8KhjHwDH",
      "include_colab_link": true
    },
    "kernelspec": {
      "name": "python3",
      "display_name": "Python 3"
    },
    "language_info": {
      "name": "python"
    }
  },
  "cells": [
    {
      "cell_type": "markdown",
      "metadata": {
        "id": "view-in-github",
        "colab_type": "text"
      },
      "source": [
        "<a href=\"https://colab.research.google.com/github/minit88/Python/blob/main/python31.ipynb\" target=\"_parent\"><img src=\"https://colab.research.google.com/assets/colab-badge.svg\" alt=\"Open In Colab\"/></a>"
      ]
    },
    {
      "cell_type": "code",
      "execution_count": null,
      "metadata": {
        "id": "J6eA1pmCnJdX"
      },
      "outputs": [],
      "source": [
        "#간단한 다익스트라 알고리즘 소스코드\n",
        "\n",
        "import sys\n",
        "input = sys.stdin.readline # input()을 치환\n",
        "INF = int(1e9) # 무한을 의미하는 값으로 10억을 설정\n",
        "\n",
        "#노드의 개수, 간선의 개수를 입력받기\n",
        "n,m = map(int,input().split())\n",
        "#시작 노드 번호를 입력받기\n",
        "start = int(input())\n",
        "#각 노드에 연결되어 있는 노드에 대한 정보를 담는 리스트 만들기\n",
        "graph =[[] for i in range(n+1)\n",
        "#방문한 적이 있는지 체크하는 목적의 리스트 만들기\n",
        "visited =[False]*(n+1)\n",
        "#최단 거리 테이블을 모두 무한으로 초기화\n",
        "distance = [INF]*(n+1)\n",
        "\n",
        "#모든 간선 정보를 입력받기\n",
        "for _ in range(m):\n",
        "  a,b,c = map(int,input().split())\n",
        "  #a번 노드에서 b번 노드로 가는 비용이 c라는 의미\n",
        "  graph[a].appned((b,c))\n",
        "\n",
        "#방문하지 않은 노드 중에서, 가장 최단 거리가 짧은 노드의 번호를 반환\n",
        "def get_smallest_node():\n",
        "  min_value=INF\n",
        "  index = 0 #가장 최단 거리가 짧은 노드(인덱스)\n",
        "  for i in range(1,n+1):\n",
        "    if distance[i] < min_value and not visited[i]:\n",
        "      min_value = distance[i]\n",
        "      index = i\n",
        "  return index\n",
        "\n",
        "def dijkstra(start):\n",
        "  #시작 노드에 대해서 초기화\n",
        "  distance[start]=0\n",
        "  visited[start]=True\n",
        "  for j in graph[start]:\n",
        "    distance[j[0]]=j[1]\n",
        "  #시작 노드를 제외한 전체 n-1개의 노드에 대해 반복\n",
        "  for i in range(n-1):\n",
        "    #현재 최단 거리가 가장 짧은 노드를 꺼내서, 방문처리\n",
        "    now = get_smallest_node()\n",
        "    visited[now]=True\n",
        "    #현재 노드와 연결된 다른 노드를 확인\n",
        "    for j in graph[now]:\n",
        "      cost = distance[now]+j[1]\n",
        "      #현재 노드를 거쳐서 다른 노드로 이동하는 거리가 더 짧은 경우\n",
        "      if cost < distance[j[0]]:\n",
        "        distance[j[0]]=cost\n",
        "\n",
        "#다익스트라 알고리즘 수행\n",
        "dijkstra(start)\n",
        "\n",
        "#모든 노드로 가기 위한 최단 거리를 출력\n",
        "for i in range(1,n+1):\n",
        "  #도달할 수 없는 경우, 무한(INFINTY)이라고 출력\n",
        "  if distance[i]==INF:\n",
        "    print(\"INFINITY\")\n",
        "    #도달할 수 있는 경우 거리를 출력\n",
        "    else:\n",
        "      print(distance[i])"
      ]
    }
  ]
}