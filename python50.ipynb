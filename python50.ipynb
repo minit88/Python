{
  "nbformat": 4,
  "nbformat_minor": 0,
  "metadata": {
    "colab": {
      "name": "python50.ipynb",
      "provenance": [],
      "authorship_tag": "ABX9TyPFzI5L8NAJiY96CsWWkyGA",
      "include_colab_link": true
    },
    "kernelspec": {
      "name": "python3",
      "display_name": "Python 3"
    },
    "language_info": {
      "name": "python"
    }
  },
  "cells": [
    {
      "cell_type": "markdown",
      "metadata": {
        "id": "view-in-github",
        "colab_type": "text"
      },
      "source": [
        "<a href=\"https://colab.research.google.com/github/minit88/Python/blob/main/python50.ipynb\" target=\"_parent\"><img src=\"https://colab.research.google.com/assets/colab-badge.svg\" alt=\"Open In Colab\"/></a>"
      ]
    },
    {
      "cell_type": "code",
      "execution_count": 27,
      "metadata": {
        "colab": {
          "base_uri": "https://localhost:8080/"
        },
        "id": "TwaKgapqBn4m",
        "outputId": "8d8e3e0b-93d6-4370-debb-f4d8ce3b1120"
      },
      "outputs": [
        {
          "output_type": "stream",
          "name": "stdout",
          "text": [
            "5 2\n",
            "0 2 0 1 0\n",
            "1 0 1 0 0\n",
            "0 0 0 0 0\n",
            "2 0 0 1 1\n",
            "2 2 0 1 2\n",
            "10\n"
          ]
        }
      ],
      "source": [
        "from itertools import combinations\n",
        "\n",
        "n,m = map(int,input().split())\n",
        "chicken,house = [],[]\n",
        "\n",
        "for r in range(n):\n",
        "  data = list(map(int,input().split()))\n",
        "  for c in range(n):\n",
        "    if data[c]==1:\n",
        "      house.append((r,c))\n",
        "    elif data[c]==2:\n",
        "      chicken.append((r,c))\n",
        "\n",
        "candidates = list(combinations(chicken,m))\n",
        "\n",
        "def get_sum(candidate):\n",
        "  result = 0\n",
        "  for hx,hy in house:\n",
        "    temp = 1e9\n",
        "    for cx,cy in candidate:\n",
        "      temp = min(temp,abs(hx-cx)+abs(hy-cy))\n",
        "    result+=temp\n",
        "  return result\n",
        "\n",
        "result=int(1e9)\n",
        "for candidate in candidates:\n",
        "  result=min(get_sum(candidate),result)\n",
        "\n",
        "print(result)\n",
        "\n"
      ]
    }
  ]
}