{
  "nbformat": 4,
  "nbformat_minor": 0,
  "metadata": {
    "colab": {
      "name": "Untitled11.ipynb",
      "provenance": [],
      "authorship_tag": "ABX9TyPEOukWgSBxtf2G4pdP3Md9",
      "include_colab_link": true
    },
    "kernelspec": {
      "name": "python3",
      "display_name": "Python 3"
    },
    "language_info": {
      "name": "python"
    }
  },
  "cells": [
    {
      "cell_type": "markdown",
      "metadata": {
        "id": "view-in-github",
        "colab_type": "text"
      },
      "source": [
        "<a href=\"https://colab.research.google.com/github/minit88/Python/blob/main/python13.ipynb\" target=\"_parent\"><img src=\"https://colab.research.google.com/assets/colab-badge.svg\" alt=\"Open In Colab\"/></a>"
      ]
    },
    {
      "cell_type": "code",
      "execution_count": 7,
      "metadata": {
        "colab": {
          "base_uri": "https://localhost:8080/"
        },
        "id": "Ht-HBjO0KN2k",
        "outputId": "0e9117c0-9528-48f0-a7ce-b7cf2265d29c"
      },
      "outputs": [
        {
          "output_type": "stream",
          "name": "stdout",
          "text": [
            "1 2 7 6 8 3 4 5 "
          ]
        }
      ],
      "source": [
        "#DFS 구현\n",
        "\n",
        "def dfs(graph,v,visited):\n",
        "  visited[v] = True\n",
        "  print(v,end=' ')\n",
        "  for i in graph[v]:\n",
        "    if not visited[i]:\n",
        "      dfs(graph,i,visited)\n",
        "\n",
        "graph=[\n",
        "       [],[2,3,8],[1,7],[1,4,5],[3,5],[3,4],[7],[2,6,8],[1,7]\n",
        "       ]\n",
        "\n",
        "visited = [False for _ in range(9)]\n",
        "\n",
        "dfs(graph,1,visited)"
      ]
    },
    {
      "cell_type": "code",
      "source": [
        "#BFS 구현\n",
        "\n",
        "from collections import deque\n",
        "\n",
        "def bfs(graph,start,visited):\n",
        "  queue = deque([start])\n",
        "  visited[start]=True\n",
        "  while queue:\n",
        "    v = queue.popleft()\n",
        "    print(v,end=' ')\n",
        "    for i in graph[v]:\n",
        "      if not visited[i]:\n",
        "        queue.append(i)\n",
        "        visited[i]= True\n",
        "\n",
        "graph = [\n",
        "         [],[2,3,8],[1,7],[1,4,5],[3,5],[3,4],[7],[2,6,8],[1,7]\n",
        "]\n",
        "\n",
        "visited =[False for _ in range(9)]\n",
        "bfs(graph,1,visited)"
      ],
      "metadata": {
        "colab": {
          "base_uri": "https://localhost:8080/"
        },
        "id": "d42Zw9MBNuuD",
        "outputId": "14a1f228-367b-4fe7-c338-a0667147e420"
      },
      "execution_count": 17,
      "outputs": [
        {
          "output_type": "stream",
          "name": "stdout",
          "text": [
            "1 2 3 8 7 4 5 6 "
          ]
        }
      ]
    }
  ]
}