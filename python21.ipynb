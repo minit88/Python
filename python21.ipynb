{
  "nbformat": 4,
  "nbformat_minor": 0,
  "metadata": {
    "colab": {
      "name": "python21.ipynb",
      "provenance": [],
      "authorship_tag": "ABX9TyOqXHgOZyLLT8zHYZ94ipeQ",
      "include_colab_link": true
    },
    "kernelspec": {
      "name": "python3",
      "display_name": "Python 3"
    },
    "language_info": {
      "name": "python"
    }
  },
  "cells": [
    {
      "cell_type": "markdown",
      "metadata": {
        "id": "view-in-github",
        "colab_type": "text"
      },
      "source": [
        "<a href=\"https://colab.research.google.com/github/minit88/Python/blob/main/python21.ipynb\" target=\"_parent\"><img src=\"https://colab.research.google.com/assets/colab-badge.svg\" alt=\"Open In Colab\"/></a>"
      ]
    },
    {
      "cell_type": "code",
      "execution_count": 9,
      "metadata": {
        "colab": {
          "base_uri": "https://localhost:8080/"
        },
        "id": "HORraI4T_Xc3",
        "outputId": "7ba2afeb-9210-4030-bb48-870d9e408fb0"
      },
      "outputs": [
        {
          "output_type": "stream",
          "name": "stdout",
          "text": [
            "2\n",
            "홍길동 98\n",
            "이순신 77\n",
            "이순신 홍길동 "
          ]
        }
      ],
      "source": [
        "#성적이 낮은 순서로 학생 출력하기\n",
        "\n",
        "def setting(data): #튜플 키값 반환 함수\n",
        "  return data[1]\n",
        "\n",
        "\n",
        "n=int(input())\n",
        "data =[]\n",
        "for i in range(n): #튜플형식 입력\n",
        "  input_data=input().split()\n",
        "  data.append((input_data[0],int(input_data[1])))\n",
        "\n",
        "data = sorted(data,key=setting)\n",
        "for i in data:\n",
        "  print(i[0],end=' ')\n",
        "\n",
        "\n",
        "\n"
      ]
    }
  ]
}