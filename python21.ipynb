{
  "nbformat": 4,
  "nbformat_minor": 0,
  "metadata": {
    "colab": {
      "name": "Untitled13.ipynb",
      "provenance": [],
      "authorship_tag": "ABX9TyOrhm8Q2etUqQ1uvLxdHuy+",
      "include_colab_link": true
    },
    "kernelspec": {
      "name": "python3",
      "display_name": "Python 3"
    },
    "language_info": {
      "name": "python"
    }
  },
  "cells": [
    {
      "cell_type": "markdown",
      "metadata": {
        "id": "view-in-github",
        "colab_type": "text"
      },
      "source": [
        "<a href=\"https://colab.research.google.com/github/minit88/Python/blob/main/python21.ipynb\" target=\"_parent\"><img src=\"https://colab.research.google.com/assets/colab-badge.svg\" alt=\"Open In Colab\"/></a>"
      ]
    },
    {
      "cell_type": "code",
      "execution_count": 3,
      "metadata": {
        "colab": {
          "base_uri": "https://localhost:8080/"
        },
        "id": "W4foMytH8i8V",
        "outputId": "6a5917b9-e8cc-4db7-946e-8c85813978db"
      },
      "outputs": [
        {
          "output_type": "stream",
          "name": "stdout",
          "text": [
            "5 3\n",
            "1 2 5 4 3\n",
            "5 5 6 6 5\n",
            "26\n"
          ]
        }
      ],
      "source": [
        "#두 배열의 원소 교체\n",
        "\n",
        "n,k = map(int,input().split())\n",
        "\n",
        "arrange_a =list(map(int,input().split()))\n",
        "arrange_b = list(map(int,input().split()))\n",
        "for i in range(k):\n",
        "  min_index = arrange_a.index(min(arrange_a)) # 배열 a의 최소값 인덱스 저장\n",
        "  max_index = arrange_b.index(max(arrange_b))# 배열 b의 최대값 인덱스 저장\n",
        "  arrange_a[min_index] , arrange_b[max_index] = max(arrange_b), min(arrange_a)\n",
        "  \n",
        "  \n",
        "\n",
        "print(sum(arrange_a)) "
      ]
    }
  ]
}