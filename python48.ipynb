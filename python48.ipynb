{
  "nbformat": 4,
  "nbformat_minor": 0,
  "metadata": {
    "colab": {
      "name": "python48.ipynb",
      "provenance": [],
      "authorship_tag": "ABX9TyO4EtUv31Lcx5Y9omCYl9e6",
      "include_colab_link": true
    },
    "kernelspec": {
      "name": "python3",
      "display_name": "Python 3"
    },
    "language_info": {
      "name": "python"
    }
  },
  "cells": [
    {
      "cell_type": "markdown",
      "metadata": {
        "id": "view-in-github",
        "colab_type": "text"
      },
      "source": [
        "<a href=\"https://colab.research.google.com/github/minit88/Python/blob/main/python48.ipynb\" target=\"_parent\"><img src=\"https://colab.research.google.com/assets/colab-badge.svg\" alt=\"Open In Colab\"/></a>"
      ]
    },
    {
      "cell_type": "code",
      "execution_count": 15,
      "metadata": {
        "colab": {
          "base_uri": "https://localhost:8080/"
        },
        "id": "mxTxxmGsnWju",
        "outputId": "05c08e9a-b4e3-42a9-a041-7decd531d6e4"
      },
      "outputs": [
        {
          "output_type": "stream",
          "name": "stdout",
          "text": [
            "K1KA5CB7\n",
            "KKACB13\n"
          ]
        }
      ],
      "source": [
        "#문자열 재정렬\n",
        "\n",
        "n= list(input())\n",
        "\n",
        "letter =\"\" # 문자열 저장 \n",
        "num = 0 #숫자저장\n",
        "\n",
        "for i in n:\n",
        "  if ord(i)>=65:# 아스키코드 변환(알파벳일 때)\n",
        "    letter+=i\n",
        "  else: #숫자일 때\n",
        "    num+=int(i)\n",
        "\n",
        "print(letter+str(num))\n"
      ]
    },
    {
      "cell_type": "code",
      "source": [
        "ord('k')"
      ],
      "metadata": {
        "colab": {
          "base_uri": "https://localhost:8080/"
        },
        "id": "IJdqNPkUs439",
        "outputId": "84b61781-a0c3-4949-aec8-e2d813e08f32"
      },
      "execution_count": 9,
      "outputs": [
        {
          "output_type": "execute_result",
          "data": {
            "text/plain": [
              "107"
            ]
          },
          "metadata": {},
          "execution_count": 9
        }
      ]
    }
  ]
}