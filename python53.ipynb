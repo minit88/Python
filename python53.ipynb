{
  "nbformat": 4,
  "nbformat_minor": 0,
  "metadata": {
    "colab": {
      "name": "python53.ipynb",
      "provenance": [],
      "authorship_tag": "ABX9TyOWejieSxSTu7sMFqzxoaI6",
      "include_colab_link": true
    },
    "kernelspec": {
      "name": "python3",
      "display_name": "Python 3"
    },
    "language_info": {
      "name": "python"
    }
  },
  "cells": [
    {
      "cell_type": "markdown",
      "metadata": {
        "id": "view-in-github",
        "colab_type": "text"
      },
      "source": [
        "<a href=\"https://colab.research.google.com/github/minit88/Python/blob/main/python53.ipynb\" target=\"_parent\"><img src=\"https://colab.research.google.com/assets/colab-badge.svg\" alt=\"Open In Colab\"/></a>"
      ]
    },
    {
      "cell_type": "code",
      "execution_count": 18,
      "metadata": {
        "colab": {
          "base_uri": "https://localhost:8080/"
        },
        "id": "oh1Wfgn6-ODM",
        "outputId": "c1b6c390-1977-4d33-eee7-17d94940411e"
      },
      "outputs": [
        {
          "name": "stdout",
          "output_type": "stream",
          "text": [
            "3 3\n",
            "1 0 2\n",
            "0 0 0\n",
            "3 0 0\n",
            "2 3 2\n"
          ]
        },
        {
          "output_type": "execute_result",
          "data": {
            "text/plain": [
              "3"
            ]
          },
          "metadata": {},
          "execution_count": 18
        }
      ],
      "source": [
        "from collections import deque\n",
        "#백준18405\n",
        "\n",
        "n,k = map(int,input().split())\n",
        "array = [] # 배열구조를 담을 리스트\n",
        "data=[]\n",
        "for i in range(n):\n",
        "  array.append(list(map(int,input().split())))\n",
        "  for j in range(n):\n",
        "    if array[i][j]!=0:\n",
        "      data.append((array[i][j],i,j,0))\n",
        "data.sort()\n",
        "q=deque(data)\n",
        "    \n",
        "\n",
        "dx = [-1,0,1,0]\n",
        "dy = [0,1,0,-1]\n",
        "s,x,y = map(int,input().split())\n",
        "\n",
        "while q:\n",
        "        virus,x1,y1,time = q.popleft()\n",
        "        if time == s : # k== second 일 때 종료\n",
        "          break \n",
        "        for i in range(4):\n",
        "          nx = x1+dx[i]\n",
        "          ny = y1+dy[i]\n",
        "          if 0<=nx<n and 0<=ny<n:\n",
        "            if array[nx][ny]==0:\n",
        "              q.append((virus,nx,ny,time+1))\n",
        "              array[nx][ny]=virus\n",
        "\n",
        "print(array[x-1][y-1])\n",
        "\n",
        "\n",
        "\n",
        "\n",
        "\n",
        "          \n"
      ]
    },
    {
      "cell_type": "code",
      "source": [
        "for i in range(1,4):\n",
        "  print(i)"
      ],
      "metadata": {
        "colab": {
          "base_uri": "https://localhost:8080/"
        },
        "id": "Q8LJEwB0Auqw",
        "outputId": "d9de29f3-4fed-484d-b832-507772fdee69"
      },
      "execution_count": 1,
      "outputs": [
        {
          "output_type": "stream",
          "name": "stdout",
          "text": [
            "1\n",
            "2\n",
            "3\n"
          ]
        }
      ]
    }
  ]
}