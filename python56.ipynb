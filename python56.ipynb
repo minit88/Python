{
  "nbformat": 4,
  "nbformat_minor": 0,
  "metadata": {
    "colab": {
      "name": "python56.ipynb",
      "provenance": [],
      "authorship_tag": "ABX9TyMxGosMCfGrvexp2V5Jwa3m",
      "include_colab_link": true
    },
    "kernelspec": {
      "name": "python3",
      "display_name": "Python 3"
    },
    "language_info": {
      "name": "python"
    }
  },
  "cells": [
    {
      "cell_type": "markdown",
      "metadata": {
        "id": "view-in-github",
        "colab_type": "text"
      },
      "source": [
        "<a href=\"https://colab.research.google.com/github/minit88/Python/blob/main/python56.ipynb\" target=\"_parent\"><img src=\"https://colab.research.google.com/assets/colab-badge.svg\" alt=\"Open In Colab\"/></a>"
      ]
    },
    {
      "cell_type": "code",
      "execution_count": 32,
      "metadata": {
        "colab": {
          "base_uri": "https://localhost:8080/"
        },
        "id": "eXgtJqk4GLQd",
        "outputId": "3e50d436-00e9-4b0e-f14d-56d5e374b9f8"
      },
      "outputs": [
        {
          "output_type": "stream",
          "name": "stdout",
          "text": [
            "4\n",
            "S S S T\n",
            "X X X X\n",
            "X X X X\n",
            "T T T X\n",
            "NO\n"
          ]
        }
      ],
      "source": [
        "from collections import deque\n",
        "from itertools import combinations\n",
        "from copy import deepcopy\n",
        "#백준 18428 감시피하기기\n",
        "\n",
        "\n",
        "n = int(input())\n",
        "array =[]\n",
        "for i in range(n):\n",
        "  array.append(list(map(str,input().split())))\n",
        "a=[] # 벽\n",
        "b=[] #선생님\n",
        "dx=[-1,0,1,0]\n",
        "dy=[0,1,0,-1]\n",
        "students=0\n",
        "result ='NO'\n",
        "\n",
        "#특정 방향으로 직진\n",
        "def abc (a2,b2,k): \n",
        "    nx = a2 + dx[k]\n",
        "    ny = b2 + dy[k]\n",
        "    if 0<=nx<n and 0<=ny<n:\n",
        "      if array2[nx][ny]!='O':\n",
        "          array2[nx][ny]='T'\n",
        "          abc(nx,ny,k)\n",
        "\n",
        "for i in range(n):\n",
        "  for j in range(n) :\n",
        "    if array[i][j] == 'X':\n",
        "      a.append((i,j))\n",
        "    if array[i][j]== 'T':\n",
        "      b.append((i,j))\n",
        "    if array[i][j]=='S':\n",
        "      students+=1\n",
        "\n",
        "a=list(combinations(a,3))\n",
        "\n",
        "for i in a: #세개의 벽 설치한 경우마다 반복\n",
        "  q=deque(b)\n",
        "  array2 = deepcopy(array)\n",
        "  for j in i:\n",
        "    x,y = j\n",
        "    array2[x][y]='O'\n",
        "  while q:\n",
        "   a1,b1 =q.popleft()\n",
        "   for k in range(4):\n",
        "     abc(a1,b1,k)\n",
        "    \n",
        "  count=0       \n",
        "  for i in array2:\n",
        "    for j in i:\n",
        "      if j == 'S' : \n",
        "        count+=1\n",
        "  if count == students:\n",
        "    result ='YES'\n",
        "    break\n",
        "print(result)\n",
        "\n"
      ]
    }
  ]
}