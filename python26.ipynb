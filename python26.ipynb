{
  "nbformat": 4,
  "nbformat_minor": 0,
  "metadata": {
    "colab": {
      "name": "python26.ipynb",
      "provenance": [],
      "authorship_tag": "ABX9TyOgz9AHoZp6LNv/9Sj3qxKI",
      "include_colab_link": true
    },
    "kernelspec": {
      "name": "python3",
      "display_name": "Python 3"
    },
    "language_info": {
      "name": "python"
    }
  },
  "cells": [
    {
      "cell_type": "markdown",
      "metadata": {
        "id": "view-in-github",
        "colab_type": "text"
      },
      "source": [
        "<a href=\"https://colab.research.google.com/github/minit88/Python/blob/main/python26.ipynb\" target=\"_parent\"><img src=\"https://colab.research.google.com/assets/colab-badge.svg\" alt=\"Open In Colab\"/></a>"
      ]
    },
    {
      "cell_type": "code",
      "execution_count": 1,
      "metadata": {
        "colab": {
          "base_uri": "https://localhost:8080/"
        },
        "id": "LG2WnRKa-awK",
        "outputId": "88a11127-ae01-41cc-b8f6-979f082a9372"
      },
      "outputs": [
        {
          "output_type": "stream",
          "name": "stdout",
          "text": [
            "3\n"
          ]
        }
      ],
      "source": [
        "#피보나치 함수를 재귀 함수로 구현\n",
        "def fibo(x):\n",
        "  if x==1 or x==2:\n",
        "    return 1\n",
        "  return fibo(x-1)+fibo(x-2)\n",
        "print(fibo(4))"
      ]
    },
    {
      "cell_type": "code",
      "source": [
        "#피보나치 수열 소스코드(재귀적)\n",
        "\n",
        "\n",
        "#한 번 계산된 결과를 메모이제이션하기 위한 리스트 초기화\n",
        "d = [0]*100\n",
        "#피보나치 함수를 재귀 함수로 구현(탑다운 다이나믹 프로그래밍)\n",
        "def fibo(x):\n",
        "  #종료 조건(1 혹은 2일 때 1을 반환)\n",
        "  if x==1 or x==2:\n",
        "    return 1\n",
        "  #이미 계산한 적 있는 문제라면 그대로 반환\n",
        "  if d[x]!=0:\n",
        "    return d[x]\n",
        "  d[x] = fibo(x-1)+fibo(x-2)\n",
        "  return d[x]\n",
        "\n",
        "print(fibo(99))"
      ],
      "metadata": {
        "colab": {
          "base_uri": "https://localhost:8080/"
        },
        "id": "2KYma_VM_2JW",
        "outputId": "030f99bf-b98c-4c5d-b1b0-0a7b618517bc"
      },
      "execution_count": 2,
      "outputs": [
        {
          "output_type": "stream",
          "name": "stdout",
          "text": [
            "218922995834555169026\n"
          ]
        }
      ]
    },
    {
      "cell_type": "code",
      "source": [
        "#피보나치 수열 소스코드(Bottom-Up)\n",
        "\n",
        "d=[0]*100\n",
        "\n",
        "d[1]=1\n",
        "d[2]=1\n",
        "n=99\n",
        "\n",
        "for i in range(3,n+1):\n",
        "  d[i]=d[i-1]+d[i-2]\n",
        "\n",
        "print(d[n]) "
      ],
      "metadata": {
        "colab": {
          "base_uri": "https://localhost:8080/"
        },
        "id": "cWRjzELUAvyC",
        "outputId": "61b04d5c-704e-46ec-b0a9-5e58d9f03cc3"
      },
      "execution_count": 5,
      "outputs": [
        {
          "output_type": "stream",
          "name": "stdout",
          "text": [
            "218922995834555169026\n"
          ]
        }
      ]
    }
  ]
}