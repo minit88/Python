{
  "nbformat": 4,
  "nbformat_minor": 0,
  "metadata": {
    "colab": {
      "name": "python69.ipynb",
      "provenance": [],
      "authorship_tag": "ABX9TyMtoEmFZnJWB874256zlTlU",
      "include_colab_link": true
    },
    "kernelspec": {
      "name": "python3",
      "display_name": "Python 3"
    },
    "language_info": {
      "name": "python"
    }
  },
  "cells": [
    {
      "cell_type": "markdown",
      "metadata": {
        "id": "view-in-github",
        "colab_type": "text"
      },
      "source": [
        "<a href=\"https://colab.research.google.com/github/minit88/Python/blob/main/python69.ipynb\" target=\"_parent\"><img src=\"https://colab.research.google.com/assets/colab-badge.svg\" alt=\"Open In Colab\"/></a>"
      ]
    },
    {
      "cell_type": "code",
      "execution_count": 39,
      "metadata": {
        "colab": {
          "base_uri": "https://localhost:8080/"
        },
        "id": "7zuy9eAdkxbi",
        "outputId": "cea2d6c5-e275-48ee-f43f-755893b8f4ed"
      },
      "outputs": [
        {
          "output_type": "stream",
          "name": "stdout",
          "text": [
            "10\n",
            "5 50\n",
            "4 40\n",
            "3 30\n",
            "2 20\n",
            "1 10\n",
            "1 10\n",
            "2 20\n",
            "3 30\n",
            "4 40\n",
            "5 50\n",
            "90\n"
          ]
        }
      ],
      "source": [
        "#백준 14501\n",
        "n=int(input())\n",
        "dp = [0]*(n+1)\n",
        "t = []\n",
        "p = []\n",
        "max_value=0\n",
        "for _ in range(n):\n",
        "  a,b=map(int,input().split())\n",
        "  t.append(a)\n",
        "  p.append(b)\n",
        "\n",
        "for i in range(n-1,-1,-1):\n",
        "  time = t[i]+i\n",
        "  if time <=n:\n",
        "    dp[i]=max(p[i]+dp[time],max_value)\n",
        "    max_value=dp[i]\n",
        "  else:\n",
        "    dp[i]=max_value\n",
        "\n",
        "print(max_value)\n",
        " \n"
      ]
    }
  ]
}