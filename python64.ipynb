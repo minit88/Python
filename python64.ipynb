{
  "nbformat": 4,
  "nbformat_minor": 0,
  "metadata": {
    "colab": {
      "name": "python64.ipynb",
      "provenance": [],
      "authorship_tag": "ABX9TyMPWG6vzrXGt0vOxnn060Hw",
      "include_colab_link": true
    },
    "kernelspec": {
      "name": "python3",
      "display_name": "Python 3"
    },
    "language_info": {
      "name": "python"
    }
  },
  "cells": [
    {
      "cell_type": "markdown",
      "metadata": {
        "id": "view-in-github",
        "colab_type": "text"
      },
      "source": [
        "<a href=\"https://colab.research.google.com/github/minit88/Python/blob/main/python64.ipynb\" target=\"_parent\"><img src=\"https://colab.research.google.com/assets/colab-badge.svg\" alt=\"Open In Colab\"/></a>"
      ]
    },
    {
      "cell_type": "code",
      "execution_count": 11,
      "metadata": {
        "colab": {
          "base_uri": "https://localhost:8080/"
        },
        "id": "YfOH_hhQymhH",
        "outputId": "c08ff682-f3bc-4806-8d73-d4b40d5f4f41"
      },
      "outputs": [
        {
          "output_type": "stream",
          "name": "stdout",
          "text": [
            "7 2\n",
            "1 1 2 2 2 2 3\n",
            "4\n"
          ]
        }
      ],
      "source": [
        "#정렬된 배열에서 특정 수의 개수 구하기\n",
        "\n",
        "n,x = map(int,input().split())\n",
        "array =list(map(int,input().split()))\n",
        "\n",
        "def count_value(array,x):\n",
        "  n=len(array)\n",
        "\n",
        "  #a가 처음 등장한 인덱스 계산\n",
        "  a= first(array,x,0,n-1)\n",
        "\n",
        "  #수열에 x가 존재하지 않는 경우\n",
        "  if a == None:\n",
        "    return 0\n",
        "  \n",
        "  b= last(array,x,0,n-1)\n",
        "  \n",
        "  return b-a+1\n",
        "\n",
        "def first(array,target,start,end):\n",
        "  if start>end:\n",
        "    return None\n",
        "\n",
        "  mid = (start + end)//2\n",
        "\n",
        "  #타겟의 인덱스가 가장 왼쪽에서 시작하는 경우\n",
        "  if (mid ==0 or array[mid-1]<target) and array[mid]==target : \n",
        "    return mid\n",
        "  \n",
        "  #타겟보다 중간값이 작을 때\n",
        "  elif array[mid]<target :\n",
        "    return first(array,target,mid+1,end)\n",
        "\n",
        "  #타겟보다 중간값이 크거나 같을 때\n",
        "  elif array[mid]>=target:\n",
        "    return first(array,target,start,mid-1)\n",
        "\n",
        "def last(array,target,start,end):\n",
        "  if start>end:\n",
        "    return None\n",
        "  mid = (start + end)//2\n",
        "\n",
        "\n",
        "  #타겟의 인덱스가 가장 오른쪽에서 끝나는 경우\n",
        "  if (mid ==n-1 or array[mid+1]>target) and array[mid]==target : \n",
        "    return mid\n",
        "  \n",
        "\n",
        "  elif array[mid]>target :\n",
        "    return last(array,target,start,mid-1)\n",
        "\n",
        "  else:\n",
        "    return last(array,target,mid+1,end)\n",
        "  \n",
        "print(count_value(array,x))\n",
        "\n",
        "  \n",
        "\n"
      ]
    }
  ]
}