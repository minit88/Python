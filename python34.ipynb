{
  "nbformat": 4,
  "nbformat_minor": 0,
  "metadata": {
    "colab": {
      "name": "python34.ipynb",
      "provenance": [],
      "authorship_tag": "ABX9TyPvVfF54Nip2PjXXooTefto",
      "include_colab_link": true
    },
    "kernelspec": {
      "name": "python3",
      "display_name": "Python 3"
    },
    "language_info": {
      "name": "python"
    }
  },
  "cells": [
    {
      "cell_type": "markdown",
      "metadata": {
        "id": "view-in-github",
        "colab_type": "text"
      },
      "source": [
        "<a href=\"https://colab.research.google.com/github/minit88/Python/blob/main/python34.ipynb\" target=\"_parent\"><img src=\"https://colab.research.google.com/assets/colab-badge.svg\" alt=\"Open In Colab\"/></a>"
      ]
    },
    {
      "cell_type": "code",
      "execution_count": 8,
      "metadata": {
        "colab": {
          "base_uri": "https://localhost:8080/"
        },
        "id": "PWr-RIMBrNvk",
        "outputId": "b8ef6c8b-84b0-4117-dbb8-c94514aa80d4"
      },
      "outputs": [
        {
          "output_type": "stream",
          "name": "stdout",
          "text": [
            "5 7\n",
            "1 2\n",
            "1 3\n",
            "1 4\n",
            "2 4\n",
            "3 4\n",
            "3 5\n",
            "4 5\n",
            "4 5\n",
            "3\n"
          ]
        }
      ],
      "source": [
        "#전체회사 개수 n , 경로의 개수 m을 입력받는다.\n",
        "n,m = map(int,input().split())\n",
        "#무한대 선언\n",
        "INF = int(1e9)\n",
        "#초기값 무한대로 설정 \n",
        "graph=[[INF]*(n+1) for _ in range(n+1)]\n",
        "\n",
        "#대각선의 원소 값을 0으로 ->자기 자신으로 가서 올 때는 거리 0\n",
        "for a in range(1,n+1):\n",
        "  for b in range(1,n+1):\n",
        "    if a==b:\n",
        "      graph[a][b]=0\n",
        "#간선 정보를 받고, 서로 이어져있으니 값 1씩 , 이어져 있지 않으면 그대로 무한대\n",
        "for i in range(m):\n",
        "  a,b = map(int,input().split())\n",
        "  graph[a][b]=1\n",
        "  graph[b][a]=1\n",
        "#도달해야하는 회사 x , 거쳐가야하는 회사 k\n",
        "x,k = map(int,input().split())  \n",
        "\n",
        "#플로이드 워셜\n",
        "for k in range(1,n+1):\n",
        "  for a in range(1,n+1):\n",
        "    for b in range(1,n+1):\n",
        "      graph[a][b]=min(graph[a][b],graph[a][k]+graph[k][b])\n",
        "\n",
        "distance= graph[1][k]+graph[k][x]\n",
        "if distance >= INF:\n",
        "  print(-1)\n",
        "else:\n",
        "  print(distance)\n",
        "\n",
        "\n"
      ]
    }
  ]
}