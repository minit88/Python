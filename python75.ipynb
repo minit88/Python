{
  "nbformat": 4,
  "nbformat_minor": 0,
  "metadata": {
    "colab": {
      "name": "python75.ipynb",
      "provenance": [],
      "authorship_tag": "ABX9TyPm9Q7gf8SzozMhZASo+yN0",
      "include_colab_link": true
    },
    "kernelspec": {
      "name": "python3",
      "display_name": "Python 3"
    },
    "language_info": {
      "name": "python"
    }
  },
  "cells": [
    {
      "cell_type": "markdown",
      "metadata": {
        "id": "view-in-github",
        "colab_type": "text"
      },
      "source": [
        "<a href=\"https://colab.research.google.com/github/minit88/Python/blob/main/python75.ipynb\" target=\"_parent\"><img src=\"https://colab.research.google.com/assets/colab-badge.svg\" alt=\"Open In Colab\"/></a>"
      ]
    },
    {
      "cell_type": "code",
      "execution_count": 11,
      "metadata": {
        "colab": {
          "base_uri": "https://localhost:8080/"
        },
        "id": "D_93sXKC4Toz",
        "outputId": "9910a046-00e1-40cb-9fcb-3630777a1d13"
      },
      "outputs": [
        {
          "output_type": "stream",
          "name": "stdout",
          "text": [
            "1\n",
            "3\n",
            "5 5 4\n",
            "3 9 1\n",
            "3 2 7\n",
            "20\n"
          ]
        }
      ],
      "source": [
        "#화성탐사\n",
        "import heapq\n",
        "\n",
        "t= int(input())\n",
        "INF = int (1e9)\n",
        "result = []\n",
        "dx = [-1,0,1,0]\n",
        "dy = [0,1,0,-1]\n",
        "for i in range(t):\n",
        "  n=int(input())\n",
        "  array=[[]*(n)for _ in range(n)]\n",
        "  distance=[[INF]*(n)for _ in range(n)]\n",
        "  for j in range(n):\n",
        "    array[j]=list(map(int,input().split()))\n",
        "  q=[(array[0][0],0,0)]\n",
        "  distance[0][0]=array[0][0]\n",
        "  while q:\n",
        "    dist , x, y = heapq.heappop(q)\n",
        "    if distance[x][y] < dist : # 처리된 적이 있으면\n",
        "      continue\n",
        "    for d in range(4):\n",
        "      nx = x + dx[d]\n",
        "      ny = y + dy[d]\n",
        "      if nx<0 or nx>=n or ny <0 or ny>=n :\n",
        "        continue\n",
        "      cost = dist + array[nx][ny]\n",
        "      if cost < distance[nx][ny]: # 최소 이동거리일 경우에만 갱신해줌\n",
        "        distance[nx][ny]=cost\n",
        "        heapq.heappush(q,(cost,nx,ny))\n",
        "        \n",
        "  print(distance[n-1][n-1])\n"
      ]
    }
  ]
}