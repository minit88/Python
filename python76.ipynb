{
  "nbformat": 4,
  "nbformat_minor": 0,
  "metadata": {
    "colab": {
      "name": "python76.ipynb",
      "provenance": [],
      "authorship_tag": "ABX9TyMLT9Ncy8Mm3Un+wEesCDNc",
      "include_colab_link": true
    },
    "kernelspec": {
      "name": "python3",
      "display_name": "Python 3"
    },
    "language_info": {
      "name": "python"
    }
  },
  "cells": [
    {
      "cell_type": "markdown",
      "metadata": {
        "id": "view-in-github",
        "colab_type": "text"
      },
      "source": [
        "<a href=\"https://colab.research.google.com/github/minit88/Python/blob/main/python76.ipynb\" target=\"_parent\"><img src=\"https://colab.research.google.com/assets/colab-badge.svg\" alt=\"Open In Colab\"/></a>"
      ]
    },
    {
      "cell_type": "code",
      "execution_count": 7,
      "metadata": {
        "colab": {
          "base_uri": "https://localhost:8080/"
        },
        "id": "xN6qizkZdDWi",
        "outputId": "4e33800a-8d3a-498a-b5fa-0ac23cf46f0f"
      },
      "outputs": [
        {
          "output_type": "stream",
          "name": "stdout",
          "text": [
            "6 7\n",
            "3 6\n",
            "4 3\n",
            "3 2\n",
            "1 3\n",
            "1 2\n",
            "2 4\n",
            "5 2\n",
            "4 2 3\n"
          ]
        }
      ],
      "source": [
        "import heapq\n",
        "# 숨바꼭질풀이\n",
        "n,m = map(int,input().split())\n",
        "\n",
        "array =[[]for _ in range(1+n)] #간선 정보를 입력할 리스트\n",
        "inf = int(1e9)\n",
        "distance =[inf]*(n+1)\n",
        "\n",
        "for i in range(m):\n",
        "  x,y = map(int,input().split())\n",
        "  array[x].append(y)\n",
        "  array[y].append(x)\n",
        "\n",
        "q=[(0,1)]\n",
        "distance[1] =0\n",
        "while q:\n",
        "  dist,now_node = heapq.heappop(q)\n",
        "  for next_node in array[now_node]: # 현재 노드와 연결된 노드 확인\n",
        "    if dist> distance[next_node]: #처리된 적이 있는 경우 판단\n",
        "      continue  \n",
        "    if distance[next_node]> dist+1:\n",
        "      distance[next_node] = dist+1\n",
        "      heapq.heappush(q,(dist+1,next_node))\n",
        "\n",
        "for i in range(n+1):\n",
        "  if distance[i] == inf :\n",
        "    distance[i]=-1\n",
        "max_node = max(distance)\n",
        "result1 = inf\n",
        "result2 = max_node\n",
        "result3 =0\n",
        "for i in range(1,n+1):\n",
        "  if max_node == distance[i]:\n",
        "    result1 = min(i,result1)\n",
        "    result3+=1\n",
        "\n",
        "\n",
        "\n",
        "      \n",
        "print(result1,result2,result3)  \n",
        "\n",
        "\n"
      ]
    }
  ]
}