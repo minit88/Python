{
  "nbformat": 4,
  "nbformat_minor": 0,
  "metadata": {
    "colab": {
      "name": "python52.ipynb",
      "provenance": [],
      "authorship_tag": "ABX9TyOdvLiGKjDiCzcTV09KUC3R",
      "include_colab_link": true
    },
    "kernelspec": {
      "name": "python3",
      "display_name": "Python 3"
    },
    "language_info": {
      "name": "python"
    }
  },
  "cells": [
    {
      "cell_type": "markdown",
      "metadata": {
        "id": "view-in-github",
        "colab_type": "text"
      },
      "source": [
        "<a href=\"https://colab.research.google.com/github/minit88/Python/blob/main/python52.ipynb\" target=\"_parent\"><img src=\"https://colab.research.google.com/assets/colab-badge.svg\" alt=\"Open In Colab\"/></a>"
      ]
    },
    {
      "cell_type": "code",
      "execution_count": null,
      "metadata": {
        "id": "8_vaEy1LWuc6"
      },
      "outputs": [],
      "source": [
        "from itertools import combinations\n",
        "from collections import deque\n",
        "from copy import deepcopy\n",
        "#백준 14502 연구소 (조합과 딥카피를 이용)\n",
        "\n",
        "n,m = map(int,input().split())\n",
        "array= []\n",
        "for i in range(n):\n",
        "    array.append(list(map(int,input().split())))\n",
        "count=0\n",
        "result=0\n",
        "\n",
        "dd=[] # 빈공간만 적재\n",
        "virus =[] # 바이러스만 적재\n",
        "for i in range(n):\n",
        "  for j in range(m):\n",
        "    if array[i][j] ==0:\n",
        "      dd.append((i,j))\n",
        "    if array[i][j]==2:\n",
        "      virus.append((i,j))\n",
        "ab = list(combinations(dd,3)) #벽을 3개 세울 조합\n",
        "dx = [-1,0,1,0]\n",
        "dy=  [0,1,0,-1]\n",
        "\n",
        "def virus_1(i):\n",
        "  count=0\n",
        "  q=deque(virus) #바이러스를 큐에 담기\n",
        "  dd=deepcopy(array)\n",
        "  #벽 세우기\n",
        "  for j in i:\n",
        "    a,b = j\n",
        "    dd[a][b]=1\n",
        "  #바이러스 확산\n",
        "  while q:\n",
        "    x,y=q.popleft()\n",
        "    for i in range(4):\n",
        "      nx = x+ dx[i]\n",
        "      ny= y+ dy[i]\n",
        "      #바이러스가 퍼질 수 있으면\n",
        "      if 0<=nx<n and 0<=ny <m : \n",
        "        if dd[nx][ny] == 0:\n",
        "          q.append((nx,ny)) #다음 노드를 큐에 담기\n",
        "          dd[nx][ny]=2 #다음 노드에 바이러스\n",
        "  #안전한 공간 세기        \n",
        "  for i in range(n):\n",
        "    for j in range(m):\n",
        "      if dd[i][j] == 0:\n",
        "        count+=1\n",
        "\n",
        "  return count\n",
        "\n",
        "\n",
        "#ab는 벽 3개 조합    \n",
        "for i in ab:\n",
        "  count=max(count,virus_1(i))\n",
        "print(count)\n",
        "\n",
        "  \n",
        "\n",
        "\n",
        "  \n",
        "\n",
        "\n",
        "\n",
        "\n",
        "\n"
      ]
    }
  ]
}