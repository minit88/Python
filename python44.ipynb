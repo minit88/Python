{
  "nbformat": 4,
  "nbformat_minor": 0,
  "metadata": {
    "colab": {
      "name": "python44.ipynb",
      "provenance": [],
      "authorship_tag": "ABX9TyMmu/anDvL0vw12Bcpvwq6p",
      "include_colab_link": true
    },
    "kernelspec": {
      "name": "python3",
      "display_name": "Python 3"
    },
    "language_info": {
      "name": "python"
    }
  },
  "cells": [
    {
      "cell_type": "markdown",
      "metadata": {
        "id": "view-in-github",
        "colab_type": "text"
      },
      "source": [
        "<a href=\"https://colab.research.google.com/github/minit88/Python/blob/main/python44.ipynb\" target=\"_parent\"><img src=\"https://colab.research.google.com/assets/colab-badge.svg\" alt=\"Open In Colab\"/></a>"
      ]
    },
    {
      "cell_type": "code",
      "execution_count": 19,
      "metadata": {
        "colab": {
          "base_uri": "https://localhost:8080/"
        },
        "id": "2urZ_zBJBcIR",
        "outputId": "995b95ed-f8dd-48a2-9c7f-18af3cd31fdd"
      },
      "outputs": [
        {
          "output_type": "stream",
          "name": "stdout",
          "text": [
            "1010100001\n",
            "3\n"
          ]
        }
      ],
      "source": [
        "#문자열 뒤집기\n",
        "data = list(input())\n",
        "\n",
        "now= data[0]\n",
        "count=0\n",
        "abc= [0,0]\n",
        "if data[0]=='0':\n",
        "  abc[0]+=1\n",
        "else:\n",
        "  abc[1]+=1\n",
        "for i in range(1,len(data)):\n",
        "  if now != data[i]:\n",
        "    if now == '1':\n",
        "      abc[0]+=1\n",
        "      now = data[i]\n",
        "    elif now=='0':\n",
        "      abc[1]+=1\n",
        "      now = data[i]\n",
        "print(min(abc))\n",
        "    \n"
      ]
    }
  ]
}