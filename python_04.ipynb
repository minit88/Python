{
  "nbformat": 4,
  "nbformat_minor": 0,
  "metadata": {
    "colab": {
      "name": "python-04.ipynb",
      "provenance": [],
      "authorship_tag": "ABX9TyOLgRGlutf1qaou1y5ut9kO",
      "include_colab_link": true
    },
    "kernelspec": {
      "name": "python3",
      "display_name": "Python 3"
    },
    "language_info": {
      "name": "python"
    }
  },
  "cells": [
    {
      "cell_type": "markdown",
      "metadata": {
        "id": "view-in-github",
        "colab_type": "text"
      },
      "source": [
        "<a href=\"https://colab.research.google.com/github/minit88/Python/blob/main/python_04.ipynb\" target=\"_parent\"><img src=\"https://colab.research.google.com/assets/colab-badge.svg\" alt=\"Open In Colab\"/></a>"
      ]
    },
    {
      "cell_type": "code",
      "execution_count": 5,
      "metadata": {
        "colab": {
          "base_uri": "https://localhost:8080/"
        },
        "id": "vXmg03AJZmfO",
        "outputId": "779c0840-8cd4-436a-f992-94df3cb98cec"
      },
      "outputs": [
        {
          "output_type": "stream",
          "name": "stdout",
          "text": [
            "25 3\n",
            "6\n"
          ]
        }
      ],
      "source": [
        "n,k = map(int,input().split())\n",
        "result = 0\n",
        "\n",
        "if n>=k :\n",
        "  while True:\n",
        "    if n ==1:\n",
        "      break\n",
        "    elif n%k ==0:\n",
        "      n= int(n/k)\n",
        "    else:\n",
        "      n-=1\n",
        "    result+=1\n",
        "print (result)\n"
      ]
    }
  ]
}